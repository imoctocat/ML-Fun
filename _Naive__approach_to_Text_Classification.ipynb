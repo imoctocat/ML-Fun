{
  "nbformat": 4,
  "nbformat_minor": 0,
  "metadata": {
    "colab": {
      "name": "\"Naive\" approach to Text Classification",
      "version": "0.3.2",
      "views": {},
      "default_view": {},
      "provenance": []
    },
    "kernelspec": {
      "name": "python3",
      "display_name": "Python 3"
    },
    "accelerator": "GPU"
  },
  "cells": [
    {
      "metadata": {
        "id": "-7VOVRiOqHeB",
        "colab_type": "code",
        "colab": {
          "autoexec": {
            "startup": false,
            "wait_interval": 0
          }
        }
      },
      "cell_type": "code",
      "source": [
        "from sklearn.datasets import fetch_20newsgroups"
      ],
      "execution_count": 0,
      "outputs": []
    },
    {
      "metadata": {
        "id": "Hhzw7QDQqMqc",
        "colab_type": "code",
        "colab": {
          "autoexec": {
            "startup": false,
            "wait_interval": 0
          },
          "base_uri": "https://localhost:8080/",
          "height": 52
        },
        "outputId": "de17f382-a57a-45ab-ae25-d83406df3421",
        "executionInfo": {
          "status": "ok",
          "timestamp": 1527321191272,
          "user_tz": -330,
          "elapsed": 18346,
          "user": {
            "displayName": "Iresh Mishra",
            "photoUrl": "https://lh3.googleusercontent.com/a/default-user=s128",
            "userId": "113084233984419493374"
          }
        }
      },
      "cell_type": "code",
      "source": [
        "train=fetch_20newsgroups(subset='train',shuffle=True)"
      ],
      "execution_count": 2,
      "outputs": [
        {
          "output_type": "stream",
          "text": [
            "Downloading 20news dataset. This may take a few minutes.\n",
            "Downloading dataset from https://ndownloader.figshare.com/files/5975967 (14 MB)\n"
          ],
          "name": "stderr"
        }
      ]
    },
    {
      "metadata": {
        "id": "ikq9vGZ3sQmK",
        "colab_type": "code",
        "colab": {
          "autoexec": {
            "startup": false,
            "wait_interval": 0
          },
          "base_uri": "https://localhost:8080/",
          "height": 364
        },
        "outputId": "81dddad8-22fb-44bd-efdf-a2262ace0622",
        "executionInfo": {
          "status": "ok",
          "timestamp": 1527321226605,
          "user_tz": -330,
          "elapsed": 1681,
          "user": {
            "displayName": "Iresh Mishra",
            "photoUrl": "https://lh3.googleusercontent.com/a/default-user=s128",
            "userId": "113084233984419493374"
          }
        }
      },
      "cell_type": "code",
      "source": [
        "#Class Names\n",
        "train.target_names"
      ],
      "execution_count": 3,
      "outputs": [
        {
          "output_type": "execute_result",
          "data": {
            "text/plain": [
              "['alt.atheism',\n",
              " 'comp.graphics',\n",
              " 'comp.os.ms-windows.misc',\n",
              " 'comp.sys.ibm.pc.hardware',\n",
              " 'comp.sys.mac.hardware',\n",
              " 'comp.windows.x',\n",
              " 'misc.forsale',\n",
              " 'rec.autos',\n",
              " 'rec.motorcycles',\n",
              " 'rec.sport.baseball',\n",
              " 'rec.sport.hockey',\n",
              " 'sci.crypt',\n",
              " 'sci.electronics',\n",
              " 'sci.med',\n",
              " 'sci.space',\n",
              " 'soc.religion.christian',\n",
              " 'talk.politics.guns',\n",
              " 'talk.politics.mideast',\n",
              " 'talk.politics.misc',\n",
              " 'talk.religion.misc']"
            ]
          },
          "metadata": {
            "tags": []
          },
          "execution_count": 3
        }
      ]
    },
    {
      "metadata": {
        "id": "_nYBiUBQsVuF",
        "colab_type": "code",
        "colab": {
          "autoexec": {
            "startup": false,
            "wait_interval": 0
          },
          "base_uri": "https://localhost:8080/",
          "height": 833
        },
        "outputId": "00120417-a7ff-4ae0-d8b8-88c2c6a902ca",
        "executionInfo": {
          "status": "ok",
          "timestamp": 1527321595411,
          "user_tz": -330,
          "elapsed": 1256,
          "user": {
            "displayName": "Iresh Mishra",
            "photoUrl": "https://lh3.googleusercontent.com/a/default-user=s128",
            "userId": "113084233984419493374"
          }
        }
      },
      "cell_type": "code",
      "source": [
        "print(train.data[2501])\n",
        "print(train.target[2501])"
      ],
      "execution_count": 16,
      "outputs": [
        {
          "output_type": "stream",
          "text": [
            "From: johnh@macadam.mpce.mq.edu.au (John Haddy)\n",
            "Subject: Re: HC11 blues -> no can find\n",
            "Organization: Macquarie University\n",
            "Lines: 38\n",
            "Distribution: world\n",
            "NNTP-Posting-Host: macadam.mpce.mq.edu.au\n",
            "\n",
            "In article <pat.734048757@fegmania.wustl.edu>, pat@fegmania (Patrick Niemeyer) writes:\n",
            "|> ree88132@zach.fit.edu (Keith Ledig) writes:\n",
            "|> \n",
            "|> >was told by other people that it just takes a long time.  I heard\n",
            "|> >rumors that the HC11 is very hard to get these days and is being\n",
            "|> >replaced by the 711 series.  The sales person is trying to push\n",
            "|> >the 711.  Can someone please tell me what is going on with these\n",
            "|> >microcontrollers.  I can't seem to get a straight answer.\n",
            "|> \n",
            "|> I too had trouble finding hc11's when I looked for them a while back.\n",
            "|> I'd be interesting in hearing if anyone knows about their availability now...\n",
            "|> \n",
            "|> Thanks,\n",
            "|> Pat\n",
            "\n",
            "\n",
            "The HC711 is an EPROM version of the HC11. Raw HC11 parts have factory set\n",
            "ROM images, and as such are useless to the hobbyist. HC811 parts have\n",
            "EEPROM, allowing for electrical erasure and reprogramming.\n",
            "\n",
            "Some Motorola parts (such as the HC705K1) have EPROM, making them user\n",
            "programmable, but come with options of either windowed or sealed. The\n",
            "more expensive windowed packages allow multiple use, the plastic dip\n",
            "varieties are one-time programmable, since there is no way of exposing\n",
            "the EPROM array to light.\n",
            "\n",
            "JohnH\n",
            "\n",
            "----------------------------------------------------------------------------\n",
            "\n",
            "      |  _  |_   _   |_|  _   _|  _|              Electronics Department\n",
            "    |_| (_) | | | |  | | (_| (_| (_| \\/           School of MPCE\n",
            "    ---------------------------------/-           Macquarie University\n",
            "                                                  Sydney, AUSTRALIA 2109\n",
            "\n",
            "    Email: johnh@mpce.mq.edu.au, Ph: +61 2 805 8959, Fax: +61 2 805 8983\n",
            "\n",
            "----------------------------------------------------------------------------\n",
            "\n",
            "12\n"
          ],
          "name": "stdout"
        }
      ]
    },
    {
      "metadata": {
        "id": "z2ut3491ti5n",
        "colab_type": "code",
        "colab": {
          "autoexec": {
            "startup": false,
            "wait_interval": 0
          },
          "base_uri": "https://localhost:8080/",
          "height": 34
        },
        "outputId": "335ba0ac-fa06-4e65-e3db-f9245a224a58",
        "executionInfo": {
          "status": "ok",
          "timestamp": 1527321629035,
          "user_tz": -330,
          "elapsed": 1854,
          "user": {
            "displayName": "Iresh Mishra",
            "photoUrl": "https://lh3.googleusercontent.com/a/default-user=s128",
            "userId": "113084233984419493374"
          }
        }
      },
      "cell_type": "code",
      "source": [
        "print(train.target_names[12])"
      ],
      "execution_count": 17,
      "outputs": [
        {
          "output_type": "stream",
          "text": [
            "sci.electronics\n"
          ],
          "name": "stdout"
        }
      ]
    },
    {
      "metadata": {
        "id": "gXT99LQQdokw",
        "colab_type": "code",
        "colab": {
          "autoexec": {
            "startup": false,
            "wait_interval": 0
          }
        }
      },
      "cell_type": "code",
      "source": [
        "from sklearn.feature_extraction.text import CountVectorizer"
      ],
      "execution_count": 0,
      "outputs": []
    },
    {
      "metadata": {
        "id": "_6XBEiK0eJ8X",
        "colab_type": "code",
        "colab": {
          "autoexec": {
            "startup": false,
            "wait_interval": 0
          }
        }
      },
      "cell_type": "code",
      "source": [
        "count_vect=CountVectorizer()"
      ],
      "execution_count": 0,
      "outputs": []
    },
    {
      "metadata": {
        "id": "UqfMmpTleZKr",
        "colab_type": "code",
        "colab": {
          "autoexec": {
            "startup": false,
            "wait_interval": 0
          }
        }
      },
      "cell_type": "code",
      "source": [
        "X_counts=count_vect.fit_transform(train.data)"
      ],
      "execution_count": 0,
      "outputs": []
    },
    {
      "metadata": {
        "id": "MRE5JuD9eoN1",
        "colab_type": "code",
        "colab": {
          "autoexec": {
            "startup": false,
            "wait_interval": 0
          },
          "base_uri": "https://localhost:8080/",
          "height": 34
        },
        "outputId": "136d7938-f532-42f4-f0da-424a3b340b00",
        "executionInfo": {
          "status": "ok",
          "timestamp": 1527321973693,
          "user_tz": -330,
          "elapsed": 975,
          "user": {
            "displayName": "Iresh Mishra",
            "photoUrl": "https://lh3.googleusercontent.com/a/default-user=s128",
            "userId": "113084233984419493374"
          }
        }
      },
      "cell_type": "code",
      "source": [
        "X_counts.shape"
      ],
      "execution_count": 25,
      "outputs": [
        {
          "output_type": "execute_result",
          "data": {
            "text/plain": [
              "(11314, 130107)"
            ]
          },
          "metadata": {
            "tags": []
          },
          "execution_count": 25
        }
      ]
    },
    {
      "metadata": {
        "id": "2WeOLfRDe88j",
        "colab_type": "code",
        "colab": {
          "autoexec": {
            "startup": false,
            "wait_interval": 0
          }
        }
      },
      "cell_type": "code",
      "source": [
        "#Tf-idf\n",
        "from sklearn.feature_extraction.text import TfidfTransformer\n"
      ],
      "execution_count": 0,
      "outputs": []
    },
    {
      "metadata": {
        "id": "-5WGpBbhfs8z",
        "colab_type": "code",
        "colab": {
          "autoexec": {
            "startup": false,
            "wait_interval": 0
          }
        }
      },
      "cell_type": "code",
      "source": [
        "tfidf=TfidfTransformer()"
      ],
      "execution_count": 0,
      "outputs": []
    },
    {
      "metadata": {
        "id": "zB4hqYVBfxHG",
        "colab_type": "code",
        "colab": {
          "autoexec": {
            "startup": false,
            "wait_interval": 0
          }
        }
      },
      "cell_type": "code",
      "source": [
        "X_tfidf=tfidf.fit_transform(X_counts)"
      ],
      "execution_count": 0,
      "outputs": []
    },
    {
      "metadata": {
        "id": "vvIf4QqHgKP-",
        "colab_type": "code",
        "colab": {
          "autoexec": {
            "startup": false,
            "wait_interval": 0
          },
          "base_uri": "https://localhost:8080/",
          "height": 34
        },
        "outputId": "290d52e6-0f1a-450c-960c-fa9f043ac547",
        "executionInfo": {
          "status": "ok",
          "timestamp": 1527322304353,
          "user_tz": -330,
          "elapsed": 906,
          "user": {
            "displayName": "Iresh Mishra",
            "photoUrl": "https://lh3.googleusercontent.com/a/default-user=s128",
            "userId": "113084233984419493374"
          }
        }
      },
      "cell_type": "code",
      "source": [
        "X_tfidf.shape"
      ],
      "execution_count": 29,
      "outputs": [
        {
          "output_type": "execute_result",
          "data": {
            "text/plain": [
              "(11314, 130107)"
            ]
          },
          "metadata": {
            "tags": []
          },
          "execution_count": 29
        }
      ]
    },
    {
      "metadata": {
        "id": "bbeHu_R3gNsD",
        "colab_type": "code",
        "colab": {
          "autoexec": {
            "startup": false,
            "wait_interval": 0
          }
        }
      },
      "cell_type": "code",
      "source": [
        "from sklearn.naive_bayes import MultinomialNB\n"
      ],
      "execution_count": 0,
      "outputs": []
    },
    {
      "metadata": {
        "id": "yNuVOxpKgyCA",
        "colab_type": "code",
        "colab": {
          "autoexec": {
            "startup": false,
            "wait_interval": 0
          }
        }
      },
      "cell_type": "code",
      "source": [
        "clf=MultinomialNB()"
      ],
      "execution_count": 0,
      "outputs": []
    },
    {
      "metadata": {
        "id": "4E40P7Iog1-t",
        "colab_type": "code",
        "colab": {
          "autoexec": {
            "startup": false,
            "wait_interval": 0
          },
          "base_uri": "https://localhost:8080/",
          "height": 34
        },
        "outputId": "5dbed645-1f34-499f-8fdf-d5d1e01a32f4",
        "executionInfo": {
          "status": "ok",
          "timestamp": 1527322511299,
          "user_tz": -330,
          "elapsed": 1377,
          "user": {
            "displayName": "Iresh Mishra",
            "photoUrl": "https://lh3.googleusercontent.com/a/default-user=s128",
            "userId": "113084233984419493374"
          }
        }
      },
      "cell_type": "code",
      "source": [
        "clf.fit(X_tfidf,train.target)"
      ],
      "execution_count": 32,
      "outputs": [
        {
          "output_type": "execute_result",
          "data": {
            "text/plain": [
              "MultinomialNB(alpha=1.0, class_prior=None, fit_prior=True)"
            ]
          },
          "metadata": {
            "tags": []
          },
          "execution_count": 32
        }
      ]
    },
    {
      "metadata": {
        "id": "tzDTyelojfl5",
        "colab_type": "code",
        "colab": {
          "autoexec": {
            "startup": false,
            "wait_interval": 0
          }
        }
      },
      "cell_type": "code",
      "source": [
        "from sklearn.pipeline import Pipeline\n",
        "\n",
        "text_clf = Pipeline([('vect', CountVectorizer()), ('tfidf', TfidfTransformer()), ('clf', MultinomialNB())])\n",
        "\n",
        "text_clf = text_clf.fit(train.data, train.target)\n"
      ],
      "execution_count": 0,
      "outputs": []
    },
    {
      "metadata": {
        "id": "x_rajtmljfVQ",
        "colab_type": "code",
        "colab": {
          "autoexec": {
            "startup": false,
            "wait_interval": 0
          }
        }
      },
      "cell_type": "code",
      "source": [
        ""
      ],
      "execution_count": 0,
      "outputs": []
    },
    {
      "metadata": {
        "id": "fN8X8Ca9hAGc",
        "colab_type": "code",
        "colab": {
          "autoexec": {
            "startup": false,
            "wait_interval": 0
          }
        }
      },
      "cell_type": "code",
      "source": [
        "import numpy as np\n",
        "twenty_test = fetch_20newsgroups(subset='test', shuffle=True)\n",
        "predicted = text_clf.predict(twenty_test.data)"
      ],
      "execution_count": 0,
      "outputs": []
    },
    {
      "metadata": {
        "id": "rnMz0-dHhMZi",
        "colab_type": "code",
        "colab": {
          "autoexec": {
            "startup": false,
            "wait_interval": 0
          },
          "base_uri": "https://localhost:8080/",
          "height": 34
        },
        "outputId": "c0098a23-dac4-4e49-89c5-685400e2a44a",
        "executionInfo": {
          "status": "ok",
          "timestamp": 1527323435268,
          "user_tz": -330,
          "elapsed": 1003,
          "user": {
            "displayName": "Iresh Mishra",
            "photoUrl": "https://lh3.googleusercontent.com/a/default-user=s128",
            "userId": "113084233984419493374"
          }
        }
      },
      "cell_type": "code",
      "source": [
        "np.mean(predicted == twenty_test.target)"
      ],
      "execution_count": 39,
      "outputs": [
        {
          "output_type": "execute_result",
          "data": {
            "text/plain": [
              "0.7738980350504514"
            ]
          },
          "metadata": {
            "tags": []
          },
          "execution_count": 39
        }
      ]
    },
    {
      "metadata": {
        "id": "fIvWtLqvkhwx",
        "colab_type": "code",
        "colab": {
          "autoexec": {
            "startup": false,
            "wait_interval": 0
          }
        }
      },
      "cell_type": "code",
      "source": [
        ""
      ],
      "execution_count": 0,
      "outputs": []
    },
    {
      "metadata": {
        "id": "eI4XVVDSlOGP",
        "colab_type": "code",
        "colab": {
          "autoexec": {
            "startup": false,
            "wait_interval": 0
          }
        }
      },
      "cell_type": "code",
      "source": [
        ""
      ],
      "execution_count": 0,
      "outputs": []
    }
  ]
}