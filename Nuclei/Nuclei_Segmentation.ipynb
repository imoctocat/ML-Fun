{
  "nbformat": 4,
  "nbformat_minor": 0,
  "metadata": {
    "colab": {
      "name": "Nuclei_Segmentation.ipynb",
      "version": "0.3.2",
      "provenance": []
    },
    "kernelspec": {
      "name": "python3",
      "display_name": "Python 3"
    },
    "accelerator": "GPU"
  },
  "cells": [
    {
      "metadata": {
        "id": "_ijZhSkTnDA8",
        "colab_type": "code",
        "outputId": "b7aef9bc-193b-43d7-90c4-9ba71cead4c4",
        "colab": {
          "base_uri": "https://localhost:8080/",
          "height": 141
        }
      },
      "cell_type": "code",
      "source": [
        "!wget --header 'Host: storage.googleapis.com' --user-agent 'Mozilla/5.0 (X11; Ubuntu; Linux x86_64; rv:61.0) Gecko/20100101 Firefox/61.0' --header 'Accept: text/html,application/xhtml+xml,application/xml;q=0.9,*/*;q=0.8' --header 'Accept-Language: en-GB,en;q=0.5' --referer 'https://www.kaggle.com/' --header 'Upgrade-Insecure-Requests: 1' 'https://storage.googleapis.com/kaggle-competitions-data/kaggle/8089/stage1_train.zip?GoogleAccessId=web-data@kaggle-161607.iam.gserviceaccount.com&Expires=1532330989&Signature=LwttHcqlKQou1hpV0L5WY%2Fg4f4vHqpSZPlrBlZPa3dcZiefEcfXZOIIjDTFe%2BaDJ12PBBqRbPNDdV1WDsc9R%2FlD6xaCH5NuKJ2Np%2BBAPcvKbA8HyQcxXr9uPcs25F7iB3kx2B%2BKtvSlqS5fCUkR8XAQYzbXADTxW2u0U%2Ba4YzX%2Bujk4K3ifHHL98tLVhVm1p0OuYdAudvV6PIOhuNgxG%2FdcFIDKQnPAWdblt9IuzO%2Fy009NdRRrNnTA3MfwMCop%2Fb3OAHCNQA9uQyb3j0nnuofmt6Xwb4T%2FDpwTcNfOePdsCyFAs2ZyAmw11bA%2F7DNtpZgAjrN1%2FSezp1J6Ouz7nBQ%3D%3D' --output-document 'stage1_train.zip'"
      ],
      "execution_count": 27,
      "outputs": [
        {
          "output_type": "stream",
          "text": [
            "--2018-12-02 14:14:00--  https://storage.googleapis.com/kaggle-competitions-data/kaggle/8089/stage1_train.zip?GoogleAccessId=web-data@kaggle-161607.iam.gserviceaccount.com&Expires=1532330989&Signature=LwttHcqlKQou1hpV0L5WY%2Fg4f4vHqpSZPlrBlZPa3dcZiefEcfXZOIIjDTFe%2BaDJ12PBBqRbPNDdV1WDsc9R%2FlD6xaCH5NuKJ2Np%2BBAPcvKbA8HyQcxXr9uPcs25F7iB3kx2B%2BKtvSlqS5fCUkR8XAQYzbXADTxW2u0U%2Ba4YzX%2Bujk4K3ifHHL98tLVhVm1p0OuYdAudvV6PIOhuNgxG%2FdcFIDKQnPAWdblt9IuzO%2Fy009NdRRrNnTA3MfwMCop%2Fb3OAHCNQA9uQyb3j0nnuofmt6Xwb4T%2FDpwTcNfOePdsCyFAs2ZyAmw11bA%2F7DNtpZgAjrN1%2FSezp1J6Ouz7nBQ%3D%3D\n",
            "Resolving storage.googleapis.com (storage.googleapis.com)... 74.125.195.128, 2607:f8b0:400e:c07::80\n",
            "Connecting to storage.googleapis.com (storage.googleapis.com)|74.125.195.128|:443... connected.\n",
            "HTTP request sent, awaiting response... 400 Bad Request\n",
            "2018-12-02 14:14:00 ERROR 400: Bad Request.\n",
            "\n"
          ],
          "name": "stdout"
        }
      ]
    },
    {
      "metadata": {
        "id": "dNRwAn7cRFIo",
        "colab_type": "code",
        "colab": {}
      },
      "cell_type": "code",
      "source": [
        "!pip install -U -q kaggle\n",
        "!mkdir -p ~/.kaggle\n",
        "!echo '{\"username\":\"imtoba\",\"key\":\"e4c363cc45004995ac667e17b31d2e0a\"}' > ~/.kaggle/kaggle.json\n",
        "!chmod 600 ~/.kaggle/kaggle.json"
      ],
      "execution_count": 0,
      "outputs": []
    },
    {
      "metadata": {
        "id": "O9uyLuZpUq4w",
        "colab_type": "code",
        "colab": {
          "base_uri": "https://localhost:8080/",
          "height": 139
        },
        "outputId": "abd4dbe4-fdf6-4721-e27e-eb2189c60d92"
      },
      "cell_type": "code",
      "source": [
        "!mkdir -p data\n",
        "!kaggle competitions download -c data-science-bowl-2018"
      ],
      "execution_count": 2,
      "outputs": [
        {
          "output_type": "stream",
          "text": [
            "stage1_sample_submission.csv.zip: Skipping, found more recently modified local copy (use --force to force download)\n",
            "stage1_train_labels.csv.zip: Skipping, found more recently modified local copy (use --force to force download)\n",
            "stage1_test.zip: Skipping, found more recently modified local copy (use --force to force download)\n",
            "stage1_train.zip: Skipping, found more recently modified local copy (use --force to force download)\n",
            "stage2_sample_submission_final.csv.zip: Skipping, found more recently modified local copy (use --force to force download)\n",
            "stage2_test_final.zip: Skipping, found more recently modified local copy (use --force to force download)\n",
            "stage1_solution.csv.zip: Skipping, found more recently modified local copy (use --force to force download)\n"
          ],
          "name": "stdout"
        }
      ]
    },
    {
      "metadata": {
        "id": "h81S3FG0ndNV",
        "colab_type": "code",
        "outputId": "575666ba-da11-4088-8418-1233aa545644",
        "colab": {
          "base_uri": "https://localhost:8080/",
          "height": 69
        }
      },
      "cell_type": "code",
      "source": [
        "!curl 'https://storage.googleapis.com/kaggle-competitions-data/kaggle/8089/stage1_test.zip?GoogleAccessId=web-data@kaggle-161607.iam.gserviceaccount.com&Expires=1532331713&Signature=lte0%2FdAZhUlmOY28ahtPFRHJvgOApJ4d642D2tqgFqMrnlzRO6IMvxOZPf6Mm3oneoikSJ2tWQ8EY1Dw5oktRpn0YOWqfsAgfjhItSrXwed5%2FqYoY%2BgXUY0l96rOzbBw%2FRHB%2BhlrtXt%2BEdIyEzjTAgWMF46nbeX4q3iVSB6Ykzd3xofuJkvY5Ymoh%2B1KePKIXp%2Bnjomm2A%2BdZg5EQWaGWeoORYOIFZVsqOrP6qQ5kQUqB05ptrhaPa0ZKvQb%2F%2BDMSrRGDEXuMsjfh9dgt12dNd%2BS9P2a7uG3biWyphd6pfyol9Y%2FepCqVNQeuYIsALJ88gbdKukkfFhDDQoV8FHWcQ%3D%3D' -H 'User-Agent: Mozilla/5.0 (X11; Ubuntu; Linux x86_64; rv:61.0) Gecko/20100101 Firefox/61.0' -H 'Accept: text/html,application/xhtml+xml,application/xml;q=0.9,*/*;q=0.8' -H 'Accept-Language: en-GB,en;q=0.5' --compressed -H 'Referer: https://www.kaggle.com/' -H 'Connection: keep-alive' -H 'Upgrade-Insecure-Requests: 1' -o stage1_test.zip"
      ],
      "execution_count": 28,
      "outputs": [
        {
          "output_type": "stream",
          "text": [
            "  % Total    % Received % Xferd  Average Speed   Time    Time     Time  Current\n",
            "                                 Dload  Upload   Total   Spent    Left  Speed\n",
            "\r  0     0    0     0    0     0      0      0 --:--:-- --:--:-- --:--:--     0\r100   202  100   202    0     0   6516      0 --:--:-- --:--:-- --:--:--  6516\n"
          ],
          "name": "stdout"
        }
      ]
    },
    {
      "metadata": {
        "id": "awYWQT4bpkgm",
        "colab_type": "code",
        "outputId": "a8631260-bd4d-4879-9022-137c3c73cb4b",
        "colab": {
          "base_uri": "https://localhost:8080/",
          "height": 156
        }
      },
      "cell_type": "code",
      "source": [
        "!ls"
      ],
      "execution_count": 5,
      "outputs": [
        {
          "output_type": "stream",
          "text": [
            "data\t\t\t\t  stage1_train.zip\n",
            "sample_data\t\t\t  stage2_sample_submission_final.csv.zip\n",
            "stage1_sample_submission.csv.zip  stage2_test_final.zip\n",
            "stage1_solution.csv.zip\t\t  test_img.npy\n",
            "stage1_test\t\t\t  test_size.npy\n",
            "stage1_test.zip\t\t\t  train_img.npy\n",
            "stage1_train\t\t\t  train_mask.npy\n",
            "stage1_train_labels.csv.zip\n"
          ],
          "name": "stdout"
        }
      ]
    },
    {
      "metadata": {
        "id": "5MP-8aL1pnQY",
        "colab_type": "code",
        "colab": {
          "base_uri": "https://localhost:8080/",
          "height": 260
        },
        "outputId": "9dd8f13e-702e-494b-e4ca-ababa9d4547b"
      },
      "cell_type": "code",
      "source": [
        "!mkdir stage1_train stage1_test\n",
        "\n",
        "!unzip stage1_train.zip -d stage1_train/\n",
        "!unzip stage1_test.zip -d stage1_test/"
      ],
      "execution_count": 4,
      "outputs": [
        {
          "output_type": "stream",
          "text": [
            "Archive:  stage1_train.zip\n",
            "  End-of-central-directory signature not found.  Either this file is not\n",
            "  a zipfile, or it constitutes one disk of a multi-part archive.  In the\n",
            "  latter case the central directory and zipfile comment will be found on\n",
            "  the last disk(s) of this archive.\n",
            "unzip:  cannot find zipfile directory in one of stage1_train.zip or\n",
            "        stage1_train.zip.zip, and cannot find stage1_train.zip.ZIP, period.\n",
            "Archive:  stage1_test.zip\n",
            "  End-of-central-directory signature not found.  Either this file is not\n",
            "  a zipfile, or it constitutes one disk of a multi-part archive.  In the\n",
            "  latter case the central directory and zipfile comment will be found on\n",
            "  the last disk(s) of this archive.\n",
            "unzip:  cannot find zipfile directory in one of stage1_test.zip or\n",
            "        stage1_test.zip.zip, and cannot find stage1_test.zip.ZIP, period.\n"
          ],
          "name": "stdout"
        }
      ]
    },
    {
      "metadata": {
        "id": "tDmHwMB4puj8",
        "colab_type": "code",
        "colab": {
          "base_uri": "https://localhost:8080/",
          "height": 34
        },
        "outputId": "32f6070a-2fd4-4e03-804e-6a3d9cc99e77"
      },
      "cell_type": "code",
      "source": [
        "import os\n",
        "import random\n",
        "import sys\n",
        "import warnings\n",
        "import numpy as np\n",
        "import pandas as pd\n",
        "from itertools import chain\n",
        "from skimage.io import imread, imshow, imread_collection, concatenate_images\n",
        "from skimage.transform import resize\n",
        "from skimage.morphology import label\n",
        "from keras.utils import Progbar\n",
        "\n",
        "from keras.models import Model, load_model\n",
        "from keras.layers import Input\n",
        "from keras.layers.core import Dropout, Lambda\n",
        "from keras.layers.convolutional import Conv2D, Conv2DTranspose,Convolution2D\n",
        "from keras.layers.pooling import MaxPooling2D\n",
        "from keras.layers.merge import concatenate\n",
        "from keras import backend as K"
      ],
      "execution_count": 5,
      "outputs": [
        {
          "output_type": "stream",
          "text": [
            "Using TensorFlow backend.\n"
          ],
          "name": "stderr"
        }
      ]
    },
    {
      "metadata": {
        "id": "SASSNsKaYOzC",
        "colab_type": "code",
        "colab": {}
      },
      "cell_type": "code",
      "source": [
        "smooth = 1.\n",
        "epochs = 20\n"
      ],
      "execution_count": 0,
      "outputs": []
    },
    {
      "metadata": {
        "id": "IWcgyeF7_r0q",
        "colab_type": "code",
        "outputId": "164f45d7-80b6-4d31-9b10-0b305bf9873f",
        "colab": {
          "base_uri": "https://localhost:8080/",
          "height": 52
        }
      },
      "cell_type": "code",
      "source": [
        "!ls "
      ],
      "execution_count": 25,
      "outputs": [
        {
          "output_type": "stream",
          "text": [
            "sample_data  stage1_test.zip  stage1_train.zip\ttest_size.npy  train_mask.npy\n",
            "stage1_test  stage1_train     test_img.npy\ttrain_img.npy\n"
          ],
          "name": "stdout"
        }
      ]
    },
    {
      "metadata": {
        "id": "v8kUE2x4qFrB",
        "colab_type": "code",
        "colab": {}
      },
      "cell_type": "code",
      "source": [
        "TRAIN_PATH = 'stage1_train/'\n",
        "TEST_PATH = 'stage1_test/'\n"
      ],
      "execution_count": 0,
      "outputs": []
    },
    {
      "metadata": {
        "id": "8DYUDcRWqO_T",
        "colab_type": "code",
        "colab": {}
      },
      "cell_type": "code",
      "source": [
        "train_ids = next(os.walk(TRAIN_PATH))[1]\n",
        "test_ids = next(os.walk(TEST_PATH))[1]\n"
      ],
      "execution_count": 0,
      "outputs": []
    },
    {
      "metadata": {
        "id": "hGTO3ERTrrjj",
        "colab_type": "code",
        "colab": {}
      },
      "cell_type": "code",
      "source": [
        ""
      ],
      "execution_count": 0,
      "outputs": []
    },
    {
      "metadata": {
        "id": "S5rvfunJrrsi",
        "colab_type": "code",
        "colab": {}
      },
      "cell_type": "code",
      "source": [
        "def read_train_data(IMG_WIDTH=256,IMG_HEIGHT=256,IMG_CHANNELS=3):\n",
        "    X_train = np.zeros((len(train_ids), IMG_HEIGHT, IMG_WIDTH, IMG_CHANNELS), dtype=np.uint8)\n",
        "    Y_train = np.zeros((len(train_ids), IMG_HEIGHT, IMG_WIDTH, 1), dtype=np.bool)\n",
        "    print('Getting and resizing train images and masks ... ')\n",
        "    sys.stdout.flush()\n",
        "    if os.path.isfile(\"train_img.npy\") and os.path.isfile(\"train_mask.npy\"):\n",
        "        print(\"Train file loaded from memory\")\n",
        "        X_train = np.load(\"train_img.npy\")\n",
        "        Y_train = np.load(\"train_mask.npy\")\n",
        "        return X_train,Y_train\n",
        "    a = Progbar(len(train_ids))\n",
        "    for n, id_ in enumerate(train_ids):\n",
        "        path = TRAIN_PATH + id_\n",
        "        img = imread(path + '/images/' + id_ + '.png')[:,:,:IMG_CHANNELS]\n",
        "        img = resize(img, (IMG_HEIGHT, IMG_WIDTH), mode='constant', preserve_range=True)\n",
        "        X_train[n] = img\n",
        "        mask = np.zeros((IMG_HEIGHT, IMG_WIDTH, 1), dtype=np.bool)\n",
        "        for mask_file in next(os.walk(path + '/masks/'))[2]:\n",
        "            mask_ = imread(path + '/masks/' + mask_file)\n",
        "            mask_ = np.expand_dims(resize(mask_, (IMG_HEIGHT, IMG_WIDTH), mode='constant', \n",
        "                                        preserve_range=True), axis=-1)\n",
        "            mask = np.maximum(mask, mask_)\n",
        "        Y_train[n] = mask\n",
        "        a.update(n)\n",
        "    np.save(\"train_img\",X_train)\n",
        "    np.save(\"train_mask\",Y_train)\n",
        "    return X_train,Y_train"
      ],
      "execution_count": 0,
      "outputs": []
    },
    {
      "metadata": {
        "id": "1xZ8_4Xfrrnt",
        "colab_type": "code",
        "colab": {}
      },
      "cell_type": "code",
      "source": [
        "def read_test_data(IMG_WIDTH=256,IMG_HEIGHT=256,IMG_CHANNELS=3):\n",
        "    X_test = np.zeros((len(test_ids), IMG_HEIGHT, IMG_WIDTH, IMG_CHANNELS), dtype=np.uint8)\n",
        "    sizes_test = []\n",
        "    print('\\nGetting and resizing test images ... ')\n",
        "    sys.stdout.flush()\n",
        "    if os.path.isfile(\"test_img.npy\") and os.path.isfile(\"test_size.npy\"):\n",
        "        print(\"Test file loaded from memory\")\n",
        "        X_test = np.load(\"test_img.npy\")\n",
        "        sizes_test = np.load(\"test_size.npy\")\n",
        "        return X_test,sizes_test\n",
        "    b = Progbar(len(test_ids))\n",
        "    for n, id_ in enumerate(test_ids):\n",
        "        path = TEST_PATH + id_\n",
        "        img = imread(path + '/images/' + id_ + '.png')[:,:,:IMG_CHANNELS]\n",
        "        sizes_test.append([img.shape[0], img.shape[1]])\n",
        "        img = resize(img, (IMG_HEIGHT, IMG_WIDTH), mode='constant', preserve_range=True)\n",
        "        X_test[n] = img\n",
        "        b.update(n)\n",
        "    np.save(\"test_img\",X_test)\n",
        "    np.save(\"test_size\",sizes_test)\n",
        "    return X_test,sizes_test\n"
      ],
      "execution_count": 0,
      "outputs": []
    },
    {
      "metadata": {
        "id": "e6yPUeQkrrhG",
        "colab_type": "code",
        "colab": {}
      },
      "cell_type": "code",
      "source": [
        "def rle_encoding(x):\n",
        "    dots = np.where(x.T.flatten() == 1)[0]\n",
        "    run_lengths = []\n",
        "    prev = -2\n",
        "    for b in dots:\n",
        "        if (b>prev+1): run_lengths.extend((b + 1, 0))\n",
        "        run_lengths[-1] += 1\n",
        "        prev = b\n",
        "    return run_lengths\n",
        "\n",
        "def prob_to_rles(x, cutoff=0.5):\n",
        "    lab_img = label(x > cutoff)\n",
        "    for i in range(1, lab_img.max() + 1):\n",
        "        yield rle_encoding(lab_img == i)\n"
      ],
      "execution_count": 0,
      "outputs": []
    },
    {
      "metadata": {
        "id": "5L_zblqPrre-",
        "colab_type": "code",
        "colab": {}
      },
      "cell_type": "code",
      "source": [
        "def mask_to_rle(preds_test_upsampled):\n",
        "    new_test_ids = []\n",
        "    rles = []\n",
        "    for n, id_ in enumerate(test_ids):\n",
        "        rle = list(prob_to_rles(preds_test_upsampled[n]))\n",
        "        rles.extend(rle)\n",
        "        new_test_ids.extend([id_] * len(rle))\n",
        "    return new_test_ids,rles"
      ],
      "execution_count": 0,
      "outputs": []
    },
    {
      "metadata": {
        "id": "xAyiuXqgrrcM",
        "colab_type": "code",
        "colab": {}
      },
      "cell_type": "code",
      "source": [
        "def dice_coef(y_true, y_pred):\n",
        "    y_true_f = K.flatten(y_true)\n",
        "    y_pred_f = K.flatten(y_pred)\n",
        "    intersection = K.sum(y_true_f * y_pred_f)\n",
        "    return (2. * intersection + smooth) / (K.sum(y_true_f) + K.sum(y_pred_f) + smooth)\n",
        "\n",
        "\n",
        "def dice_coef_loss(y_true, y_pred):\n",
        "    return -dice_coef(y_true, y_pred)\n"
      ],
      "execution_count": 0,
      "outputs": []
    },
    {
      "metadata": {
        "id": "Hb08H5wLrrYS",
        "colab_type": "code",
        "colab": {}
      },
      "cell_type": "code",
      "source": [
        "def get_unet(IMG_WIDTH=256,IMG_HEIGHT=256,IMG_CHANNELS=3):\n",
        "    inputs = Input((IMG_HEIGHT, IMG_WIDTH, IMG_CHANNELS))\n",
        "    s = Lambda(lambda x: x / 255) (inputs)\n",
        "    c1 = Conv2D(16, (3, 3), activation= 'elu', kernel_initializer='he_normal', padding='same') (s)\n",
        "    c1 = Dropout(0.1) (c1)\n",
        "    c1 = Conv2D(16, (3, 3), activation='elu', kernel_initializer='he_normal', padding='same') (c1)\n",
        "    p1 = MaxPooling2D((2, 2)) (c1)\n",
        "    c2 = Conv2D(32, (3, 3), activation='elu', kernel_initializer='he_normal', padding='same') (p1)\n",
        "    c2 = Dropout(0.1) (c2)\n",
        "    c2 = Conv2D(32, (3, 3), activation='elu', kernel_initializer='he_normal', padding='same') (c2)\n",
        "    p2 = MaxPooling2D((2, 2)) (c2)\n",
        "\n",
        "    c3 = Conv2D(64, (3, 3), activation='elu', kernel_initializer='he_normal', padding='same') (p2)\n",
        "    c3 = Dropout(0.2) (c3)\n",
        "    c3 = Conv2D(64, (3, 3), activation='elu', kernel_initializer='he_normal', padding='same') (c3)\n",
        "    p3 = MaxPooling2D((2, 2)) (c3)\n",
        "\n",
        "    c4 = Conv2D(128, (3, 3), activation='elu', kernel_initializer='he_normal', padding='same') (p3)\n",
        "    c4 = Dropout(0.2) (c4)\n",
        "    c4 = Conv2D(128, (3, 3), activation='elu', kernel_initializer='he_normal', padding='same') (c4)\n",
        "    p4 = MaxPooling2D(pool_size=(2, 2)) (c4)\n",
        "\n",
        "    c5 = Conv2D(256, (3, 3), activation='elu', kernel_initializer='he_normal', padding='same') (p4)\n",
        "    c5 = Dropout(0.3) (c5)\n",
        "    c5 = Conv2D(256, (3, 3), activation='elu', kernel_initializer='he_normal', padding='same') (c5)\n",
        "\n",
        "    u6 = Conv2DTranspose(128, (2, 2), strides=(2, 2), padding='same') (c5)\n",
        "    u6 = concatenate([u6, c4])\n",
        "    c6 = Conv2D(128, (3, 3), activation='elu', kernel_initializer='he_normal', padding='same') (u6)\n",
        "    c6 = Dropout(0.2) (c6)\n",
        "    c6 = Conv2D(128, (3, 3), activation='elu', kernel_initializer='he_normal', padding='same') (c6)\n",
        "\n",
        "    u7 = Conv2DTranspose(64, (2, 2), strides=(2, 2), padding='same') (c6)\n",
        "    u7 = concatenate([u7, c3])\n",
        "    c7 = Conv2D(64, (3, 3), activation='elu', kernel_initializer='he_normal', padding='same') (u7)\n",
        "    c7 = Dropout(0.2) (c7)\n",
        "    c7 = Conv2D(64, (3, 3), activation='elu', kernel_initializer='he_normal', padding='same') (c7)\n",
        "\n",
        "    u8 = Conv2DTranspose(32, (2, 2), strides=(2, 2), padding='same') (c7)\n",
        "    u8 = concatenate([u8, c2])\n",
        "    c8 = Conv2D(32, (3, 3), activation='elu', kernel_initializer='he_normal', padding='same') (u8)\n",
        "    c8 = Dropout(0.1) (c8)\n",
        "    c8 = Conv2D(32, (3, 3), activation='elu', kernel_initializer='he_normal', padding='same') (c8)\n",
        "\n",
        "    u9 = Conv2DTranspose(16, (2, 2), strides=(2, 2), padding='same') (c8)\n",
        "    u9 = concatenate([u9, c1], axis=3)\n",
        "    c9 = Conv2D(16, (3, 3), activation='elu', kernel_initializer='he_normal', padding='same') (u9)\n",
        "    c9 = Dropout(0.1) (c9)\n",
        "    c9 = Conv2D(16, (3, 3), activation='elu', kernel_initializer='he_normal', padding='same') (c9)\n",
        "\n",
        "    outputs = Conv2D(1, (1, 1), activation='sigmoid') (c9)\n",
        "\n",
        "    model = Model(inputs=[inputs], outputs=[outputs])\n",
        "    model.compile(optimizer='adam',loss='binary_crossentropy', metrics=[dice_coef])\n",
        "    model.summary()\n",
        "    return model"
      ],
      "execution_count": 0,
      "outputs": []
    },
    {
      "metadata": {
        "id": "7PHgtOdF0SeQ",
        "colab_type": "code",
        "outputId": "f88c8583-ffe7-4f81-adc7-29123bb13e78",
        "colab": {
          "base_uri": "https://localhost:8080/",
          "height": 54
        }
      },
      "cell_type": "code",
      "source": [
        "\"\"\"inputs = Input((IMG_HEIGHT, IMG_WIDTH, IMG_CHANNELS))\n",
        "s = Lambda(lambda x: x / 255) (inputs)\n",
        "\n",
        "c1 = Conv2D(8, (3, 3), activation='relu', padding='same') (s)\n",
        "c1 = Conv2D(8, (3, 3), activation='relu', padding='same') (c1)\n",
        "p1 = MaxPooling2D((2, 2)) (c1)\n",
        "\n",
        "c2 = Conv2D(16, (3, 3), activation='relu', padding='same') (p1)\n",
        "c2 = Conv2D(16, (3, 3), activation='relu', padding='same') (c2)\n",
        "p2 = MaxPooling2D((2, 2)) (c2)\n",
        "\n",
        "c3 = Conv2D(32, (3, 3), activation='relu', padding='same') (p2)\n",
        "c3 = Conv2D(32, (3, 3), activation='relu', padding='same') (c3)\n",
        "p3 = MaxPooling2D((2, 2)) (c3)\n",
        "\n",
        "c4 = Conv2D(64, (3, 3), activation='relu', padding='same') (p3)\n",
        "c4 = Conv2D(64, (3, 3), activation='relu', padding='same') (c4)\n",
        "p4 = MaxPooling2D(pool_size=(2, 2)) (c4)\n",
        "\n",
        "c5 = Conv2D(128, (3, 3), activation='relu', padding='same') (p4)\n",
        "c5 = Conv2D(128, (3, 3), activation='relu', padding='same') (c5)\n",
        "\n",
        "u6 = Conv2DTranspose(64, (2, 2), strides=(2, 2), padding='same') (c5)\n",
        "u6 = concatenate([u6, c4])\n",
        "c6 = Conv2D(64, (3, 3), activation='relu', padding='same') (u6)\n",
        "c6 = Conv2D(64, (3, 3), activation='relu', padding='same') (c6)\n",
        "\n",
        "u7 = Conv2DTranspose(32, (2, 2), strides=(2, 2), padding='same') (c6)\n",
        "u7 = concatenate([u7, c3])\n",
        "c7 = Conv2D(32, (3, 3), activation='relu', padding='same') (u7)\n",
        "c7 = Conv2D(32, (3, 3), activation='relu', padding='same') (c7)\n",
        "\n",
        "u8 = Conv2DTranspose(16, (2, 2), strides=(2, 2), padding='same') (c7)\n",
        "u8 = concatenate([u8, c2])\n",
        "c8 = Conv2D(16, (3, 3), activation='relu', padding='same') (u8)\n",
        "c8 = Conv2D(16, (3, 3), activation='relu', padding='same') (c8)\n",
        "\n",
        "u9 = Conv2DTranspose(8, (2, 2), strides=(2, 2), padding='same') (c8)\n",
        "u9 = concatenate([u9, c1], axis=3)\n",
        "c9 = Conv2D(8, (3, 3), activation='relu', padding='same') (u9)\n",
        "c9 = Conv2D(8, (3, 3), activation='relu', padding='same') (c9)\n",
        "\n",
        "outputs = Conv2D(1, (1, 1), activation='sigmoid') (c9)\n",
        "\n",
        "model = Model(inputs=[inputs], outputs=[outputs])\n",
        "model.compile(optimizer='adam', loss='binary_crossentropy', metrics=[mean_iou])\n",
        "model.summary()\n",
        "\"\"\""
      ],
      "execution_count": 18,
      "outputs": [
        {
          "output_type": "execute_result",
          "data": {
            "text/plain": [
              "\"inputs = Input((IMG_HEIGHT, IMG_WIDTH, IMG_CHANNELS))\\ns = Lambda(lambda x: x / 255) (inputs)\\n\\nc1 = Conv2D(8, (3, 3), activation='relu', padding='same') (s)\\nc1 = Conv2D(8, (3, 3), activation='relu', padding='same') (c1)\\np1 = MaxPooling2D((2, 2)) (c1)\\n\\nc2 = Conv2D(16, (3, 3), activation='relu', padding='same') (p1)\\nc2 = Conv2D(16, (3, 3), activation='relu', padding='same') (c2)\\np2 = MaxPooling2D((2, 2)) (c2)\\n\\nc3 = Conv2D(32, (3, 3), activation='relu', padding='same') (p2)\\nc3 = Conv2D(32, (3, 3), activation='relu', padding='same') (c3)\\np3 = MaxPooling2D((2, 2)) (c3)\\n\\nc4 = Conv2D(64, (3, 3), activation='relu', padding='same') (p3)\\nc4 = Conv2D(64, (3, 3), activation='relu', padding='same') (c4)\\np4 = MaxPooling2D(pool_size=(2, 2)) (c4)\\n\\nc5 = Conv2D(128, (3, 3), activation='relu', padding='same') (p4)\\nc5 = Conv2D(128, (3, 3), activation='relu', padding='same') (c5)\\n\\nu6 = Conv2DTranspose(64, (2, 2), strides=(2, 2), padding='same') (c5)\\nu6 = concatenate([u6, c4])\\nc6 = Conv2D(64, (3, 3), activation='relu', padding='same') (u6)\\nc6 = Conv2D(64, (3, 3), activation='relu', padding='same') (c6)\\n\\nu7 = Conv2DTranspose(32, (2, 2), strides=(2, 2), padding='same') (c6)\\nu7 = concatenate([u7, c3])\\nc7 = Conv2D(32, (3, 3), activation='relu', padding='same') (u7)\\nc7 = Conv2D(32, (3, 3), activation='relu', padding='same') (c7)\\n\\nu8 = Conv2DTranspose(16, (2, 2), strides=(2, 2), padding='same') (c7)\\nu8 = concatenate([u8, c2])\\nc8 = Conv2D(16, (3, 3), activation='relu', padding='same') (u8)\\nc8 = Conv2D(16, (3, 3), activation='relu', padding='same') (c8)\\n\\nu9 = Conv2DTranspose(8, (2, 2), strides=(2, 2), padding='same') (c8)\\nu9 = concatenate([u9, c1], axis=3)\\nc9 = Conv2D(8, (3, 3), activation='relu', padding='same') (u9)\\nc9 = Conv2D(8, (3, 3), activation='relu', padding='same') (c9)\\n\\noutputs = Conv2D(1, (1, 1), activation='sigmoid') (c9)\\n\\nmodel = Model(inputs=[inputs], outputs=[outputs])\\nmodel.compile(optimizer='adam', loss='binary_crossentropy', metrics=[mean_iou])\\nmodel.summary()\\n\""
            ]
          },
          "metadata": {
            "tags": []
          },
          "execution_count": 18
        }
      ]
    },
    {
      "metadata": {
        "id": "oJuvffoa0Sjb",
        "colab_type": "code",
        "colab": {}
      },
      "cell_type": "code",
      "source": [
        ""
      ],
      "execution_count": 0,
      "outputs": []
    },
    {
      "metadata": {
        "id": "qpHlR0Mc0St0",
        "colab_type": "code",
        "outputId": "c5e5d878-54f5-400b-db08-fc444b590665",
        "colab": {
          "base_uri": "https://localhost:8080/",
          "height": 104
        }
      },
      "cell_type": "code",
      "source": [
        "train_img,train_mask = read_train_data()\n",
        "\n",
        "test_img,test_img_sizes = read_test_data()"
      ],
      "execution_count": 20,
      "outputs": [
        {
          "output_type": "stream",
          "text": [
            "Getting and resizing train images and masks ... \n",
            "Train file loaded from memory\n",
            "\n",
            "Getting and resizing test images ... \n",
            "Test file loaded from memory\n"
          ],
          "name": "stdout"
        }
      ]
    },
    {
      "metadata": {
        "id": "IUVVvQDgr9b6",
        "colab_type": "code",
        "colab": {
          "base_uri": "https://localhost:8080/",
          "height": 1667
        },
        "outputId": "7a1ffed2-9f0c-48fe-9b42-76168979bc3b"
      },
      "cell_type": "code",
      "source": [
        "u_net = get_unet()"
      ],
      "execution_count": 21,
      "outputs": [
        {
          "output_type": "stream",
          "text": [
            "__________________________________________________________________________________________________\n",
            "Layer (type)                    Output Shape         Param #     Connected to                     \n",
            "==================================================================================================\n",
            "input_1 (InputLayer)            (None, 256, 256, 3)  0                                            \n",
            "__________________________________________________________________________________________________\n",
            "lambda_1 (Lambda)               (None, 256, 256, 3)  0           input_1[0][0]                    \n",
            "__________________________________________________________________________________________________\n",
            "conv2d_1 (Conv2D)               (None, 256, 256, 16) 448         lambda_1[0][0]                   \n",
            "__________________________________________________________________________________________________\n",
            "dropout_1 (Dropout)             (None, 256, 256, 16) 0           conv2d_1[0][0]                   \n",
            "__________________________________________________________________________________________________\n",
            "conv2d_2 (Conv2D)               (None, 256, 256, 16) 2320        dropout_1[0][0]                  \n",
            "__________________________________________________________________________________________________\n",
            "max_pooling2d_1 (MaxPooling2D)  (None, 128, 128, 16) 0           conv2d_2[0][0]                   \n",
            "__________________________________________________________________________________________________\n",
            "conv2d_3 (Conv2D)               (None, 128, 128, 32) 4640        max_pooling2d_1[0][0]            \n",
            "__________________________________________________________________________________________________\n",
            "dropout_2 (Dropout)             (None, 128, 128, 32) 0           conv2d_3[0][0]                   \n",
            "__________________________________________________________________________________________________\n",
            "conv2d_4 (Conv2D)               (None, 128, 128, 32) 9248        dropout_2[0][0]                  \n",
            "__________________________________________________________________________________________________\n",
            "max_pooling2d_2 (MaxPooling2D)  (None, 64, 64, 32)   0           conv2d_4[0][0]                   \n",
            "__________________________________________________________________________________________________\n",
            "conv2d_5 (Conv2D)               (None, 64, 64, 64)   18496       max_pooling2d_2[0][0]            \n",
            "__________________________________________________________________________________________________\n",
            "dropout_3 (Dropout)             (None, 64, 64, 64)   0           conv2d_5[0][0]                   \n",
            "__________________________________________________________________________________________________\n",
            "conv2d_6 (Conv2D)               (None, 64, 64, 64)   36928       dropout_3[0][0]                  \n",
            "__________________________________________________________________________________________________\n",
            "max_pooling2d_3 (MaxPooling2D)  (None, 32, 32, 64)   0           conv2d_6[0][0]                   \n",
            "__________________________________________________________________________________________________\n",
            "conv2d_7 (Conv2D)               (None, 32, 32, 128)  73856       max_pooling2d_3[0][0]            \n",
            "__________________________________________________________________________________________________\n",
            "dropout_4 (Dropout)             (None, 32, 32, 128)  0           conv2d_7[0][0]                   \n",
            "__________________________________________________________________________________________________\n",
            "conv2d_8 (Conv2D)               (None, 32, 32, 128)  147584      dropout_4[0][0]                  \n",
            "__________________________________________________________________________________________________\n",
            "max_pooling2d_4 (MaxPooling2D)  (None, 16, 16, 128)  0           conv2d_8[0][0]                   \n",
            "__________________________________________________________________________________________________\n",
            "conv2d_9 (Conv2D)               (None, 16, 16, 256)  295168      max_pooling2d_4[0][0]            \n",
            "__________________________________________________________________________________________________\n",
            "dropout_5 (Dropout)             (None, 16, 16, 256)  0           conv2d_9[0][0]                   \n",
            "__________________________________________________________________________________________________\n",
            "conv2d_10 (Conv2D)              (None, 16, 16, 256)  590080      dropout_5[0][0]                  \n",
            "__________________________________________________________________________________________________\n",
            "conv2d_transpose_1 (Conv2DTrans (None, 32, 32, 128)  131200      conv2d_10[0][0]                  \n",
            "__________________________________________________________________________________________________\n",
            "concatenate_1 (Concatenate)     (None, 32, 32, 256)  0           conv2d_transpose_1[0][0]         \n",
            "                                                                 conv2d_8[0][0]                   \n",
            "__________________________________________________________________________________________________\n",
            "conv2d_11 (Conv2D)              (None, 32, 32, 128)  295040      concatenate_1[0][0]              \n",
            "__________________________________________________________________________________________________\n",
            "dropout_6 (Dropout)             (None, 32, 32, 128)  0           conv2d_11[0][0]                  \n",
            "__________________________________________________________________________________________________\n",
            "conv2d_12 (Conv2D)              (None, 32, 32, 128)  147584      dropout_6[0][0]                  \n",
            "__________________________________________________________________________________________________\n",
            "conv2d_transpose_2 (Conv2DTrans (None, 64, 64, 64)   32832       conv2d_12[0][0]                  \n",
            "__________________________________________________________________________________________________\n",
            "concatenate_2 (Concatenate)     (None, 64, 64, 128)  0           conv2d_transpose_2[0][0]         \n",
            "                                                                 conv2d_6[0][0]                   \n",
            "__________________________________________________________________________________________________\n",
            "conv2d_13 (Conv2D)              (None, 64, 64, 64)   73792       concatenate_2[0][0]              \n",
            "__________________________________________________________________________________________________\n",
            "dropout_7 (Dropout)             (None, 64, 64, 64)   0           conv2d_13[0][0]                  \n",
            "__________________________________________________________________________________________________\n",
            "conv2d_14 (Conv2D)              (None, 64, 64, 64)   36928       dropout_7[0][0]                  \n",
            "__________________________________________________________________________________________________\n",
            "conv2d_transpose_3 (Conv2DTrans (None, 128, 128, 32) 8224        conv2d_14[0][0]                  \n",
            "__________________________________________________________________________________________________\n",
            "concatenate_3 (Concatenate)     (None, 128, 128, 64) 0           conv2d_transpose_3[0][0]         \n",
            "                                                                 conv2d_4[0][0]                   \n",
            "__________________________________________________________________________________________________\n",
            "conv2d_15 (Conv2D)              (None, 128, 128, 32) 18464       concatenate_3[0][0]              \n",
            "__________________________________________________________________________________________________\n",
            "dropout_8 (Dropout)             (None, 128, 128, 32) 0           conv2d_15[0][0]                  \n",
            "__________________________________________________________________________________________________\n",
            "conv2d_16 (Conv2D)              (None, 128, 128, 32) 9248        dropout_8[0][0]                  \n",
            "__________________________________________________________________________________________________\n",
            "conv2d_transpose_4 (Conv2DTrans (None, 256, 256, 16) 2064        conv2d_16[0][0]                  \n",
            "__________________________________________________________________________________________________\n",
            "concatenate_4 (Concatenate)     (None, 256, 256, 32) 0           conv2d_transpose_4[0][0]         \n",
            "                                                                 conv2d_2[0][0]                   \n",
            "__________________________________________________________________________________________________\n",
            "conv2d_17 (Conv2D)              (None, 256, 256, 16) 4624        concatenate_4[0][0]              \n",
            "__________________________________________________________________________________________________\n",
            "dropout_9 (Dropout)             (None, 256, 256, 16) 0           conv2d_17[0][0]                  \n",
            "__________________________________________________________________________________________________\n",
            "conv2d_18 (Conv2D)              (None, 256, 256, 16) 2320        dropout_9[0][0]                  \n",
            "__________________________________________________________________________________________________\n",
            "conv2d_19 (Conv2D)              (None, 256, 256, 1)  17          conv2d_18[0][0]                  \n",
            "==================================================================================================\n",
            "Total params: 1,941,105\n",
            "Trainable params: 1,941,105\n",
            "Non-trainable params: 0\n",
            "__________________________________________________________________________________________________\n"
          ],
          "name": "stdout"
        }
      ]
    },
    {
      "metadata": {
        "id": "f4LgjvfD1272",
        "colab_type": "code",
        "outputId": "87faa968-a4e5-4c3d-8570-1bd08888cb29",
        "colab": {
          "base_uri": "https://localhost:8080/",
          "height": 742
        }
      },
      "cell_type": "code",
      "source": [
        "print(\"\\nTraining...\")\n",
        "u_net.fit(train_img,train_mask,batch_size=16,epochs=epochs)"
      ],
      "execution_count": 22,
      "outputs": [
        {
          "output_type": "stream",
          "text": [
            "\n",
            "Training...\n",
            "Epoch 1/20\n"
          ],
          "name": "stdout"
        },
        {
          "output_type": "error",
          "ename": "AttributeError",
          "evalue": "ignored",
          "traceback": [
            "\u001b[0;31m---------------------------------------------------------------------------\u001b[0m",
            "\u001b[0;31mAttributeError\u001b[0m                            Traceback (most recent call last)",
            "\u001b[0;32m<ipython-input-22-e334e2165885>\u001b[0m in \u001b[0;36m<module>\u001b[0;34m()\u001b[0m\n\u001b[1;32m      1\u001b[0m \u001b[0mprint\u001b[0m\u001b[0;34m(\u001b[0m\u001b[0;34m\"\\nTraining...\"\u001b[0m\u001b[0;34m)\u001b[0m\u001b[0;34m\u001b[0m\u001b[0;34m\u001b[0m\u001b[0m\n\u001b[0;32m----> 2\u001b[0;31m \u001b[0mu_net\u001b[0m\u001b[0;34m.\u001b[0m\u001b[0mfit\u001b[0m\u001b[0;34m(\u001b[0m\u001b[0mtrain_img\u001b[0m\u001b[0;34m,\u001b[0m\u001b[0mtrain_mask\u001b[0m\u001b[0;34m,\u001b[0m\u001b[0mbatch_size\u001b[0m\u001b[0;34m=\u001b[0m\u001b[0;36m16\u001b[0m\u001b[0;34m,\u001b[0m\u001b[0mepochs\u001b[0m\u001b[0;34m=\u001b[0m\u001b[0mepochs\u001b[0m\u001b[0;34m)\u001b[0m\u001b[0;34m\u001b[0m\u001b[0;34m\u001b[0m\u001b[0m\n\u001b[0m",
            "\u001b[0;32m/usr/local/lib/python3.6/dist-packages/keras/engine/training.py\u001b[0m in \u001b[0;36mfit\u001b[0;34m(self, x, y, batch_size, epochs, verbose, callbacks, validation_split, validation_data, shuffle, class_weight, sample_weight, initial_epoch, steps_per_epoch, validation_steps, **kwargs)\u001b[0m\n\u001b[1;32m   1037\u001b[0m                                         \u001b[0minitial_epoch\u001b[0m\u001b[0;34m=\u001b[0m\u001b[0minitial_epoch\u001b[0m\u001b[0;34m,\u001b[0m\u001b[0;34m\u001b[0m\u001b[0;34m\u001b[0m\u001b[0m\n\u001b[1;32m   1038\u001b[0m                                         \u001b[0msteps_per_epoch\u001b[0m\u001b[0;34m=\u001b[0m\u001b[0msteps_per_epoch\u001b[0m\u001b[0;34m,\u001b[0m\u001b[0;34m\u001b[0m\u001b[0;34m\u001b[0m\u001b[0m\n\u001b[0;32m-> 1039\u001b[0;31m                                         validation_steps=validation_steps)\n\u001b[0m\u001b[1;32m   1040\u001b[0m \u001b[0;34m\u001b[0m\u001b[0m\n\u001b[1;32m   1041\u001b[0m     def evaluate(self, x=None, y=None,\n",
            "\u001b[0;32m/usr/local/lib/python3.6/dist-packages/keras/engine/training_arrays.py\u001b[0m in \u001b[0;36mfit_loop\u001b[0;34m(model, f, ins, out_labels, batch_size, epochs, verbose, callbacks, val_f, val_ins, shuffle, callback_metrics, initial_epoch, steps_per_epoch, validation_steps)\u001b[0m\n\u001b[1;32m    215\u001b[0m                         \u001b[0;32mfor\u001b[0m \u001b[0ml\u001b[0m\u001b[0;34m,\u001b[0m \u001b[0mo\u001b[0m \u001b[0;32min\u001b[0m \u001b[0mzip\u001b[0m\u001b[0;34m(\u001b[0m\u001b[0mout_labels\u001b[0m\u001b[0;34m,\u001b[0m \u001b[0mval_outs\u001b[0m\u001b[0;34m)\u001b[0m\u001b[0;34m:\u001b[0m\u001b[0;34m\u001b[0m\u001b[0;34m\u001b[0m\u001b[0m\n\u001b[1;32m    216\u001b[0m                             \u001b[0mepoch_logs\u001b[0m\u001b[0;34m[\u001b[0m\u001b[0;34m'val_'\u001b[0m \u001b[0;34m+\u001b[0m \u001b[0ml\u001b[0m\u001b[0;34m]\u001b[0m \u001b[0;34m=\u001b[0m \u001b[0mo\u001b[0m\u001b[0;34m\u001b[0m\u001b[0;34m\u001b[0m\u001b[0m\n\u001b[0;32m--> 217\u001b[0;31m         \u001b[0mcallbacks\u001b[0m\u001b[0;34m.\u001b[0m\u001b[0mon_epoch_end\u001b[0m\u001b[0;34m(\u001b[0m\u001b[0mepoch\u001b[0m\u001b[0;34m,\u001b[0m \u001b[0mepoch_logs\u001b[0m\u001b[0;34m)\u001b[0m\u001b[0;34m\u001b[0m\u001b[0;34m\u001b[0m\u001b[0m\n\u001b[0m\u001b[1;32m    218\u001b[0m         \u001b[0;32mif\u001b[0m \u001b[0mcallback_model\u001b[0m\u001b[0;34m.\u001b[0m\u001b[0mstop_training\u001b[0m\u001b[0;34m:\u001b[0m\u001b[0;34m\u001b[0m\u001b[0;34m\u001b[0m\u001b[0m\n\u001b[1;32m    219\u001b[0m             \u001b[0;32mbreak\u001b[0m\u001b[0;34m\u001b[0m\u001b[0;34m\u001b[0m\u001b[0m\n",
            "\u001b[0;32m/usr/local/lib/python3.6/dist-packages/keras/callbacks.py\u001b[0m in \u001b[0;36mon_epoch_end\u001b[0;34m(self, epoch, logs)\u001b[0m\n\u001b[1;32m     77\u001b[0m         \u001b[0mlogs\u001b[0m \u001b[0;34m=\u001b[0m \u001b[0mlogs\u001b[0m \u001b[0;32mor\u001b[0m \u001b[0;34m{\u001b[0m\u001b[0;34m}\u001b[0m\u001b[0;34m\u001b[0m\u001b[0;34m\u001b[0m\u001b[0m\n\u001b[1;32m     78\u001b[0m         \u001b[0;32mfor\u001b[0m \u001b[0mcallback\u001b[0m \u001b[0;32min\u001b[0m \u001b[0mself\u001b[0m\u001b[0;34m.\u001b[0m\u001b[0mcallbacks\u001b[0m\u001b[0;34m:\u001b[0m\u001b[0;34m\u001b[0m\u001b[0;34m\u001b[0m\u001b[0m\n\u001b[0;32m---> 79\u001b[0;31m             \u001b[0mcallback\u001b[0m\u001b[0;34m.\u001b[0m\u001b[0mon_epoch_end\u001b[0m\u001b[0;34m(\u001b[0m\u001b[0mepoch\u001b[0m\u001b[0;34m,\u001b[0m \u001b[0mlogs\u001b[0m\u001b[0;34m)\u001b[0m\u001b[0;34m\u001b[0m\u001b[0;34m\u001b[0m\u001b[0m\n\u001b[0m\u001b[1;32m     80\u001b[0m \u001b[0;34m\u001b[0m\u001b[0m\n\u001b[1;32m     81\u001b[0m     \u001b[0;32mdef\u001b[0m \u001b[0mon_batch_begin\u001b[0m\u001b[0;34m(\u001b[0m\u001b[0mself\u001b[0m\u001b[0;34m,\u001b[0m \u001b[0mbatch\u001b[0m\u001b[0;34m,\u001b[0m \u001b[0mlogs\u001b[0m\u001b[0;34m=\u001b[0m\u001b[0;32mNone\u001b[0m\u001b[0;34m)\u001b[0m\u001b[0;34m:\u001b[0m\u001b[0;34m\u001b[0m\u001b[0;34m\u001b[0m\u001b[0m\n",
            "\u001b[0;32m/usr/local/lib/python3.6/dist-packages/keras/callbacks.py\u001b[0m in \u001b[0;36mon_epoch_end\u001b[0;34m(self, epoch, logs)\u001b[0m\n\u001b[1;32m    336\u001b[0m                 \u001b[0mself\u001b[0m\u001b[0;34m.\u001b[0m\u001b[0mlog_values\u001b[0m\u001b[0;34m.\u001b[0m\u001b[0mappend\u001b[0m\u001b[0;34m(\u001b[0m\u001b[0;34m(\u001b[0m\u001b[0mk\u001b[0m\u001b[0;34m,\u001b[0m \u001b[0mlogs\u001b[0m\u001b[0;34m[\u001b[0m\u001b[0mk\u001b[0m\u001b[0;34m]\u001b[0m\u001b[0;34m)\u001b[0m\u001b[0;34m)\u001b[0m\u001b[0;34m\u001b[0m\u001b[0;34m\u001b[0m\u001b[0m\n\u001b[1;32m    337\u001b[0m         \u001b[0;32mif\u001b[0m \u001b[0mself\u001b[0m\u001b[0;34m.\u001b[0m\u001b[0mverbose\u001b[0m\u001b[0;34m:\u001b[0m\u001b[0;34m\u001b[0m\u001b[0;34m\u001b[0m\u001b[0m\n\u001b[0;32m--> 338\u001b[0;31m             \u001b[0mself\u001b[0m\u001b[0;34m.\u001b[0m\u001b[0mprogbar\u001b[0m\u001b[0;34m.\u001b[0m\u001b[0mupdate\u001b[0m\u001b[0;34m(\u001b[0m\u001b[0mself\u001b[0m\u001b[0;34m.\u001b[0m\u001b[0mseen\u001b[0m\u001b[0;34m,\u001b[0m \u001b[0mself\u001b[0m\u001b[0;34m.\u001b[0m\u001b[0mlog_values\u001b[0m\u001b[0;34m)\u001b[0m\u001b[0;34m\u001b[0m\u001b[0;34m\u001b[0m\u001b[0m\n\u001b[0m\u001b[1;32m    339\u001b[0m \u001b[0;34m\u001b[0m\u001b[0m\n\u001b[1;32m    340\u001b[0m \u001b[0;34m\u001b[0m\u001b[0m\n",
            "\u001b[0;31mAttributeError\u001b[0m: 'ProgbarLogger' object has no attribute 'log_values'"
          ]
        }
      ]
    },
    {
      "metadata": {
        "id": "sBcaiWZ0DZem",
        "colab_type": "code",
        "colab": {}
      },
      "cell_type": "code",
      "source": [
        "epochs=30"
      ],
      "execution_count": 0,
      "outputs": []
    },
    {
      "metadata": {
        "id": "KrB6GhT8Dc6b",
        "colab_type": "code",
        "outputId": "217a04c9-a664-4f56-f624-5459d6dc4278",
        "colab": {
          "base_uri": "https://localhost:8080/",
          "height": 1131
        }
      },
      "cell_type": "code",
      "source": [
        "print(\"\\nTraining...\")\n",
        "u_net.fit(train_img,train_mask,batch_size=16,epochs=epochs)"
      ],
      "execution_count": 0,
      "outputs": [
        {
          "output_type": "stream",
          "text": [
            "\n",
            "Training...\n",
            "Epoch 1/30\n",
            "670/670 [==============================] - 16s 23ms/step - loss: 0.0705 - dice_coef: 0.8652\n",
            "Epoch 2/30\n",
            "670/670 [==============================] - 16s 23ms/step - loss: 0.0704 - dice_coef: 0.8621\n",
            "Epoch 3/30\n",
            "670/670 [==============================] - 16s 23ms/step - loss: 0.0700 - dice_coef: 0.8664\n",
            "Epoch 4/30\n",
            "670/670 [==============================] - 16s 23ms/step - loss: 0.0687 - dice_coef: 0.8669\n",
            "Epoch 5/30\n",
            "670/670 [==============================] - 16s 23ms/step - loss: 0.0687 - dice_coef: 0.8668\n",
            "Epoch 6/30\n",
            "670/670 [==============================] - 16s 23ms/step - loss: 0.0726 - dice_coef: 0.8599\n",
            "Epoch 7/30\n",
            "112/670 [====>.........................] - ETA: 12s - loss: 0.0779 - dice_coef: 0.8661"
          ],
          "name": "stdout"
        },
        {
          "output_type": "stream",
          "text": [
            "670/670 [==============================] - 16s 23ms/step - loss: 0.0697 - dice_coef: 0.8668\n",
            "Epoch 8/30\n",
            "670/670 [==============================] - 16s 23ms/step - loss: 0.0663 - dice_coef: 0.8691\n",
            "Epoch 9/30\n",
            "670/670 [==============================] - 16s 23ms/step - loss: 0.0667 - dice_coef: 0.8728\n",
            "Epoch 10/30\n",
            "670/670 [==============================] - 16s 23ms/step - loss: 0.0668 - dice_coef: 0.8715\n",
            "Epoch 11/30\n",
            "670/670 [==============================] - 16s 23ms/step - loss: 0.0675 - dice_coef: 0.8694\n",
            "Epoch 12/30\n",
            "670/670 [==============================] - 16s 23ms/step - loss: 0.0683 - dice_coef: 0.8692\n",
            "Epoch 13/30\n",
            "256/670 [==========>...................] - ETA: 9s - loss: 0.0679 - dice_coef: 0.8639 "
          ],
          "name": "stdout"
        },
        {
          "output_type": "stream",
          "text": [
            "670/670 [==============================] - 16s 23ms/step - loss: 0.0668 - dice_coef: 0.8696\n",
            "Epoch 14/30\n",
            "670/670 [==============================] - 16s 23ms/step - loss: 0.0668 - dice_coef: 0.8702\n",
            "Epoch 15/30\n",
            "670/670 [==============================] - 16s 23ms/step - loss: 0.0660 - dice_coef: 0.8711\n",
            "Epoch 16/30\n",
            "670/670 [==============================] - 16s 23ms/step - loss: 0.0640 - dice_coef: 0.8761\n",
            "Epoch 17/30\n",
            "670/670 [==============================] - 16s 23ms/step - loss: 0.0637 - dice_coef: 0.8742\n",
            "Epoch 18/30\n",
            "670/670 [==============================] - 16s 23ms/step - loss: 0.0633 - dice_coef: 0.8761\n",
            "Epoch 19/30\n",
            "256/670 [==========>...................] - ETA: 9s - loss: 0.0567 - dice_coef: 0.8796"
          ],
          "name": "stdout"
        },
        {
          "output_type": "stream",
          "text": [
            "670/670 [==============================] - 16s 23ms/step - loss: 0.0634 - dice_coef: 0.8753\n",
            "Epoch 20/30\n",
            "670/670 [==============================] - 16s 23ms/step - loss: 0.0638 - dice_coef: 0.8758\n",
            "Epoch 21/30\n",
            "670/670 [==============================] - 16s 23ms/step - loss: 0.0641 - dice_coef: 0.8749\n",
            "Epoch 22/30\n",
            "670/670 [==============================] - 16s 23ms/step - loss: 0.0651 - dice_coef: 0.8730\n",
            "Epoch 23/30\n",
            "670/670 [==============================] - 16s 23ms/step - loss: 0.0627 - dice_coef: 0.8767\n",
            "Epoch 24/30\n",
            "670/670 [==============================] - 16s 23ms/step - loss: 0.0638 - dice_coef: 0.8768\n",
            "Epoch 25/30\n",
            "256/670 [==========>...................] - ETA: 9s - loss: 0.0665 - dice_coef: 0.8796"
          ],
          "name": "stdout"
        },
        {
          "output_type": "stream",
          "text": [
            "670/670 [==============================] - 16s 23ms/step - loss: 0.0645 - dice_coef: 0.8737\n",
            "Epoch 26/30\n",
            "670/670 [==============================] - 16s 23ms/step - loss: 0.0652 - dice_coef: 0.8714\n",
            "Epoch 27/30\n",
            "670/670 [==============================] - 16s 23ms/step - loss: 0.0626 - dice_coef: 0.8770\n",
            "Epoch 28/30\n",
            "670/670 [==============================] - 16s 23ms/step - loss: 0.0617 - dice_coef: 0.8779\n",
            "Epoch 29/30\n",
            "670/670 [==============================] - 16s 23ms/step - loss: 0.0618 - dice_coef: 0.8779\n",
            "Epoch 30/30\n",
            "670/670 [==============================] - 16s 23ms/step - loss: 0.0609 - dice_coef: 0.8802\n"
          ],
          "name": "stdout"
        },
        {
          "output_type": "execute_result",
          "data": {
            "text/plain": [
              "<keras.callbacks.History at 0x7f94566765f8>"
            ]
          },
          "metadata": {
            "tags": []
          },
          "execution_count": 29
        }
      ]
    },
    {
      "metadata": {
        "id": "_y6pKPS7I0Sp",
        "colab_type": "code",
        "colab": {}
      },
      "cell_type": "code",
      "source": [
        ""
      ],
      "execution_count": 0,
      "outputs": []
    }
  ]
}