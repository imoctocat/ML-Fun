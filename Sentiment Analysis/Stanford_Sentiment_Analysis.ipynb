{
  "nbformat": 4,
  "nbformat_minor": 0,
  "metadata": {
    "colab": {
      "name": "Sentiment Analysis",
      "version": "0.3.2",
      "provenance": [],
      "collapsed_sections": []
    },
    "kernelspec": {
      "name": "python3",
      "display_name": "Python 3"
    },
    "accelerator": "GPU"
  },
  "cells": [
    {
      "metadata": {
        "id": "Fk6-RCruC5p7",
        "colab_type": "text"
      },
      "cell_type": "markdown",
      "source": [
        "##Imports"
      ]
    },
    {
      "metadata": {
        "id": "KudPFuh_MV5L",
        "colab_type": "code",
        "colab": {}
      },
      "cell_type": "code",
      "source": [
        "%matplotlib inline\n",
        "import matplotlib.pyplot as plt\n",
        "import tensorflow as tf\n",
        "import numpy as np\n",
        "from scipy.spatial.distance import cdist\n",
        "\n"
      ],
      "execution_count": 0,
      "outputs": []
    },
    {
      "metadata": {
        "id": "7RR215iEMjM2",
        "colab_type": "code",
        "colab": {}
      },
      "cell_type": "code",
      "source": [
        "from tensorflow.python.keras.models import Sequential\n",
        "from tensorflow.python.keras.layers import Dense, GRU, Embedding\n",
        "from tensorflow.python.keras.optimizers import Adam\n",
        "from tensorflow.python.keras.preprocessing.text import Tokenizer\n",
        "from tensorflow.python.keras.preprocessing.sequence import pad_sequences\n"
      ],
      "execution_count": 0,
      "outputs": []
    },
    {
      "metadata": {
        "id": "_F8kP5CkMsNd",
        "colab_type": "code",
        "colab": {}
      },
      "cell_type": "code",
      "source": [
        ""
      ],
      "execution_count": 0,
      "outputs": []
    },
    {
      "metadata": {
        "id": "OVDLiLauC-E2",
        "colab_type": "text"
      },
      "cell_type": "markdown",
      "source": [
        "##Data"
      ]
    },
    {
      "metadata": {
        "id": "olOKIHPLMver",
        "colab_type": "code",
        "outputId": "8dd75816-b283-406f-df31-ddf3b3f77309",
        "colab": {
          "base_uri": "https://localhost:8080/",
          "height": 208
        }
      },
      "cell_type": "code",
      "source": [
        "!wget \"http://ai.stanford.edu/~amaas/data/sentiment/aclImdb_v1.tar.gz\""
      ],
      "execution_count": 0,
      "outputs": [
        {
          "output_type": "stream",
          "text": [
            "--2018-12-22 10:56:23--  http://ai.stanford.edu/~amaas/data/sentiment/aclImdb_v1.tar.gz\n",
            "Resolving ai.stanford.edu (ai.stanford.edu)... 171.64.68.10\n",
            "Connecting to ai.stanford.edu (ai.stanford.edu)|171.64.68.10|:80... connected.\n",
            "HTTP request sent, awaiting response... 200 OK\n",
            "Length: 84125825 (80M) [application/x-gzip]\n",
            "Saving to: ‘aclImdb_v1.tar.gz.1’\n",
            "\n",
            "aclImdb_v1.tar.gz.1 100%[===================>]  80.23M  19.8MB/s    in 6.4s    \n",
            "\n",
            "2018-12-22 10:56:30 (12.5 MB/s) - ‘aclImdb_v1.tar.gz.1’ saved [84125825/84125825]\n",
            "\n"
          ],
          "name": "stdout"
        }
      ]
    },
    {
      "metadata": {
        "id": "K4ipuFYXPJPs",
        "colab_type": "code",
        "outputId": "b7f7cb74-2d82-4c86-de68-3f46b46ece80",
        "colab": {
          "base_uri": "https://localhost:8080/",
          "height": 34
        }
      },
      "cell_type": "code",
      "source": [
        "!ls"
      ],
      "execution_count": 0,
      "outputs": [
        {
          "output_type": "stream",
          "text": [
            "aclImdb  aclImdb_v1.tar.gz  aclImdb_v1.tar.gz.1  sample_data\n"
          ],
          "name": "stdout"
        }
      ]
    },
    {
      "metadata": {
        "id": "rHV3RfMrnV4K",
        "colab_type": "code",
        "colab": {}
      },
      "cell_type": "code",
      "source": [
        "!tar -xvzf aclImdb_v1.tar.gz"
      ],
      "execution_count": 0,
      "outputs": []
    },
    {
      "metadata": {
        "id": "rTGE0iIPG1fP",
        "colab_type": "text"
      },
      "cell_type": "markdown",
      "source": [
        "Output has been cleared due to large size"
      ]
    },
    {
      "metadata": {
        "id": "ps70voJ_Ram-",
        "colab_type": "code",
        "colab": {}
      },
      "cell_type": "code",
      "source": [
        "import os\n",
        "import glob\n",
        "\n",
        "def get_data(data_dir,train=True):\n",
        "    \n",
        "    def _read_text_file(path):\n",
        "      with open( path, 'rt') as file:\n",
        "        lines = file.readlines()       \n",
        "        text = \" \".join(lines)\n",
        "      return text\n",
        "\n",
        "    train_test_path = \"train\" if train else \"test\"\n",
        "\n",
        "    dir_base = os.path.join(data_dir, \"aclImdb\", train_test_path)\n",
        "\n",
        "    \n",
        "    path_pattern_pos = os.path.join(dir_base, \"pos\", \"*.txt\")\n",
        "    path_pattern_neg = os.path.join(dir_base, \"neg\", \"*.txt\")\n",
        "\n",
        "    paths_pos = glob.glob(path_pattern_pos)\n",
        "    paths_neg = glob.glob(path_pattern_neg)\n",
        "\n",
        "    data_pos = [_read_text_file(path) for path in paths_pos]\n",
        "    data_neg = [_read_text_file(path) for path in paths_neg]\n",
        "\n",
        "    \n",
        "    x = data_pos + data_neg\n",
        "\n",
        "    \n",
        "    y = [1.0] * len(data_pos) + [0.0] * len(data_neg)\n",
        "    return x,y"
      ],
      "execution_count": 0,
      "outputs": []
    },
    {
      "metadata": {
        "id": "l8V9LOwLG8lu",
        "colab_type": "code",
        "colab": {}
      },
      "cell_type": "code",
      "source": [
        ""
      ],
      "execution_count": 0,
      "outputs": []
    },
    {
      "metadata": {
        "id": "NMEIcNwi3e8T",
        "colab_type": "code",
        "colab": {}
      },
      "cell_type": "code",
      "source": [
        "x_train_text, y_train = get_data(\"/content\",True)\n",
        "x_test_text, y_test= get_data(\"/content\",False)"
      ],
      "execution_count": 0,
      "outputs": []
    },
    {
      "metadata": {
        "id": "Rnmc3NrX4c5a",
        "colab_type": "code",
        "outputId": "46772c4a-b42b-4780-93d4-824b28516a2a",
        "colab": {
          "base_uri": "https://localhost:8080/",
          "height": 54
        }
      },
      "cell_type": "code",
      "source": [
        "x_train_text[-1]"
      ],
      "execution_count": 0,
      "outputs": [
        {
          "output_type": "execute_result",
          "data": {
            "text/plain": [
              "'Omen IV (1991) was a bad made-for-T.V. movie. Since the 80\\'s were over, I guess the executives were experimenting in meth (the drug of choice during the 90\\'s) because there is no other reason to explain this travesty. Why did they even bother making this? A t.v. movie? What were they mulling over when this one came up on the idea board? Did they even think for a second that this movie would catch on as. Perhaps they thought it could make it as a series? We\\'ll never know. But I know one thing. This movie was the major reason why I never bought the Omen trilogy. They should have knocked off a couple of bucks instead of putting out this \"extra\" disc.<br /><br />Omen IV is basically a average American family remake of the first film. Instead of a snot nosed punk kid, we get the spooky girl who\\'s a total brat to everyone around her. If the family had stronger parenting skills, then none of the demonic events that have transpired in the past films would have never occurred. These parents need to put their foot down and do some real discipline! <br /><br />Not recommended, best to avoid at all cost!'"
            ]
          },
          "metadata": {
            "tags": []
          },
          "execution_count": 11
        }
      ]
    },
    {
      "metadata": {
        "id": "E-XGGipFF5xb",
        "colab_type": "code",
        "colab": {}
      },
      "cell_type": "code",
      "source": [
        "data_text= x_train_text + x_test_text"
      ],
      "execution_count": 0,
      "outputs": []
    },
    {
      "metadata": {
        "id": "OM25YqEdAy2u",
        "colab_type": "code",
        "outputId": "3b362278-ff22-4bea-d310-663485c0562a",
        "colab": {
          "base_uri": "https://localhost:8080/",
          "height": 34
        }
      },
      "cell_type": "code",
      "source": [
        "\n",
        "len( y_test )"
      ],
      "execution_count": 0,
      "outputs": [
        {
          "output_type": "execute_result",
          "data": {
            "text/plain": [
              "25000"
            ]
          },
          "metadata": {
            "tags": []
          },
          "execution_count": 13
        }
      ]
    },
    {
      "metadata": {
        "id": "RI43pcGCFUWR",
        "colab_type": "text"
      },
      "cell_type": "markdown",
      "source": [
        "##Tokenizing"
      ]
    },
    {
      "metadata": {
        "id": "_tX8484uFUBO",
        "colab_type": "code",
        "colab": {}
      },
      "cell_type": "code",
      "source": [
        "tokenizer= Tokenizer( num_words=10000 )"
      ],
      "execution_count": 0,
      "outputs": []
    },
    {
      "metadata": {
        "id": "IgsIl9ZKA5fw",
        "colab_type": "code",
        "outputId": "19ea4195-cff0-4b48-c71d-b02f81f36c4f",
        "colab": {
          "base_uri": "https://localhost:8080/",
          "height": 52
        }
      },
      "cell_type": "code",
      "source": [
        "%%time\n",
        "tokenizer.fit_on_texts(data_text)"
      ],
      "execution_count": 0,
      "outputs": [
        {
          "output_type": "stream",
          "text": [
            "CPU times: user 11.1 s, sys: 54.8 ms, total: 11.2 s\n",
            "Wall time: 11.2 s\n"
          ],
          "name": "stdout"
        }
      ]
    },
    {
      "metadata": {
        "id": "R-ZCU-wWI_QZ",
        "colab_type": "code",
        "outputId": "77f59c6f-b0b3-438e-ca19-28e0a9c7f8c0",
        "colab": {
          "base_uri": "https://localhost:8080/",
          "height": 17401
        }
      },
      "cell_type": "code",
      "source": [
        "tokenizer.word_index"
      ],
      "execution_count": 65,
      "outputs": [
        {
          "output_type": "execute_result",
          "data": {
            "text/plain": [
              "{'the': 1,\n",
              " 'and': 2,\n",
              " 'a': 3,\n",
              " 'of': 4,\n",
              " 'to': 5,\n",
              " 'is': 6,\n",
              " 'br': 7,\n",
              " 'in': 8,\n",
              " 'it': 9,\n",
              " 'i': 10,\n",
              " 'this': 11,\n",
              " 'that': 12,\n",
              " 'was': 13,\n",
              " 'as': 14,\n",
              " 'for': 15,\n",
              " 'with': 16,\n",
              " 'movie': 17,\n",
              " 'but': 18,\n",
              " 'film': 19,\n",
              " 'on': 20,\n",
              " 'not': 21,\n",
              " 'you': 22,\n",
              " 'are': 23,\n",
              " 'his': 24,\n",
              " 'have': 25,\n",
              " 'be': 26,\n",
              " 'one': 27,\n",
              " 'he': 28,\n",
              " 'all': 29,\n",
              " 'at': 30,\n",
              " 'by': 31,\n",
              " 'an': 32,\n",
              " 'they': 33,\n",
              " 'so': 34,\n",
              " 'who': 35,\n",
              " 'from': 36,\n",
              " 'like': 37,\n",
              " 'or': 38,\n",
              " 'just': 39,\n",
              " 'her': 40,\n",
              " 'out': 41,\n",
              " 'about': 42,\n",
              " 'if': 43,\n",
              " \"it's\": 44,\n",
              " 'has': 45,\n",
              " 'there': 46,\n",
              " 'some': 47,\n",
              " 'what': 48,\n",
              " 'good': 49,\n",
              " 'when': 50,\n",
              " 'more': 51,\n",
              " 'very': 52,\n",
              " 'up': 53,\n",
              " 'no': 54,\n",
              " 'time': 55,\n",
              " 'my': 56,\n",
              " 'even': 57,\n",
              " 'would': 58,\n",
              " 'she': 59,\n",
              " 'which': 60,\n",
              " 'only': 61,\n",
              " 'really': 62,\n",
              " 'see': 63,\n",
              " 'story': 64,\n",
              " 'their': 65,\n",
              " 'had': 66,\n",
              " 'can': 67,\n",
              " 'me': 68,\n",
              " 'well': 69,\n",
              " 'were': 70,\n",
              " 'than': 71,\n",
              " 'much': 72,\n",
              " 'we': 73,\n",
              " 'bad': 74,\n",
              " 'been': 75,\n",
              " 'get': 76,\n",
              " 'do': 77,\n",
              " 'great': 78,\n",
              " 'other': 79,\n",
              " 'will': 80,\n",
              " 'also': 81,\n",
              " 'into': 82,\n",
              " 'people': 83,\n",
              " 'because': 84,\n",
              " 'how': 85,\n",
              " 'first': 86,\n",
              " 'him': 87,\n",
              " 'most': 88,\n",
              " \"don't\": 89,\n",
              " 'made': 90,\n",
              " 'then': 91,\n",
              " 'its': 92,\n",
              " 'them': 93,\n",
              " 'make': 94,\n",
              " 'way': 95,\n",
              " 'too': 96,\n",
              " 'movies': 97,\n",
              " 'could': 98,\n",
              " 'any': 99,\n",
              " 'after': 100,\n",
              " 'think': 101,\n",
              " 'characters': 102,\n",
              " 'watch': 103,\n",
              " 'films': 104,\n",
              " 'two': 105,\n",
              " 'many': 106,\n",
              " 'seen': 107,\n",
              " 'character': 108,\n",
              " 'being': 109,\n",
              " 'never': 110,\n",
              " 'plot': 111,\n",
              " 'love': 112,\n",
              " 'acting': 113,\n",
              " 'life': 114,\n",
              " 'did': 115,\n",
              " 'best': 116,\n",
              " 'where': 117,\n",
              " 'know': 118,\n",
              " 'show': 119,\n",
              " 'little': 120,\n",
              " 'over': 121,\n",
              " 'off': 122,\n",
              " 'ever': 123,\n",
              " 'does': 124,\n",
              " 'your': 125,\n",
              " 'better': 126,\n",
              " 'end': 127,\n",
              " 'man': 128,\n",
              " 'scene': 129,\n",
              " 'still': 130,\n",
              " 'say': 131,\n",
              " 'these': 132,\n",
              " 'here': 133,\n",
              " 'why': 134,\n",
              " 'scenes': 135,\n",
              " 'while': 136,\n",
              " 'something': 137,\n",
              " 'such': 138,\n",
              " 'go': 139,\n",
              " 'through': 140,\n",
              " 'back': 141,\n",
              " 'should': 142,\n",
              " 'those': 143,\n",
              " 'real': 144,\n",
              " \"i'm\": 145,\n",
              " 'now': 146,\n",
              " 'watching': 147,\n",
              " 'thing': 148,\n",
              " \"doesn't\": 149,\n",
              " 'actors': 150,\n",
              " 'though': 151,\n",
              " 'funny': 152,\n",
              " 'years': 153,\n",
              " \"didn't\": 154,\n",
              " 'old': 155,\n",
              " 'another': 156,\n",
              " '10': 157,\n",
              " 'work': 158,\n",
              " 'before': 159,\n",
              " 'actually': 160,\n",
              " 'nothing': 161,\n",
              " 'makes': 162,\n",
              " 'look': 163,\n",
              " 'director': 164,\n",
              " 'find': 165,\n",
              " 'going': 166,\n",
              " 'same': 167,\n",
              " 'new': 168,\n",
              " 'lot': 169,\n",
              " 'every': 170,\n",
              " 'few': 171,\n",
              " 'again': 172,\n",
              " 'part': 173,\n",
              " 'cast': 174,\n",
              " 'down': 175,\n",
              " 'us': 176,\n",
              " 'things': 177,\n",
              " 'want': 178,\n",
              " 'quite': 179,\n",
              " 'pretty': 180,\n",
              " 'world': 181,\n",
              " 'horror': 182,\n",
              " 'around': 183,\n",
              " 'seems': 184,\n",
              " \"can't\": 185,\n",
              " 'young': 186,\n",
              " 'take': 187,\n",
              " 'however': 188,\n",
              " 'got': 189,\n",
              " 'thought': 190,\n",
              " 'big': 191,\n",
              " 'fact': 192,\n",
              " 'enough': 193,\n",
              " 'long': 194,\n",
              " 'both': 195,\n",
              " \"that's\": 196,\n",
              " 'give': 197,\n",
              " \"i've\": 198,\n",
              " 'own': 199,\n",
              " 'may': 200,\n",
              " 'between': 201,\n",
              " 'comedy': 202,\n",
              " 'right': 203,\n",
              " 'series': 204,\n",
              " 'action': 205,\n",
              " 'must': 206,\n",
              " 'music': 207,\n",
              " 'without': 208,\n",
              " 'times': 209,\n",
              " 'saw': 210,\n",
              " 'always': 211,\n",
              " 'original': 212,\n",
              " \"isn't\": 213,\n",
              " 'role': 214,\n",
              " 'come': 215,\n",
              " 'almost': 216,\n",
              " 'gets': 217,\n",
              " 'interesting': 218,\n",
              " 'guy': 219,\n",
              " 'point': 220,\n",
              " 'done': 221,\n",
              " \"there's\": 222,\n",
              " 'whole': 223,\n",
              " 'least': 224,\n",
              " 'far': 225,\n",
              " 'bit': 226,\n",
              " 'script': 227,\n",
              " 'minutes': 228,\n",
              " 'feel': 229,\n",
              " '2': 230,\n",
              " 'anything': 231,\n",
              " 'making': 232,\n",
              " 'might': 233,\n",
              " 'since': 234,\n",
              " 'am': 235,\n",
              " 'family': 236,\n",
              " \"he's\": 237,\n",
              " 'last': 238,\n",
              " 'probably': 239,\n",
              " 'tv': 240,\n",
              " 'performance': 241,\n",
              " 'kind': 242,\n",
              " 'away': 243,\n",
              " 'yet': 244,\n",
              " 'fun': 245,\n",
              " 'worst': 246,\n",
              " 'sure': 247,\n",
              " 'rather': 248,\n",
              " 'hard': 249,\n",
              " 'anyone': 250,\n",
              " 'girl': 251,\n",
              " 'each': 252,\n",
              " 'played': 253,\n",
              " 'day': 254,\n",
              " 'found': 255,\n",
              " 'looking': 256,\n",
              " 'woman': 257,\n",
              " 'screen': 258,\n",
              " 'although': 259,\n",
              " 'our': 260,\n",
              " 'especially': 261,\n",
              " 'believe': 262,\n",
              " 'having': 263,\n",
              " 'trying': 264,\n",
              " 'course': 265,\n",
              " 'dvd': 266,\n",
              " 'everything': 267,\n",
              " 'set': 268,\n",
              " 'goes': 269,\n",
              " 'comes': 270,\n",
              " 'put': 271,\n",
              " 'ending': 272,\n",
              " 'maybe': 273,\n",
              " 'place': 274,\n",
              " 'book': 275,\n",
              " 'shows': 276,\n",
              " 'three': 277,\n",
              " 'worth': 278,\n",
              " 'different': 279,\n",
              " 'main': 280,\n",
              " 'once': 281,\n",
              " 'sense': 282,\n",
              " 'american': 283,\n",
              " 'reason': 284,\n",
              " 'looks': 285,\n",
              " 'effects': 286,\n",
              " 'watched': 287,\n",
              " 'play': 288,\n",
              " 'true': 289,\n",
              " 'money': 290,\n",
              " 'actor': 291,\n",
              " \"wasn't\": 292,\n",
              " 'job': 293,\n",
              " 'together': 294,\n",
              " 'war': 295,\n",
              " 'someone': 296,\n",
              " 'plays': 297,\n",
              " 'instead': 298,\n",
              " 'high': 299,\n",
              " 'during': 300,\n",
              " 'year': 301,\n",
              " 'said': 302,\n",
              " 'half': 303,\n",
              " 'everyone': 304,\n",
              " 'later': 305,\n",
              " 'takes': 306,\n",
              " '1': 307,\n",
              " 'seem': 308,\n",
              " 'audience': 309,\n",
              " 'special': 310,\n",
              " 'beautiful': 311,\n",
              " 'left': 312,\n",
              " 'himself': 313,\n",
              " 'seeing': 314,\n",
              " 'john': 315,\n",
              " 'night': 316,\n",
              " 'black': 317,\n",
              " 'version': 318,\n",
              " 'shot': 319,\n",
              " 'excellent': 320,\n",
              " 'idea': 321,\n",
              " 'house': 322,\n",
              " 'mind': 323,\n",
              " 'star': 324,\n",
              " 'wife': 325,\n",
              " 'fan': 326,\n",
              " 'death': 327,\n",
              " 'used': 328,\n",
              " 'else': 329,\n",
              " 'simply': 330,\n",
              " 'nice': 331,\n",
              " 'budget': 332,\n",
              " 'poor': 333,\n",
              " 'short': 334,\n",
              " 'completely': 335,\n",
              " 'second': 336,\n",
              " \"you're\": 337,\n",
              " '3': 338,\n",
              " 'read': 339,\n",
              " 'along': 340,\n",
              " 'less': 341,\n",
              " 'top': 342,\n",
              " 'help': 343,\n",
              " 'home': 344,\n",
              " 'men': 345,\n",
              " 'either': 346,\n",
              " 'line': 347,\n",
              " 'boring': 348,\n",
              " 'dead': 349,\n",
              " 'friends': 350,\n",
              " 'kids': 351,\n",
              " 'try': 352,\n",
              " 'production': 353,\n",
              " 'enjoy': 354,\n",
              " 'camera': 355,\n",
              " 'use': 356,\n",
              " 'wrong': 357,\n",
              " 'given': 358,\n",
              " 'low': 359,\n",
              " 'classic': 360,\n",
              " 'father': 361,\n",
              " 'need': 362,\n",
              " 'full': 363,\n",
              " 'stupid': 364,\n",
              " 'next': 365,\n",
              " 'until': 366,\n",
              " 'performances': 367,\n",
              " 'school': 368,\n",
              " 'hollywood': 369,\n",
              " 'rest': 370,\n",
              " 'truly': 371,\n",
              " 'awful': 372,\n",
              " 'video': 373,\n",
              " 'couple': 374,\n",
              " 'start': 375,\n",
              " 'sex': 376,\n",
              " 'recommend': 377,\n",
              " 'women': 378,\n",
              " 'let': 379,\n",
              " 'tell': 380,\n",
              " 'terrible': 381,\n",
              " 'remember': 382,\n",
              " 'mean': 383,\n",
              " 'came': 384,\n",
              " 'understand': 385,\n",
              " 'getting': 386,\n",
              " 'perhaps': 387,\n",
              " 'moments': 388,\n",
              " 'name': 389,\n",
              " 'keep': 390,\n",
              " 'face': 391,\n",
              " 'itself': 392,\n",
              " 'wonderful': 393,\n",
              " 'playing': 394,\n",
              " 'human': 395,\n",
              " 'style': 396,\n",
              " 'small': 397,\n",
              " 'episode': 398,\n",
              " 'perfect': 399,\n",
              " 'others': 400,\n",
              " 'person': 401,\n",
              " 'doing': 402,\n",
              " 'often': 403,\n",
              " 'early': 404,\n",
              " 'stars': 405,\n",
              " 'definitely': 406,\n",
              " 'written': 407,\n",
              " 'head': 408,\n",
              " 'lines': 409,\n",
              " 'dialogue': 410,\n",
              " 'gives': 411,\n",
              " 'piece': 412,\n",
              " \"couldn't\": 413,\n",
              " 'went': 414,\n",
              " 'finally': 415,\n",
              " 'mother': 416,\n",
              " 'title': 417,\n",
              " 'case': 418,\n",
              " 'absolutely': 419,\n",
              " 'boy': 420,\n",
              " 'live': 421,\n",
              " 'yes': 422,\n",
              " 'laugh': 423,\n",
              " 'certainly': 424,\n",
              " 'liked': 425,\n",
              " 'become': 426,\n",
              " 'entertaining': 427,\n",
              " 'worse': 428,\n",
              " 'oh': 429,\n",
              " 'sort': 430,\n",
              " 'loved': 431,\n",
              " 'lost': 432,\n",
              " 'hope': 433,\n",
              " 'called': 434,\n",
              " 'picture': 435,\n",
              " 'felt': 436,\n",
              " 'overall': 437,\n",
              " 'entire': 438,\n",
              " 'several': 439,\n",
              " 'mr': 440,\n",
              " 'based': 441,\n",
              " 'supposed': 442,\n",
              " 'cinema': 443,\n",
              " 'friend': 444,\n",
              " 'guys': 445,\n",
              " 'sound': 446,\n",
              " '5': 447,\n",
              " 'problem': 448,\n",
              " 'drama': 449,\n",
              " 'against': 450,\n",
              " 'waste': 451,\n",
              " 'white': 452,\n",
              " 'beginning': 453,\n",
              " '4': 454,\n",
              " 'fans': 455,\n",
              " 'totally': 456,\n",
              " 'dark': 457,\n",
              " 'care': 458,\n",
              " 'direction': 459,\n",
              " 'humor': 460,\n",
              " 'wanted': 461,\n",
              " \"she's\": 462,\n",
              " 'seemed': 463,\n",
              " 'under': 464,\n",
              " 'game': 465,\n",
              " 'children': 466,\n",
              " 'despite': 467,\n",
              " 'lives': 468,\n",
              " 'lead': 469,\n",
              " 'guess': 470,\n",
              " 'example': 471,\n",
              " 'already': 472,\n",
              " 'final': 473,\n",
              " 'throughout': 474,\n",
              " \"you'll\": 475,\n",
              " 'turn': 476,\n",
              " 'evil': 477,\n",
              " 'becomes': 478,\n",
              " 'unfortunately': 479,\n",
              " 'able': 480,\n",
              " 'quality': 481,\n",
              " \"i'd\": 482,\n",
              " 'days': 483,\n",
              " 'history': 484,\n",
              " 'fine': 485,\n",
              " 'side': 486,\n",
              " 'wants': 487,\n",
              " 'heart': 488,\n",
              " 'horrible': 489,\n",
              " 'writing': 490,\n",
              " 'amazing': 491,\n",
              " 'b': 492,\n",
              " 'flick': 493,\n",
              " 'killer': 494,\n",
              " 'run': 495,\n",
              " 'son': 496,\n",
              " '\\x96': 497,\n",
              " 'michael': 498,\n",
              " 'works': 499,\n",
              " 'close': 500,\n",
              " \"they're\": 501,\n",
              " 'act': 502,\n",
              " 'art': 503,\n",
              " 'matter': 504,\n",
              " 'kill': 505,\n",
              " 'etc': 506,\n",
              " 'tries': 507,\n",
              " \"won't\": 508,\n",
              " 'past': 509,\n",
              " 'town': 510,\n",
              " 'enjoyed': 511,\n",
              " 'turns': 512,\n",
              " 'brilliant': 513,\n",
              " 'gave': 514,\n",
              " 'behind': 515,\n",
              " 'parts': 516,\n",
              " 'stuff': 517,\n",
              " 'genre': 518,\n",
              " 'eyes': 519,\n",
              " 'car': 520,\n",
              " 'favorite': 521,\n",
              " 'directed': 522,\n",
              " 'late': 523,\n",
              " 'hand': 524,\n",
              " 'expect': 525,\n",
              " 'soon': 526,\n",
              " 'hour': 527,\n",
              " 'obviously': 528,\n",
              " 'themselves': 529,\n",
              " 'sometimes': 530,\n",
              " 'killed': 531,\n",
              " 'actress': 532,\n",
              " 'thinking': 533,\n",
              " 'child': 534,\n",
              " 'girls': 535,\n",
              " 'viewer': 536,\n",
              " 'starts': 537,\n",
              " 'city': 538,\n",
              " 'myself': 539,\n",
              " 'decent': 540,\n",
              " 'highly': 541,\n",
              " 'stop': 542,\n",
              " 'type': 543,\n",
              " 'self': 544,\n",
              " 'god': 545,\n",
              " 'says': 546,\n",
              " 'group': 547,\n",
              " 'anyway': 548,\n",
              " 'voice': 549,\n",
              " 'took': 550,\n",
              " 'known': 551,\n",
              " 'blood': 552,\n",
              " 'kid': 553,\n",
              " 'heard': 554,\n",
              " 'happens': 555,\n",
              " 'except': 556,\n",
              " 'fight': 557,\n",
              " 'feeling': 558,\n",
              " 'experience': 559,\n",
              " 'coming': 560,\n",
              " 'slow': 561,\n",
              " 'daughter': 562,\n",
              " 'writer': 563,\n",
              " 'stories': 564,\n",
              " 'moment': 565,\n",
              " 'told': 566,\n",
              " 'leave': 567,\n",
              " 'extremely': 568,\n",
              " 'score': 569,\n",
              " 'violence': 570,\n",
              " 'involved': 571,\n",
              " 'police': 572,\n",
              " 'strong': 573,\n",
              " 'chance': 574,\n",
              " 'lack': 575,\n",
              " 'cannot': 576,\n",
              " 'hit': 577,\n",
              " 'roles': 578,\n",
              " 'hilarious': 579,\n",
              " 's': 580,\n",
              " 'happen': 581,\n",
              " 'wonder': 582,\n",
              " 'particularly': 583,\n",
              " 'ok': 584,\n",
              " 'including': 585,\n",
              " 'save': 586,\n",
              " 'living': 587,\n",
              " 'looked': 588,\n",
              " \"wouldn't\": 589,\n",
              " 'crap': 590,\n",
              " 'simple': 591,\n",
              " 'please': 592,\n",
              " 'cool': 593,\n",
              " 'murder': 594,\n",
              " 'obvious': 595,\n",
              " 'happened': 596,\n",
              " 'complete': 597,\n",
              " 'cut': 598,\n",
              " 'age': 599,\n",
              " 'serious': 600,\n",
              " 'gore': 601,\n",
              " 'attempt': 602,\n",
              " 'hell': 603,\n",
              " 'ago': 604,\n",
              " 'song': 605,\n",
              " 'shown': 606,\n",
              " 'taken': 607,\n",
              " 'english': 608,\n",
              " 'james': 609,\n",
              " 'robert': 610,\n",
              " 'david': 611,\n",
              " 'seriously': 612,\n",
              " 'released': 613,\n",
              " 'reality': 614,\n",
              " 'opening': 615,\n",
              " 'interest': 616,\n",
              " 'jokes': 617,\n",
              " 'across': 618,\n",
              " 'none': 619,\n",
              " 'hero': 620,\n",
              " 'exactly': 621,\n",
              " 'today': 622,\n",
              " 'possible': 623,\n",
              " 'alone': 624,\n",
              " 'sad': 625,\n",
              " 'brother': 626,\n",
              " 'number': 627,\n",
              " 'career': 628,\n",
              " 'saying': 629,\n",
              " \"film's\": 630,\n",
              " 'hours': 631,\n",
              " 'usually': 632,\n",
              " 'cinematography': 633,\n",
              " 'talent': 634,\n",
              " 'view': 635,\n",
              " 'annoying': 636,\n",
              " 'yourself': 637,\n",
              " 'running': 638,\n",
              " 'relationship': 639,\n",
              " 'documentary': 640,\n",
              " 'wish': 641,\n",
              " 'order': 642,\n",
              " 'huge': 643,\n",
              " 'shots': 644,\n",
              " 'whose': 645,\n",
              " 'ridiculous': 646,\n",
              " 'taking': 647,\n",
              " 'important': 648,\n",
              " 'light': 649,\n",
              " 'body': 650,\n",
              " 'middle': 651,\n",
              " 'level': 652,\n",
              " 'ends': 653,\n",
              " 'started': 654,\n",
              " 'call': 655,\n",
              " 'female': 656,\n",
              " \"i'll\": 657,\n",
              " 'husband': 658,\n",
              " 'four': 659,\n",
              " 'power': 660,\n",
              " 'turned': 661,\n",
              " 'word': 662,\n",
              " 'major': 663,\n",
              " 'opinion': 664,\n",
              " 'change': 665,\n",
              " 'mostly': 666,\n",
              " 'usual': 667,\n",
              " 'silly': 668,\n",
              " 'scary': 669,\n",
              " 'rating': 670,\n",
              " 'beyond': 671,\n",
              " 'somewhat': 672,\n",
              " 'happy': 673,\n",
              " 'ones': 674,\n",
              " 'words': 675,\n",
              " 'room': 676,\n",
              " 'knew': 677,\n",
              " 'knows': 678,\n",
              " 'country': 679,\n",
              " 'disappointed': 680,\n",
              " 'talking': 681,\n",
              " 'novel': 682,\n",
              " 'apparently': 683,\n",
              " 'non': 684,\n",
              " 'strange': 685,\n",
              " 'upon': 686,\n",
              " 'attention': 687,\n",
              " 'basically': 688,\n",
              " 'single': 689,\n",
              " 'finds': 690,\n",
              " 'cheap': 691,\n",
              " 'modern': 692,\n",
              " 'due': 693,\n",
              " 'jack': 694,\n",
              " 'musical': 695,\n",
              " 'television': 696,\n",
              " 'problems': 697,\n",
              " 'miss': 698,\n",
              " 'episodes': 699,\n",
              " 'clearly': 700,\n",
              " 'local': 701,\n",
              " '7': 702,\n",
              " 'british': 703,\n",
              " 'thriller': 704,\n",
              " 'talk': 705,\n",
              " 'events': 706,\n",
              " 'sequence': 707,\n",
              " 'five': 708,\n",
              " \"aren't\": 709,\n",
              " 'class': 710,\n",
              " 'french': 711,\n",
              " 'moving': 712,\n",
              " 'ten': 713,\n",
              " 'fast': 714,\n",
              " 'earth': 715,\n",
              " 'review': 716,\n",
              " 'tells': 717,\n",
              " 'predictable': 718,\n",
              " 'team': 719,\n",
              " 'songs': 720,\n",
              " 'comic': 721,\n",
              " 'straight': 722,\n",
              " '8': 723,\n",
              " 'whether': 724,\n",
              " 'die': 725,\n",
              " 'add': 726,\n",
              " 'dialog': 727,\n",
              " 'entertainment': 728,\n",
              " 'above': 729,\n",
              " 'sets': 730,\n",
              " 'future': 731,\n",
              " 'enjoyable': 732,\n",
              " 'appears': 733,\n",
              " 'near': 734,\n",
              " 'space': 735,\n",
              " 'easily': 736,\n",
              " 'hate': 737,\n",
              " 'soundtrack': 738,\n",
              " 'bring': 739,\n",
              " 'giving': 740,\n",
              " 'lots': 741,\n",
              " 'romantic': 742,\n",
              " 'similar': 743,\n",
              " 'george': 744,\n",
              " 'supporting': 745,\n",
              " 'release': 746,\n",
              " 'mention': 747,\n",
              " 'within': 748,\n",
              " 'filmed': 749,\n",
              " 'message': 750,\n",
              " 'sequel': 751,\n",
              " 'clear': 752,\n",
              " 'falls': 753,\n",
              " \"haven't\": 754,\n",
              " 'needs': 755,\n",
              " 'dull': 756,\n",
              " 'suspense': 757,\n",
              " 'eye': 758,\n",
              " 'bunch': 759,\n",
              " 'surprised': 760,\n",
              " 'showing': 761,\n",
              " 'tried': 762,\n",
              " 'sorry': 763,\n",
              " 'certain': 764,\n",
              " 'working': 765,\n",
              " 'easy': 766,\n",
              " 'ways': 767,\n",
              " 'theme': 768,\n",
              " 'theater': 769,\n",
              " 'named': 770,\n",
              " 'among': 771,\n",
              " \"what's\": 772,\n",
              " 'storyline': 773,\n",
              " 'monster': 774,\n",
              " 'king': 775,\n",
              " 'stay': 776,\n",
              " 'effort': 777,\n",
              " 'stand': 778,\n",
              " 'minute': 779,\n",
              " 'fall': 780,\n",
              " 'gone': 781,\n",
              " 'rock': 782,\n",
              " 'using': 783,\n",
              " '9': 784,\n",
              " 'feature': 785,\n",
              " 'comments': 786,\n",
              " 'buy': 787,\n",
              " \"'\": 788,\n",
              " 't': 789,\n",
              " 'typical': 790,\n",
              " 'sister': 791,\n",
              " 'editing': 792,\n",
              " 'tale': 793,\n",
              " 'avoid': 794,\n",
              " 'mystery': 795,\n",
              " 'deal': 796,\n",
              " 'dr': 797,\n",
              " 'doubt': 798,\n",
              " 'fantastic': 799,\n",
              " 'nearly': 800,\n",
              " 'kept': 801,\n",
              " 'subject': 802,\n",
              " 'feels': 803,\n",
              " 'okay': 804,\n",
              " 'viewing': 805,\n",
              " 'elements': 806,\n",
              " 'check': 807,\n",
              " 'oscar': 808,\n",
              " 'points': 809,\n",
              " 'realistic': 810,\n",
              " 'means': 811,\n",
              " 'greatest': 812,\n",
              " 'herself': 813,\n",
              " 'parents': 814,\n",
              " 'famous': 815,\n",
              " 'imagine': 816,\n",
              " 'rent': 817,\n",
              " 'viewers': 818,\n",
              " 'richard': 819,\n",
              " 'crime': 820,\n",
              " 'form': 821,\n",
              " 'peter': 822,\n",
              " 'actual': 823,\n",
              " 'lady': 824,\n",
              " 'general': 825,\n",
              " 'dog': 826,\n",
              " 'follow': 827,\n",
              " 'believable': 828,\n",
              " 'period': 829,\n",
              " 'red': 830,\n",
              " 'brought': 831,\n",
              " 'move': 832,\n",
              " 'material': 833,\n",
              " 'forget': 834,\n",
              " 'somehow': 835,\n",
              " 'begins': 836,\n",
              " 're': 837,\n",
              " 'reviews': 838,\n",
              " 'animation': 839,\n",
              " 'paul': 840,\n",
              " \"you've\": 841,\n",
              " 'leads': 842,\n",
              " 'weak': 843,\n",
              " 'figure': 844,\n",
              " 'surprise': 845,\n",
              " 'hear': 846,\n",
              " 'sit': 847,\n",
              " 'average': 848,\n",
              " 'open': 849,\n",
              " 'sequences': 850,\n",
              " 'atmosphere': 851,\n",
              " 'killing': 852,\n",
              " 'eventually': 853,\n",
              " 'tom': 854,\n",
              " 'learn': 855,\n",
              " 'premise': 856,\n",
              " '20': 857,\n",
              " 'wait': 858,\n",
              " 'sci': 859,\n",
              " 'deep': 860,\n",
              " 'fi': 861,\n",
              " 'expected': 862,\n",
              " 'whatever': 863,\n",
              " 'indeed': 864,\n",
              " 'particular': 865,\n",
              " 'note': 866,\n",
              " 'poorly': 867,\n",
              " 'lame': 868,\n",
              " 'imdb': 869,\n",
              " 'dance': 870,\n",
              " 'shame': 871,\n",
              " 'situation': 872,\n",
              " 'third': 873,\n",
              " 'york': 874,\n",
              " 'box': 875,\n",
              " 'truth': 876,\n",
              " 'decided': 877,\n",
              " 'free': 878,\n",
              " 'hot': 879,\n",
              " \"who's\": 880,\n",
              " 'difficult': 881,\n",
              " 'needed': 882,\n",
              " 'season': 883,\n",
              " 'acted': 884,\n",
              " 'leaves': 885,\n",
              " 'unless': 886,\n",
              " 'romance': 887,\n",
              " 'possibly': 888,\n",
              " 'emotional': 889,\n",
              " 'gay': 890,\n",
              " 'sexual': 891,\n",
              " 'boys': 892,\n",
              " 'footage': 893,\n",
              " 'write': 894,\n",
              " 'western': 895,\n",
              " 'credits': 896,\n",
              " 'forced': 897,\n",
              " 'reading': 898,\n",
              " 'became': 899,\n",
              " 'memorable': 900,\n",
              " 'doctor': 901,\n",
              " 'otherwise': 902,\n",
              " 'begin': 903,\n",
              " 'crew': 904,\n",
              " 'air': 905,\n",
              " 'de': 906,\n",
              " 'question': 907,\n",
              " 'meet': 908,\n",
              " 'society': 909,\n",
              " 'male': 910,\n",
              " 'meets': 911,\n",
              " \"let's\": 912,\n",
              " 'plus': 913,\n",
              " 'cheesy': 914,\n",
              " 'hands': 915,\n",
              " 'superb': 916,\n",
              " 'screenplay': 917,\n",
              " 'interested': 918,\n",
              " 'beauty': 919,\n",
              " 'features': 920,\n",
              " 'street': 921,\n",
              " 'perfectly': 922,\n",
              " 'masterpiece': 923,\n",
              " 'whom': 924,\n",
              " 'laughs': 925,\n",
              " 'nature': 926,\n",
              " 'stage': 927,\n",
              " 'effect': 928,\n",
              " 'comment': 929,\n",
              " 'forward': 930,\n",
              " 'nor': 931,\n",
              " 'previous': 932,\n",
              " 'sounds': 933,\n",
              " 'badly': 934,\n",
              " 'e': 935,\n",
              " 'japanese': 936,\n",
              " 'weird': 937,\n",
              " 'island': 938,\n",
              " 'inside': 939,\n",
              " 'personal': 940,\n",
              " 'quickly': 941,\n",
              " 'total': 942,\n",
              " 'keeps': 943,\n",
              " 'towards': 944,\n",
              " 'america': 945,\n",
              " 'result': 946,\n",
              " 'crazy': 947,\n",
              " 'battle': 948,\n",
              " 'worked': 949,\n",
              " 'setting': 950,\n",
              " 'incredibly': 951,\n",
              " 'earlier': 952,\n",
              " 'background': 953,\n",
              " 'mess': 954,\n",
              " 'cop': 955,\n",
              " 'writers': 956,\n",
              " 'fire': 957,\n",
              " 'copy': 958,\n",
              " 'unique': 959,\n",
              " 'realize': 960,\n",
              " 'dumb': 961,\n",
              " 'powerful': 962,\n",
              " 'lee': 963,\n",
              " 'mark': 964,\n",
              " 'business': 965,\n",
              " 'rate': 966,\n",
              " 'older': 967,\n",
              " 'dramatic': 968,\n",
              " 'pay': 969,\n",
              " 'following': 970,\n",
              " 'directors': 971,\n",
              " 'joke': 972,\n",
              " 'girlfriend': 973,\n",
              " 'plenty': 974,\n",
              " 'directing': 975,\n",
              " 'various': 976,\n",
              " 'baby': 977,\n",
              " 'creepy': 978,\n",
              " 'development': 979,\n",
              " 'appear': 980,\n",
              " 'brings': 981,\n",
              " 'front': 982,\n",
              " 'ask': 983,\n",
              " 'dream': 984,\n",
              " 'water': 985,\n",
              " 'rich': 986,\n",
              " 'bill': 987,\n",
              " 'admit': 988,\n",
              " 'apart': 989,\n",
              " 'joe': 990,\n",
              " 'fairly': 991,\n",
              " 'political': 992,\n",
              " 'reasons': 993,\n",
              " 'leading': 994,\n",
              " 'spent': 995,\n",
              " 'portrayed': 996,\n",
              " 'telling': 997,\n",
              " 'cover': 998,\n",
              " 'outside': 999,\n",
              " 'present': 1000,\n",
              " ...}"
            ]
          },
          "metadata": {
            "tags": []
          },
          "execution_count": 65
        }
      ]
    },
    {
      "metadata": {
        "id": "SJ5mfjRbySkC",
        "colab_type": "code",
        "colab": {}
      },
      "cell_type": "code",
      "source": [
        "tokens_train=  tokenizer.texts_to_sequences( x_train_text )"
      ],
      "execution_count": 0,
      "outputs": []
    },
    {
      "metadata": {
        "id": "FTDSo_eLM-fs",
        "colab_type": "code",
        "outputId": "31094413-7ae4-4e11-9829-99910876c258",
        "colab": {
          "base_uri": "https://localhost:8080/",
          "height": 54
        }
      },
      "cell_type": "code",
      "source": [
        "x_train_text[0]"
      ],
      "execution_count": 0,
      "outputs": [
        {
          "output_type": "execute_result",
          "data": {
            "text/plain": [
              "'For those that were interested in knowing how exactly humanity came to be encased in big red pods that make me crave pomegranate, there is the duo of the \"Second Renaissance\" shorts. I\\'m not exactly sure why they are split into two parts, especially since they\\'re credited as one on the DVD (and are these shorts viewed on any other format but the DVD?), but they\\'re informative even if they have a few gaps.<br /><br />What really makes this first part stand out, from the second part and the rest of the animations as well, is the parallels it shows between robot uprising and civil rights. Graphic homages to slavery, fascism, concentration camps, and mass graves are mixed with verbal references to the Million Man March and humanity\\'s God-complex. In fact, \"God\" is never really referenced by these shorts, instead replaced by \"Man\\'s own image\".<br /><br />As far as the shorts go in the collection, \"The Second Renaissance: Part I\" is by far the most effective in bringing out emotion. It\\'s a sorrowful and disturbing view of the potential of humanity to become \"the architect of its own destruction.\" Some may be turned off by some of the concepts this short rips directly out of previously established science fiction literature, but then again, that\\'s basically what most of the Matrix series has done, and it\\'s been a driving force behind its success.<br /><br />--PolarisDiB'"
            ]
          },
          "metadata": {
            "tags": []
          },
          "execution_count": 18
        }
      ]
    },
    {
      "metadata": {
        "id": "ZAatZit6r_bJ",
        "colab_type": "code",
        "outputId": "2d9ef02e-dabf-4c0a-cad5-cc2a5cd8a011",
        "colab": {
          "base_uri": "https://localhost:8080/",
          "height": 382
        }
      },
      "cell_type": "code",
      "source": [
        "np.array( tokens_train[0])"
      ],
      "execution_count": 0,
      "outputs": [
        {
          "output_type": "execute_result",
          "data": {
            "text/plain": [
              "array([  15,  143,   12,   70,  918,    8, 1332,   85,  621, 1909,  384,\n",
              "          5,   26,    8,  191,  830,   12,   94,   68,   46,    6,    1,\n",
              "       4086,    4,    1,  336, 7951, 2761,  145,   21,  621,  247,  134,\n",
              "         33,   23, 3407,   82,  105,  516,  261,  234,  501, 5147,   14,\n",
              "         27,   20,    1,  266,    2,   23,  132, 2761, 2232,   20,   99,\n",
              "         79, 2844,   18,    1,  266,   18,  501, 6274,   57,   43,   33,\n",
              "         25,    3,  171, 6768,    7,    7,   48,   62,  162,   11,   86,\n",
              "        173,  778,   41,   36,    1,  336,  173,    2,    1,  370,    4,\n",
              "          1, 9935,   14,   69,    6,    1, 6514,    9,  276,  201, 2363,\n",
              "          2, 2717, 2650, 2150,    5, 8089, 8602, 7769,    2, 3202, 7241,\n",
              "         23, 1919,   16, 7017, 1825,    5,    1, 1432,  128, 4446,    2,\n",
              "        545, 1300,    8,  192,  545,    6,  110,   62,   31,  132, 2761,\n",
              "        298, 3014,   31, 1592,  199, 1428,    7,    7,   14,  225,   14,\n",
              "          1, 2761,  139,    8,    1, 1520,    1,  336, 7951,  173,   10,\n",
              "          6,   31,  225,    1,   88, 1166,    8, 2185,   41, 1423,   44,\n",
              "          3,    2, 1218,  635,    4,    1, 1050,    4, 1909,    5,  426,\n",
              "          1, 6639,    4,   92,  199, 3127,   47,  200,   26,  661,  122,\n",
              "         31,   47,    4,    1, 5196,   11,  334, 7540, 2512,   41,    4,\n",
              "       2434, 3054, 1080, 1148, 4737,   18,   91,  172,  196,  688,   48,\n",
              "         88,    4,    1, 3059,  204,   45,  221,    2,   44,   75,    3,\n",
              "       1800, 1101,  515,   92, 1007,    7,    7])"
            ]
          },
          "metadata": {
            "tags": []
          },
          "execution_count": 19
        }
      ]
    },
    {
      "metadata": {
        "id": "1nwCbAfhxu_9",
        "colab_type": "code",
        "colab": {}
      },
      "cell_type": "code",
      "source": [
        "tokens_test= tokenizer.texts_to_sequences( x_test_text )"
      ],
      "execution_count": 0,
      "outputs": []
    },
    {
      "metadata": {
        "id": "3yH4RUhp7hV9",
        "colab_type": "code",
        "colab": {}
      },
      "cell_type": "code",
      "source": [
        ""
      ],
      "execution_count": 0,
      "outputs": []
    },
    {
      "metadata": {
        "id": "ZmdPUg0E7iPw",
        "colab_type": "text"
      },
      "cell_type": "markdown",
      "source": [
        "##Padding & Truncating\n"
      ]
    },
    {
      "metadata": {
        "id": "ON2h6ng24yBb",
        "colab_type": "code",
        "colab": {}
      },
      "cell_type": "code",
      "source": [
        "\n",
        "\n",
        "num_tokens = [len(t) for t in tokens_train+ tokens_test ]\n",
        "num_tokens = np.array(num_tokens)\n",
        "\n"
      ],
      "execution_count": 0,
      "outputs": []
    },
    {
      "metadata": {
        "id": "GXPassYE97iM",
        "colab_type": "code",
        "outputId": "403234f4-588b-4033-ea88-f761e24ce3f1",
        "colab": {
          "base_uri": "https://localhost:8080/",
          "height": 34
        }
      },
      "cell_type": "code",
      "source": [
        "np.mean(num_tokens)"
      ],
      "execution_count": 0,
      "outputs": [
        {
          "output_type": "execute_result",
          "data": {
            "text/plain": [
              "221.27716"
            ]
          },
          "metadata": {
            "tags": []
          },
          "execution_count": 22
        }
      ]
    },
    {
      "metadata": {
        "id": "3nwjEHYg-FaM",
        "colab_type": "code",
        "outputId": "36596326-c146-4b91-e5df-075798f4ad75",
        "colab": {
          "base_uri": "https://localhost:8080/",
          "height": 34
        }
      },
      "cell_type": "code",
      "source": [
        "np.max(num_tokens)"
      ],
      "execution_count": 0,
      "outputs": [
        {
          "output_type": "execute_result",
          "data": {
            "text/plain": [
              "2209"
            ]
          },
          "metadata": {
            "tags": []
          },
          "execution_count": 23
        }
      ]
    },
    {
      "metadata": {
        "id": "pFpLJJsF72_p",
        "colab_type": "code",
        "outputId": "3897db0e-681b-4dce-8df5-093504c29f00",
        "colab": {
          "base_uri": "https://localhost:8080/",
          "height": 34
        }
      },
      "cell_type": "code",
      "source": [
        "##Std Dvtn\n",
        "\n",
        "\n",
        "max_tokens = np.mean(num_tokens) + 2 * np.std(num_tokens)\n",
        "max_tokens = int(max_tokens)\n",
        "max_tokens"
      ],
      "execution_count": 0,
      "outputs": [
        {
          "output_type": "execute_result",
          "data": {
            "text/plain": [
              "544"
            ]
          },
          "metadata": {
            "tags": []
          },
          "execution_count": 24
        }
      ]
    },
    {
      "metadata": {
        "id": "ag_kcXLR729O",
        "colab_type": "code",
        "outputId": "79505796-bb02-478b-e1c0-e32ba0c38f33",
        "colab": {
          "base_uri": "https://localhost:8080/",
          "height": 34
        }
      },
      "cell_type": "code",
      "source": [
        "np.sum(num_tokens < max_tokens) / len(num_tokens)"
      ],
      "execution_count": 0,
      "outputs": [
        {
          "output_type": "execute_result",
          "data": {
            "text/plain": [
              "0.94532"
            ]
          },
          "metadata": {
            "tags": []
          },
          "execution_count": 25
        }
      ]
    },
    {
      "metadata": {
        "id": "MoTzO-s9_w8o",
        "colab_type": "text"
      },
      "cell_type": "markdown",
      "source": [
        "i.e around 95 % of texts have size smaller than 544 words"
      ]
    },
    {
      "metadata": {
        "id": "GFxVbUTS_woa",
        "colab_type": "code",
        "colab": {}
      },
      "cell_type": "code",
      "source": [
        "x_train_pad= pad_sequences( tokens_train , maxlen= max_tokens , padding='pre', truncating='pre' )"
      ],
      "execution_count": 0,
      "outputs": []
    },
    {
      "metadata": {
        "id": "Oll1G-Ro726Q",
        "colab_type": "code",
        "colab": {}
      },
      "cell_type": "code",
      "source": [
        "x_test_pad= pad_sequences( tokens_test, maxlen= max_tokens , padding= 'pre', truncating='pre' )"
      ],
      "execution_count": 0,
      "outputs": []
    },
    {
      "metadata": {
        "id": "-7jdznSv722U",
        "colab_type": "code",
        "outputId": "783416bb-056b-48b3-eba3-cf8623c517ee",
        "colab": {
          "base_uri": "https://localhost:8080/",
          "height": 885
        }
      },
      "cell_type": "code",
      "source": [
        "x_train_pad[0]"
      ],
      "execution_count": 0,
      "outputs": [
        {
          "output_type": "execute_result",
          "data": {
            "text/plain": [
              "array([   0,    0,    0,    0,    0,    0,    0,    0,    0,    0,    0,\n",
              "          0,    0,    0,    0,    0,    0,    0,    0,    0,    0,    0,\n",
              "          0,    0,    0,    0,    0,    0,    0,    0,    0,    0,    0,\n",
              "          0,    0,    0,    0,    0,    0,    0,    0,    0,    0,    0,\n",
              "          0,    0,    0,    0,    0,    0,    0,    0,    0,    0,    0,\n",
              "          0,    0,    0,    0,    0,    0,    0,    0,    0,    0,    0,\n",
              "          0,    0,    0,    0,    0,    0,    0,    0,    0,    0,    0,\n",
              "          0,    0,    0,    0,    0,    0,    0,    0,    0,    0,    0,\n",
              "          0,    0,    0,    0,    0,    0,    0,    0,    0,    0,    0,\n",
              "          0,    0,    0,    0,    0,    0,    0,    0,    0,    0,    0,\n",
              "          0,    0,    0,    0,    0,    0,    0,    0,    0,    0,    0,\n",
              "          0,    0,    0,    0,    0,    0,    0,    0,    0,    0,    0,\n",
              "          0,    0,    0,    0,    0,    0,    0,    0,    0,    0,    0,\n",
              "          0,    0,    0,    0,    0,    0,    0,    0,    0,    0,    0,\n",
              "          0,    0,    0,    0,    0,    0,    0,    0,    0,    0,    0,\n",
              "          0,    0,    0,    0,    0,    0,    0,    0,    0,    0,    0,\n",
              "          0,    0,    0,    0,    0,    0,    0,    0,    0,    0,    0,\n",
              "          0,    0,    0,    0,    0,    0,    0,    0,    0,    0,    0,\n",
              "          0,    0,    0,    0,    0,    0,    0,    0,    0,    0,    0,\n",
              "          0,    0,    0,    0,    0,    0,    0,    0,    0,    0,    0,\n",
              "          0,    0,    0,    0,    0,    0,    0,    0,    0,    0,    0,\n",
              "          0,    0,    0,    0,    0,    0,    0,    0,    0,    0,    0,\n",
              "          0,    0,    0,    0,    0,    0,    0,    0,    0,    0,    0,\n",
              "          0,    0,    0,    0,    0,    0,    0,    0,    0,    0,    0,\n",
              "          0,    0,    0,    0,    0,    0,    0,    0,    0,    0,    0,\n",
              "          0,    0,    0,    0,    0,    0,    0,    0,    0,    0,    0,\n",
              "          0,    0,    0,    0,    0,    0,    0,    0,    0,    0,    0,\n",
              "          0,    0,    0,    0,    0,    0,    0,    0,    0,    0,    0,\n",
              "          0,    0,    0,    0,    0,    0,    0,    0,    0,   15,  143,\n",
              "         12,   70,  918,    8, 1332,   85,  621, 1909,  384,    5,   26,\n",
              "          8,  191,  830,   12,   94,   68,   46,    6,    1, 4086,    4,\n",
              "          1,  336, 7951, 2761,  145,   21,  621,  247,  134,   33,   23,\n",
              "       3407,   82,  105,  516,  261,  234,  501, 5147,   14,   27,   20,\n",
              "          1,  266,    2,   23,  132, 2761, 2232,   20,   99,   79, 2844,\n",
              "         18,    1,  266,   18,  501, 6274,   57,   43,   33,   25,    3,\n",
              "        171, 6768,    7,    7,   48,   62,  162,   11,   86,  173,  778,\n",
              "         41,   36,    1,  336,  173,    2,    1,  370,    4,    1, 9935,\n",
              "         14,   69,    6,    1, 6514,    9,  276,  201, 2363,    2, 2717,\n",
              "       2650, 2150,    5, 8089, 8602, 7769,    2, 3202, 7241,   23, 1919,\n",
              "         16, 7017, 1825,    5,    1, 1432,  128, 4446,    2,  545, 1300,\n",
              "          8,  192,  545,    6,  110,   62,   31,  132, 2761,  298, 3014,\n",
              "         31, 1592,  199, 1428,    7,    7,   14,  225,   14,    1, 2761,\n",
              "        139,    8,    1, 1520,    1,  336, 7951,  173,   10,    6,   31,\n",
              "        225,    1,   88, 1166,    8, 2185,   41, 1423,   44,    3,    2,\n",
              "       1218,  635,    4,    1, 1050,    4, 1909,    5,  426,    1, 6639,\n",
              "          4,   92,  199, 3127,   47,  200,   26,  661,  122,   31,   47,\n",
              "          4,    1, 5196,   11,  334, 7540, 2512,   41,    4, 2434, 3054,\n",
              "       1080, 1148, 4737,   18,   91,  172,  196,  688,   48,   88,    4,\n",
              "          1, 3059,  204,   45,  221,    2,   44,   75,    3, 1800, 1101,\n",
              "        515,   92, 1007,    7,    7], dtype=int32)"
            ]
          },
          "metadata": {
            "tags": []
          },
          "execution_count": 28
        }
      ]
    },
    {
      "metadata": {
        "id": "fXlmzCqX72ct",
        "colab_type": "code",
        "colab": {}
      },
      "cell_type": "code",
      "source": [
        ""
      ],
      "execution_count": 0,
      "outputs": []
    },
    {
      "metadata": {
        "id": "ouIRDMNO-IM_",
        "colab_type": "code",
        "colab": {}
      },
      "cell_type": "code",
      "source": [
        "inverse_tokens_train= tokenizer.sequences_to_texts( tokens_train )"
      ],
      "execution_count": 0,
      "outputs": []
    },
    {
      "metadata": {
        "id": "4v8bGOwFgkz4",
        "colab_type": "code",
        "outputId": "a3abd5f2-8b8f-4915-81e4-52eb7594edf4",
        "colab": {
          "base_uri": "https://localhost:8080/",
          "height": 54
        }
      },
      "cell_type": "code",
      "source": [
        "inverse_tokens_train[0]"
      ],
      "execution_count": 0,
      "outputs": [
        {
          "output_type": "execute_result",
          "data": {
            "text/plain": [
              "\"for those that were interested in knowing how exactly humanity came to be in big red that make me there is the duo of the second renaissance shorts i'm not exactly sure why they are split into two parts especially since they're credited as one on the dvd and are these shorts viewed on any other format but the dvd but they're informative even if they have a few gaps br br what really makes this first part stand out from the second part and the rest of the animations as well is the parallels it shows between robot and civil rights graphic to slavery concentration camps and mass graves are mixed with verbal references to the million man march and god complex in fact god is never really by these shorts instead replaced by man's own image br br as far as the shorts go in the collection the second renaissance part i is by far the most effective in bringing out emotion it's a and disturbing view of the potential of humanity to become the architect of its own destruction some may be turned off by some of the concepts this short rips directly out of previously established science fiction literature but then again that's basically what most of the matrix series has done and it's been a driving force behind its success br br\""
            ]
          },
          "metadata": {
            "tags": []
          },
          "execution_count": 30
        }
      ]
    },
    {
      "metadata": {
        "id": "9wjctUj-hY6Q",
        "colab_type": "code",
        "outputId": "649dd8b8-c710-4565-82b1-ea51df6ec1f6",
        "colab": {
          "base_uri": "https://localhost:8080/",
          "height": 54
        }
      },
      "cell_type": "code",
      "source": [
        "x_train_text[0]"
      ],
      "execution_count": 0,
      "outputs": [
        {
          "output_type": "execute_result",
          "data": {
            "text/plain": [
              "'For those that were interested in knowing how exactly humanity came to be encased in big red pods that make me crave pomegranate, there is the duo of the \"Second Renaissance\" shorts. I\\'m not exactly sure why they are split into two parts, especially since they\\'re credited as one on the DVD (and are these shorts viewed on any other format but the DVD?), but they\\'re informative even if they have a few gaps.<br /><br />What really makes this first part stand out, from the second part and the rest of the animations as well, is the parallels it shows between robot uprising and civil rights. Graphic homages to slavery, fascism, concentration camps, and mass graves are mixed with verbal references to the Million Man March and humanity\\'s God-complex. In fact, \"God\" is never really referenced by these shorts, instead replaced by \"Man\\'s own image\".<br /><br />As far as the shorts go in the collection, \"The Second Renaissance: Part I\" is by far the most effective in bringing out emotion. It\\'s a sorrowful and disturbing view of the potential of humanity to become \"the architect of its own destruction.\" Some may be turned off by some of the concepts this short rips directly out of previously established science fiction literature, but then again, that\\'s basically what most of the Matrix series has done, and it\\'s been a driving force behind its success.<br /><br />--PolarisDiB'"
            ]
          },
          "metadata": {
            "tags": []
          },
          "execution_count": 31
        }
      ]
    },
    {
      "metadata": {
        "id": "n0YFlZ6HBZMy",
        "colab_type": "text"
      },
      "cell_type": "markdown",
      "source": [
        "##RNN"
      ]
    },
    {
      "metadata": {
        "id": "peHFvlabhcU_",
        "colab_type": "code",
        "colab": {}
      },
      "cell_type": "code",
      "source": [
        "model = Sequential()"
      ],
      "execution_count": 0,
      "outputs": []
    },
    {
      "metadata": {
        "id": "zFAwRVDL6M7y",
        "colab_type": "code",
        "colab": {}
      },
      "cell_type": "code",
      "source": [
        "##embedding layer"
      ],
      "execution_count": 0,
      "outputs": []
    },
    {
      "metadata": {
        "id": "_k8FBtzUB-8o",
        "colab_type": "code",
        "colab": {}
      },
      "cell_type": "code",
      "source": [
        "embd_size=8\n",
        "#SmallValueforSentimentAnalysis"
      ],
      "execution_count": 0,
      "outputs": []
    },
    {
      "metadata": {
        "id": "g2zhi8nhUi_N",
        "colab_type": "code",
        "colab": {}
      },
      "cell_type": "code",
      "source": [
        " model.add( Embedding( input_dim=10000, output_dim= embd_size, input_length=max_tokens , name= 'layer_embd' ) )"
      ],
      "execution_count": 0,
      "outputs": []
    },
    {
      "metadata": {
        "id": "bDd0Jp3afvmR",
        "colab_type": "code",
        "colab": {}
      },
      "cell_type": "code",
      "source": [
        "model.add(GRU( units=16, return_sequences= True ))"
      ],
      "execution_count": 0,
      "outputs": []
    },
    {
      "metadata": {
        "id": "v_ZWrHM3gFiW",
        "colab_type": "code",
        "colab": {}
      },
      "cell_type": "code",
      "source": [
        "model.add( GRU( units=8 , return_sequences= True ) )"
      ],
      "execution_count": 0,
      "outputs": []
    },
    {
      "metadata": {
        "id": "9J2PSqlFgf26",
        "colab_type": "code",
        "colab": {}
      },
      "cell_type": "code",
      "source": [
        "model.add( GRU( units=4 ) )"
      ],
      "execution_count": 0,
      "outputs": []
    },
    {
      "metadata": {
        "id": "hBKsEE9qg5bW",
        "colab_type": "code",
        "colab": {}
      },
      "cell_type": "code",
      "source": [
        "model.add( Dense(1, activation='sigmoid' ) )"
      ],
      "execution_count": 0,
      "outputs": []
    },
    {
      "metadata": {
        "id": "RF6HgadchZ0l",
        "colab_type": "code",
        "colab": {}
      },
      "cell_type": "code",
      "source": [
        "optimizer=Adam( lr=1e-3 )"
      ],
      "execution_count": 0,
      "outputs": []
    },
    {
      "metadata": {
        "id": "YLPUAm75hjow",
        "colab_type": "code",
        "colab": {}
      },
      "cell_type": "code",
      "source": [
        "model.compile( optimizer= optimizer , loss= 'binary_crossentropy' , metrics=['accuracy'] )"
      ],
      "execution_count": 0,
      "outputs": []
    },
    {
      "metadata": {
        "id": "vqAaJdTfiTqC",
        "colab_type": "code",
        "outputId": "d6c4d03a-2f96-43fa-baa9-9316349b84d2",
        "colab": {
          "base_uri": "https://localhost:8080/",
          "height": 312
        }
      },
      "cell_type": "code",
      "source": [
        "model.summary()"
      ],
      "execution_count": 0,
      "outputs": [
        {
          "output_type": "stream",
          "text": [
            "_________________________________________________________________\n",
            "Layer (type)                 Output Shape              Param #   \n",
            "=================================================================\n",
            "layer_embd (Embedding)       (None, 544, 8)            80000     \n",
            "_________________________________________________________________\n",
            "gru (GRU)                    (None, 544, 16)           1200      \n",
            "_________________________________________________________________\n",
            "gru_1 (GRU)                  (None, 544, 8)            600       \n",
            "_________________________________________________________________\n",
            "gru_2 (GRU)                  (None, 4)                 156       \n",
            "_________________________________________________________________\n",
            "dense (Dense)                (None, 1)                 5         \n",
            "=================================================================\n",
            "Total params: 81,961\n",
            "Trainable params: 81,961\n",
            "Non-trainable params: 0\n",
            "_________________________________________________________________\n"
          ],
          "name": "stdout"
        }
      ]
    },
    {
      "metadata": {
        "id": "3Y9FGpgSkAkp",
        "colab_type": "code",
        "colab": {}
      },
      "cell_type": "code",
      "source": [
        "model2= model"
      ],
      "execution_count": 0,
      "outputs": []
    },
    {
      "metadata": {
        "id": "y-QYIN7oj99A",
        "colab_type": "code",
        "colab": {}
      },
      "cell_type": "code",
      "source": [
        ""
      ],
      "execution_count": 0,
      "outputs": []
    },
    {
      "metadata": {
        "id": "XCS4qAFHiZgP",
        "colab_type": "text"
      },
      "cell_type": "markdown",
      "source": [
        "##Training the Model"
      ]
    },
    {
      "metadata": {
        "id": "gTj_qjldiWxG",
        "colab_type": "code",
        "outputId": "74dbd9ea-adfe-441d-cf9e-e0ebae2357b2",
        "colab": {
          "base_uri": "https://localhost:8080/",
          "height": 156
        }
      },
      "cell_type": "code",
      "source": [
        "model2.fit(x= x_train_pad , y= y_train, validation_split= 0.05 , epochs= 3 , batch_size=64 )"
      ],
      "execution_count": 0,
      "outputs": [
        {
          "output_type": "stream",
          "text": [
            "Train on 23750 samples, validate on 1250 samples\n",
            "Epoch 1/3\n",
            "23750/23750 [==============================] - 1483s 62ms/step - loss: 0.4727 - acc: 0.7532 - val_loss: 0.1854 - val_acc: 0.9448\n",
            "Epoch 2/3\n",
            "23750/23750 [==============================] - 1581s 67ms/step - loss: 0.2565 - acc: 0.9030 - val_loss: 0.2959 - val_acc: 0.8768\n",
            "Epoch 3/3\n",
            "23750/23750 [==============================] - 1479s 62ms/step - loss: 0.1953 - acc: 0.9325 - val_loss: 0.2235 - val_acc: 0.9184\n"
          ],
          "name": "stdout"
        },
        {
          "output_type": "execute_result",
          "data": {
            "text/plain": [
              "<tensorflow.python.keras.callbacks.History at 0x7f668c4a7978>"
            ]
          },
          "metadata": {
            "tags": []
          },
          "execution_count": 45
        }
      ]
    },
    {
      "metadata": {
        "id": "hNgHE2DAk_lY",
        "colab_type": "code",
        "colab": {}
      },
      "cell_type": "code",
      "source": [
        ""
      ],
      "execution_count": 0,
      "outputs": []
    },
    {
      "metadata": {
        "id": "ZKvdkKva3X-x",
        "colab_type": "text"
      },
      "cell_type": "markdown",
      "source": [
        "##Predictions"
      ]
    },
    {
      "metadata": {
        "id": "N7yEtGFa3bp8",
        "colab_type": "code",
        "outputId": "daa7e5c0-0335-4fd3-947a-0bfb2a2f2630",
        "colab": {
          "base_uri": "https://localhost:8080/",
          "height": 69
        }
      },
      "cell_type": "code",
      "source": [
        "%%time\n",
        "result = model.evaluate(x_test_pad, y_test)"
      ],
      "execution_count": 0,
      "outputs": [
        {
          "output_type": "stream",
          "text": [
            "25000/25000 [==============================] - 1235s 49ms/step\n",
            "CPU times: user 28min 35s, sys: 4min 47s, total: 33min 22s\n",
            "Wall time: 20min 34s\n"
          ],
          "name": "stdout"
        }
      ]
    },
    {
      "metadata": {
        "id": "h7-auVNx3cbq",
        "colab_type": "code",
        "outputId": "1a6155ad-5f3f-45c9-bdfe-b317675b8169",
        "colab": {
          "base_uri": "https://localhost:8080/",
          "height": 34
        }
      },
      "cell_type": "code",
      "source": [
        "print(\"Loss:\", result[0] ,\" Accuracy: \", result[1]*100 )"
      ],
      "execution_count": 0,
      "outputs": [
        {
          "output_type": "stream",
          "text": [
            "Loss: 0.34190794646501543  Accuracy:  86.528\n"
          ],
          "name": "stdout"
        }
      ]
    },
    {
      "metadata": {
        "id": "D2g_LDtKBVzH",
        "colab_type": "code",
        "colab": {}
      },
      "cell_type": "code",
      "source": [
        ""
      ],
      "execution_count": 0,
      "outputs": []
    },
    {
      "metadata": {
        "id": "W4w5uAzzJF-8",
        "colab_type": "text"
      },
      "cell_type": "markdown",
      "source": [
        "## Test on Self Reviews"
      ]
    },
    {
      "metadata": {
        "id": "ijTkbyfKKGir",
        "colab_type": "code",
        "colab": {}
      },
      "cell_type": "code",
      "source": [
        "text1 = \"This movie is Great! \"\n",
        "text2 = \"Lovely movie!\"\n",
        "text3 = \"Rubbish..\"\n",
        "text4 = \"It was okayish!\"\n",
        "text5= \"Amazing Work\"\n",
        "text6=\"I really enjoyed my money being wasted\"\n",
        "text7=\"Master Piece\"\n",
        "text = [text1, text2, text3, text4, text5, text6,text7]"
      ],
      "execution_count": 0,
      "outputs": []
    },
    {
      "metadata": {
        "id": "ZWHid16lM3nC",
        "colab_type": "code",
        "colab": {}
      },
      "cell_type": "code",
      "source": [
        "\n",
        "tokens_self = tokenizer.texts_to_sequences(text)"
      ],
      "execution_count": 0,
      "outputs": []
    },
    {
      "metadata": {
        "id": "WYsLBwWcM-b5",
        "colab_type": "code",
        "colab": {}
      },
      "cell_type": "code",
      "source": [
        "tokens_self_pad = pad_sequences( tokens_self , maxlen=max_tokens,\n",
        "                           padding='pre', truncating='pre')"
      ],
      "execution_count": 0,
      "outputs": []
    },
    {
      "metadata": {
        "id": "oAyzAPTmNCxH",
        "colab_type": "code",
        "colab": {
          "base_uri": "https://localhost:8080/",
          "height": 139
        },
        "outputId": "073ea291-6d11-45f3-858c-9dd8739fce1b"
      },
      "cell_type": "code",
      "source": [
        "model2.predict(tokens_self_pad)"
      ],
      "execution_count": 152,
      "outputs": [
        {
          "output_type": "execute_result",
          "data": {
            "text/plain": [
              "array([[0.8166793 ],\n",
              "       [0.6521951 ],\n",
              "       [0.4538961 ],\n",
              "       [0.66541696],\n",
              "       [0.87422496],\n",
              "       [0.5617218 ],\n",
              "       [0.7258598 ]], dtype=float32)"
            ]
          },
          "metadata": {
            "tags": []
          },
          "execution_count": 152
        }
      ]
    },
    {
      "metadata": {
        "id": "1hjAh6XcNF25",
        "colab_type": "code",
        "colab": {}
      },
      "cell_type": "code",
      "source": [
        "ans=['Positive' if m>0.6 else 'Negative'  for m in model2.predict(tokens_self_pad) ]"
      ],
      "execution_count": 0,
      "outputs": []
    },
    {
      "metadata": {
        "id": "xqWZFCcmNfV-",
        "colab_type": "code",
        "colab": {
          "base_uri": "https://localhost:8080/",
          "height": 139
        },
        "outputId": "98404442-8207-4eb1-90ef-253288315674"
      },
      "cell_type": "code",
      "source": [
        "ans"
      ],
      "execution_count": 154,
      "outputs": [
        {
          "output_type": "execute_result",
          "data": {
            "text/plain": [
              "['Positive',\n",
              " 'Positive',\n",
              " 'Negative',\n",
              " 'Positive',\n",
              " 'Positive',\n",
              " 'Negative',\n",
              " 'Positive']"
            ]
          },
          "metadata": {
            "tags": []
          },
          "execution_count": 154
        }
      ]
    },
    {
      "metadata": {
        "id": "CSMT9cR0NgLK",
        "colab_type": "code",
        "colab": {}
      },
      "cell_type": "code",
      "source": [
        ""
      ],
      "execution_count": 0,
      "outputs": []
    }
  ]
}