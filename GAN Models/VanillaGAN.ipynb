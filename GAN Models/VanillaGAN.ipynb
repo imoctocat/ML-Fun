{
  "nbformat": 4,
  "nbformat_minor": 0,
  "metadata": {
    "colab": {
      "name": "VanillaGAN.ipynb",
      "version": "0.3.2",
      "provenance": [],
      "collapsed_sections": []
    },
    "kernelspec": {
      "name": "python3",
      "display_name": "Python 3"
    },
    "accelerator": "GPU"
  },
  "cells": [
    {
      "cell_type": "markdown",
      "metadata": {
        "id": "5JzukLphSDOf",
        "colab_type": "text"
      },
      "source": [
        "## Imports"
      ]
    },
    {
      "cell_type": "code",
      "metadata": {
        "id": "WqJ6CJCGQJ-d",
        "colab_type": "code",
        "colab": {}
      },
      "source": [
        "from keras.models import Sequential,Model\n",
        "from keras.layers import Dense,Input,Dense,Dropout,LeakyReLU\n",
        "import keras.datasets as dsets\n",
        "from keras import initializers\n",
        "from keras.optimizers import Adam\n",
        "import random\n",
        "from keras import backend as K\n",
        "from tqdm import tqdm\n",
        "import numpy as np\n",
        "import matplotlib.pyplot as plt\n",
        "%matplotlib inline"
      ],
      "execution_count": 0,
      "outputs": []
    },
    {
      "cell_type": "markdown",
      "metadata": {
        "id": "A8GppCseT_pX",
        "colab_type": "text"
      },
      "source": [
        "## Load Dataset\n"
      ]
    },
    {
      "cell_type": "code",
      "metadata": {
        "id": "G1UdUk0SUK5y",
        "colab_type": "code",
        "colab": {}
      },
      "source": [
        "def load_mnist():\n",
        "  (x_train,y_train) , (x_test,y_test) = dsets.mnist.load_data()\n",
        "  \n",
        "  x_train = (x_train.astype(np.float32) - 127.5 ) / 127.5\n",
        "  \n",
        "  x_train = x_train.reshape(x_train.shape[0],784)\n",
        "  \n",
        "  return (x_train,y_train,x_test,y_test)\n",
        "    "
      ],
      "execution_count": 0,
      "outputs": []
    },
    {
      "cell_type": "markdown",
      "metadata": {
        "id": "iK6h41Y-M120",
        "colab_type": "text"
      },
      "source": [
        "## Generators & Discriminators"
      ]
    },
    {
      "cell_type": "code",
      "metadata": {
        "id": "PCTEan38VwvA",
        "colab_type": "code",
        "colab": {}
      },
      "source": [
        "random_dim = 100\n",
        "optimizer =  Adam(lr = 0.0002, beta_1 = 0.5)"
      ],
      "execution_count": 0,
      "outputs": []
    },
    {
      "cell_type": "code",
      "metadata": {
        "id": "U0EgKAppWAbN",
        "colab_type": "code",
        "colab": {}
      },
      "source": [
        "def get_generator(optimizer):\n",
        "  \n",
        "  init  = initializers.RandomNormal(stddev = 0.02)\n",
        "  \n",
        "  g = Sequential()\n",
        "  \n",
        "  g.add(Dense(256,input_dim = random_dim,kernel_initializer=init ))\n",
        "  g.add(LeakyReLU(alpha = 0.2))\n",
        "  \n",
        "  g.add(Dense(512))\n",
        "  g.add(LeakyReLU(0.2))\n",
        "  \n",
        "  g.add(Dense(1024))\n",
        "  g.add(LeakyReLU(0.2))\n",
        "  \n",
        "  g.add(Dense(784,activation='tanh'))\n",
        "  g.compile(loss = 'binary_crossentropy', optimizer = optimizer)\n",
        "  return g"
      ],
      "execution_count": 0,
      "outputs": []
    },
    {
      "cell_type": "code",
      "metadata": {
        "id": "KV8BGPbNYcIh",
        "colab_type": "code",
        "colab": {}
      },
      "source": [
        "def get_discriminator(optimizer):\n",
        "  \n",
        "  init  = initializers.RandomNormal(stddev = 0.02)\n",
        "  \n",
        "  des = Sequential()\n",
        "  des.add(Dense(1024,input_dim = 784 ,kernel_initializer= init ))\n",
        "  des.add(LeakyReLU(0.2))\n",
        "  des.add(Dropout(0.3))\n",
        "  \n",
        "  des.add(Dense(512))\n",
        "  des.add(LeakyReLU(0.2))\n",
        "  des.add(Dropout(0.3))\n",
        "  \n",
        "  des.add(Dense(256))\n",
        "  des.add(LeakyReLU(0.2))\n",
        "  des.add(Dropout(0.3))\n",
        "  \n",
        "  des.add(Dense(1,activation='sigmoid'))\n",
        "  des.compile(loss = 'binary_crossentropy',optimizer=optimizer)\n",
        "  \n",
        "  return des\n",
        "  "
      ],
      "execution_count": 0,
      "outputs": []
    },
    {
      "cell_type": "markdown",
      "metadata": {
        "id": "KNi0ILx5NTpK",
        "colab_type": "text"
      },
      "source": [
        "## GAN"
      ]
    },
    {
      "cell_type": "code",
      "metadata": {
        "id": "GTX-WqKvhzKx",
        "colab_type": "code",
        "colab": {}
      },
      "source": [
        "def GAN(generator,descriminator,optimizer,random_dim):\n",
        "  \n",
        "  descriminator.trainable = False\n",
        "  \n",
        "  gan_input = Input(shape = (random_dim,))\n",
        "  \n",
        "  x= generator(gan_input)\n",
        "  \n",
        "  gan_output = descriminator(x)\n",
        "  \n",
        "  gan = Model(gan_input,gan_output)\n",
        "  gan.compile(loss = 'binary_crossentropy' ,optimizer = optimizer)\n",
        "  \n",
        "  return gan"
      ],
      "execution_count": 0,
      "outputs": []
    },
    {
      "cell_type": "markdown",
      "metadata": {
        "id": "t1rohn1cNaeK",
        "colab_type": "text"
      },
      "source": [
        "## Training"
      ]
    },
    {
      "cell_type": "code",
      "metadata": {
        "id": "TciweKDliyhs",
        "colab_type": "code",
        "colab": {}
      },
      "source": [
        "def plot_generated_images(epoch,generator,examples = 9, dim = (3,3),fig_size = (3,3) ):\n",
        "  \n",
        "  noise = np.random.normal(0,1,size = [examples , random_dim])\n",
        "  \n",
        "  gen_imgs = generator.predict(noise)\n",
        "  \n",
        "  gen_imgs = gen_imgs.reshape(examples,28,28)\n",
        "  \n",
        "  \n",
        "  plt.figure(figsize=fig_size)\n",
        "  for i in range(gen_imgs.shape[0]):\n",
        "    plt.subplot(dim[0],dim[1],i+1)\n",
        "    plt.imshow(gen_imgs[i], interpolation='nearest', cmap='gray_r')\n",
        "    plt.axis('off')\n",
        "  plt.tight_layout()\n",
        "  plt.savefig('GAN_gntd_img_e#{}'.format(epoch))"
      ],
      "execution_count": 0,
      "outputs": []
    },
    {
      "cell_type": "code",
      "metadata": {
        "id": "4TbAy13IlmzX",
        "colab_type": "code",
        "colab": {}
      },
      "source": [
        "def train(epochs = 1, batch_size = 128):\n",
        "  K.set_image_dim_ordering('th')\n",
        "  x_train,y_train, x_test , y_test = load_mnist()\n",
        "  \n",
        "  batch_count = int(x_train.shape[0] / batch_size)\n",
        "  \n",
        "  generator = get_generator(optimizer)\n",
        "  \n",
        "  discriminator = get_discriminator(optimizer)\n",
        "  \n",
        "  \n",
        "  gan = GAN(generator,discriminator,optimizer,random_dim)\n",
        "  \n",
        "  for e in range(1,epochs + 1):\n",
        "    print('-'*15,'Epoch # %d' % e, '-'*15)\n",
        "    \n",
        "    for _ in tqdm( range(batch_count)):\n",
        "      \n",
        "      noise  = np.random.normal(0,1,size= [batch_size, random_dim])\n",
        "      image_batch = x_train[np.random.randint(0,x_train.shape[0],size = batch_size)]\n",
        "      \n",
        "      fake_imgs = generator.predict(noise)\n",
        "      X = np.concatenate([image_batch,fake_imgs])\n",
        "      \n",
        "      y_dis = np.zeros(2*batch_size)\n",
        "      y_dis[:batch_size] = 0.9\n",
        "      \n",
        "      #Train D\n",
        "      discriminator.trainable = True\n",
        "      discriminator.train_on_batch(X,y_dis)\n",
        "      \n",
        "      #Train G\n",
        "      noise = np.random.normal(0,1,size = [batch_size,random_dim])\n",
        "      y_gen = np.ones(batch_size)\n",
        "      discriminator.trainable =False\n",
        "      gan.train_on_batch(noise,y_gen)\n",
        "      \n",
        "    if e == 1  or e% 5 == 0:\n",
        "      plot_generated_images(e,generator)\n"
      ],
      "execution_count": 0,
      "outputs": []
    },
    {
      "cell_type": "code",
      "metadata": {
        "id": "wTowA-B42TQf",
        "colab_type": "code",
        "outputId": "db144ca8-1a6f-4245-ac89-68af76bf8bf6",
        "colab": {
          "base_uri": "https://localhost:8080/",
          "height": 1000
        }
      },
      "source": [
        "train( 40,512)"
      ],
      "execution_count": 28,
      "outputs": [
        {
          "output_type": "stream",
          "text": [
            "\r  0%|          | 0/117 [00:00<?, ?it/s]"
          ],
          "name": "stderr"
        },
        {
          "output_type": "stream",
          "text": [
            "--------------- Epoch # 1 ---------------\n"
          ],
          "name": "stdout"
        },
        {
          "output_type": "stream",
          "text": [
            "100%|██████████| 117/117 [00:09<00:00, 16.93it/s]\n",
            "  2%|▏         | 2/117 [00:00<00:06, 16.61it/s]"
          ],
          "name": "stderr"
        },
        {
          "output_type": "stream",
          "text": [
            "--------------- Epoch # 2 ---------------\n"
          ],
          "name": "stdout"
        },
        {
          "output_type": "stream",
          "text": [
            "100%|██████████| 117/117 [00:06<00:00, 17.01it/s]\n",
            "  2%|▏         | 2/117 [00:00<00:06, 17.78it/s]"
          ],
          "name": "stderr"
        },
        {
          "output_type": "stream",
          "text": [
            "--------------- Epoch # 3 ---------------\n"
          ],
          "name": "stdout"
        },
        {
          "output_type": "stream",
          "text": [
            "100%|██████████| 117/117 [00:06<00:00, 17.01it/s]\n",
            "  2%|▏         | 2/117 [00:00<00:06, 16.72it/s]"
          ],
          "name": "stderr"
        },
        {
          "output_type": "stream",
          "text": [
            "--------------- Epoch # 4 ---------------\n"
          ],
          "name": "stdout"
        },
        {
          "output_type": "stream",
          "text": [
            "100%|██████████| 117/117 [00:06<00:00, 17.05it/s]\n",
            "  2%|▏         | 2/117 [00:00<00:06, 17.24it/s]"
          ],
          "name": "stderr"
        },
        {
          "output_type": "stream",
          "text": [
            "--------------- Epoch # 5 ---------------\n"
          ],
          "name": "stdout"
        },
        {
          "output_type": "stream",
          "text": [
            "100%|██████████| 117/117 [00:06<00:00, 17.10it/s]\n",
            "  2%|▏         | 2/117 [00:00<00:06, 17.43it/s]"
          ],
          "name": "stderr"
        },
        {
          "output_type": "stream",
          "text": [
            "--------------- Epoch # 6 ---------------\n"
          ],
          "name": "stdout"
        },
        {
          "output_type": "stream",
          "text": [
            "100%|██████████| 117/117 [00:06<00:00, 17.08it/s]\n",
            "  2%|▏         | 2/117 [00:00<00:06, 18.12it/s]"
          ],
          "name": "stderr"
        },
        {
          "output_type": "stream",
          "text": [
            "--------------- Epoch # 7 ---------------\n"
          ],
          "name": "stdout"
        },
        {
          "output_type": "stream",
          "text": [
            "100%|██████████| 117/117 [00:06<00:00, 17.11it/s]\n",
            "  2%|▏         | 2/117 [00:00<00:06, 18.02it/s]"
          ],
          "name": "stderr"
        },
        {
          "output_type": "stream",
          "text": [
            "--------------- Epoch # 8 ---------------\n"
          ],
          "name": "stdout"
        },
        {
          "output_type": "stream",
          "text": [
            "100%|██████████| 117/117 [00:06<00:00, 17.16it/s]\n",
            "  2%|▏         | 2/117 [00:00<00:06, 17.22it/s]"
          ],
          "name": "stderr"
        },
        {
          "output_type": "stream",
          "text": [
            "--------------- Epoch # 9 ---------------\n"
          ],
          "name": "stdout"
        },
        {
          "output_type": "stream",
          "text": [
            "100%|██████████| 117/117 [00:06<00:00, 17.10it/s]\n",
            "  2%|▏         | 2/117 [00:00<00:06, 17.39it/s]"
          ],
          "name": "stderr"
        },
        {
          "output_type": "stream",
          "text": [
            "--------------- Epoch # 10 ---------------\n"
          ],
          "name": "stdout"
        },
        {
          "output_type": "stream",
          "text": [
            "100%|██████████| 117/117 [00:06<00:00, 17.15it/s]\n",
            "  2%|▏         | 2/117 [00:00<00:06, 16.81it/s]"
          ],
          "name": "stderr"
        },
        {
          "output_type": "stream",
          "text": [
            "--------------- Epoch # 11 ---------------\n"
          ],
          "name": "stdout"
        },
        {
          "output_type": "stream",
          "text": [
            "100%|██████████| 117/117 [00:06<00:00, 17.11it/s]\n",
            "  2%|▏         | 2/117 [00:00<00:06, 17.59it/s]"
          ],
          "name": "stderr"
        },
        {
          "output_type": "stream",
          "text": [
            "--------------- Epoch # 12 ---------------\n"
          ],
          "name": "stdout"
        },
        {
          "output_type": "stream",
          "text": [
            "100%|██████████| 117/117 [00:06<00:00, 17.09it/s]\n",
            "  2%|▏         | 2/117 [00:00<00:06, 17.47it/s]"
          ],
          "name": "stderr"
        },
        {
          "output_type": "stream",
          "text": [
            "--------------- Epoch # 13 ---------------\n"
          ],
          "name": "stdout"
        },
        {
          "output_type": "stream",
          "text": [
            "100%|██████████| 117/117 [00:06<00:00, 17.11it/s]\n",
            "  2%|▏         | 2/117 [00:00<00:06, 17.62it/s]"
          ],
          "name": "stderr"
        },
        {
          "output_type": "stream",
          "text": [
            "--------------- Epoch # 14 ---------------\n"
          ],
          "name": "stdout"
        },
        {
          "output_type": "stream",
          "text": [
            "100%|██████████| 117/117 [00:06<00:00, 17.16it/s]\n",
            "  2%|▏         | 2/117 [00:00<00:06, 17.68it/s]"
          ],
          "name": "stderr"
        },
        {
          "output_type": "stream",
          "text": [
            "--------------- Epoch # 15 ---------------\n"
          ],
          "name": "stdout"
        },
        {
          "output_type": "stream",
          "text": [
            "100%|██████████| 117/117 [00:06<00:00, 17.10it/s]\n",
            "  2%|▏         | 2/117 [00:00<00:06, 16.71it/s]"
          ],
          "name": "stderr"
        },
        {
          "output_type": "stream",
          "text": [
            "--------------- Epoch # 16 ---------------\n"
          ],
          "name": "stdout"
        },
        {
          "output_type": "stream",
          "text": [
            "100%|██████████| 117/117 [00:06<00:00, 17.11it/s]\n",
            "  2%|▏         | 2/117 [00:00<00:06, 17.24it/s]"
          ],
          "name": "stderr"
        },
        {
          "output_type": "stream",
          "text": [
            "--------------- Epoch # 17 ---------------\n"
          ],
          "name": "stdout"
        },
        {
          "output_type": "stream",
          "text": [
            "100%|██████████| 117/117 [00:06<00:00, 17.12it/s]\n",
            "  2%|▏         | 2/117 [00:00<00:06, 17.46it/s]"
          ],
          "name": "stderr"
        },
        {
          "output_type": "stream",
          "text": [
            "--------------- Epoch # 18 ---------------\n"
          ],
          "name": "stdout"
        },
        {
          "output_type": "stream",
          "text": [
            "100%|██████████| 117/117 [00:06<00:00, 17.09it/s]\n",
            "  2%|▏         | 2/117 [00:00<00:06, 17.61it/s]"
          ],
          "name": "stderr"
        },
        {
          "output_type": "stream",
          "text": [
            "--------------- Epoch # 19 ---------------\n"
          ],
          "name": "stdout"
        },
        {
          "output_type": "stream",
          "text": [
            "100%|██████████| 117/117 [00:06<00:00, 17.11it/s]\n",
            "  2%|▏         | 2/117 [00:00<00:06, 17.33it/s]"
          ],
          "name": "stderr"
        },
        {
          "output_type": "stream",
          "text": [
            "--------------- Epoch # 20 ---------------\n"
          ],
          "name": "stdout"
        },
        {
          "output_type": "stream",
          "text": [
            "100%|██████████| 117/117 [00:06<00:00, 17.09it/s]\n",
            "  2%|▏         | 2/117 [00:00<00:06, 16.65it/s]"
          ],
          "name": "stderr"
        },
        {
          "output_type": "stream",
          "text": [
            "--------------- Epoch # 21 ---------------\n"
          ],
          "name": "stdout"
        },
        {
          "output_type": "stream",
          "text": [
            "100%|██████████| 117/117 [00:06<00:00, 16.97it/s]\n",
            "  2%|▏         | 2/117 [00:00<00:06, 16.88it/s]"
          ],
          "name": "stderr"
        },
        {
          "output_type": "stream",
          "text": [
            "--------------- Epoch # 22 ---------------\n"
          ],
          "name": "stdout"
        },
        {
          "output_type": "stream",
          "text": [
            "100%|██████████| 117/117 [00:06<00:00, 16.73it/s]\n",
            "  2%|▏         | 2/117 [00:00<00:06, 16.78it/s]"
          ],
          "name": "stderr"
        },
        {
          "output_type": "stream",
          "text": [
            "--------------- Epoch # 23 ---------------\n"
          ],
          "name": "stdout"
        },
        {
          "output_type": "stream",
          "text": [
            "100%|██████████| 117/117 [00:06<00:00, 17.04it/s]\n",
            "  2%|▏         | 2/117 [00:00<00:06, 17.63it/s]"
          ],
          "name": "stderr"
        },
        {
          "output_type": "stream",
          "text": [
            "--------------- Epoch # 24 ---------------\n"
          ],
          "name": "stdout"
        },
        {
          "output_type": "stream",
          "text": [
            "100%|██████████| 117/117 [00:06<00:00, 17.33it/s]\n",
            "  2%|▏         | 2/117 [00:00<00:06, 18.23it/s]"
          ],
          "name": "stderr"
        },
        {
          "output_type": "stream",
          "text": [
            "--------------- Epoch # 25 ---------------\n"
          ],
          "name": "stdout"
        },
        {
          "output_type": "stream",
          "text": [
            "100%|██████████| 117/117 [00:06<00:00, 17.68it/s]\n",
            "  2%|▏         | 2/117 [00:00<00:06, 16.78it/s]"
          ],
          "name": "stderr"
        },
        {
          "output_type": "stream",
          "text": [
            "--------------- Epoch # 26 ---------------\n"
          ],
          "name": "stdout"
        },
        {
          "output_type": "stream",
          "text": [
            "100%|██████████| 117/117 [00:06<00:00, 17.37it/s]\n",
            "  2%|▏         | 2/117 [00:00<00:06, 18.45it/s]"
          ],
          "name": "stderr"
        },
        {
          "output_type": "stream",
          "text": [
            "--------------- Epoch # 27 ---------------\n"
          ],
          "name": "stdout"
        },
        {
          "output_type": "stream",
          "text": [
            "100%|██████████| 117/117 [00:06<00:00, 17.68it/s]\n",
            "  2%|▏         | 2/117 [00:00<00:06, 18.26it/s]"
          ],
          "name": "stderr"
        },
        {
          "output_type": "stream",
          "text": [
            "--------------- Epoch # 28 ---------------\n"
          ],
          "name": "stdout"
        },
        {
          "output_type": "stream",
          "text": [
            "100%|██████████| 117/117 [00:06<00:00, 17.68it/s]\n",
            "  2%|▏         | 2/117 [00:00<00:06, 16.92it/s]"
          ],
          "name": "stderr"
        },
        {
          "output_type": "stream",
          "text": [
            "--------------- Epoch # 29 ---------------\n"
          ],
          "name": "stdout"
        },
        {
          "output_type": "stream",
          "text": [
            "100%|██████████| 117/117 [00:06<00:00, 17.59it/s]\n",
            "  2%|▏         | 2/117 [00:00<00:06, 17.69it/s]"
          ],
          "name": "stderr"
        },
        {
          "output_type": "stream",
          "text": [
            "--------------- Epoch # 30 ---------------\n"
          ],
          "name": "stdout"
        },
        {
          "output_type": "stream",
          "text": [
            "100%|██████████| 117/117 [00:06<00:00, 17.67it/s]\n",
            "  2%|▏         | 2/117 [00:00<00:06, 16.45it/s]"
          ],
          "name": "stderr"
        },
        {
          "output_type": "stream",
          "text": [
            "--------------- Epoch # 31 ---------------\n"
          ],
          "name": "stdout"
        },
        {
          "output_type": "stream",
          "text": [
            "100%|██████████| 117/117 [00:06<00:00, 17.62it/s]\n",
            "  2%|▏         | 2/117 [00:00<00:06, 18.09it/s]"
          ],
          "name": "stderr"
        },
        {
          "output_type": "stream",
          "text": [
            "--------------- Epoch # 32 ---------------\n"
          ],
          "name": "stdout"
        },
        {
          "output_type": "stream",
          "text": [
            "100%|██████████| 117/117 [00:06<00:00, 17.61it/s]\n",
            "  2%|▏         | 2/117 [00:00<00:06, 16.87it/s]"
          ],
          "name": "stderr"
        },
        {
          "output_type": "stream",
          "text": [
            "--------------- Epoch # 33 ---------------\n"
          ],
          "name": "stdout"
        },
        {
          "output_type": "stream",
          "text": [
            "100%|██████████| 117/117 [00:06<00:00, 17.65it/s]\n",
            "  2%|▏         | 2/117 [00:00<00:06, 17.48it/s]"
          ],
          "name": "stderr"
        },
        {
          "output_type": "stream",
          "text": [
            "--------------- Epoch # 34 ---------------\n"
          ],
          "name": "stdout"
        },
        {
          "output_type": "stream",
          "text": [
            "100%|██████████| 117/117 [00:06<00:00, 17.77it/s]\n",
            "  2%|▏         | 2/117 [00:00<00:06, 18.00it/s]"
          ],
          "name": "stderr"
        },
        {
          "output_type": "stream",
          "text": [
            "--------------- Epoch # 35 ---------------\n"
          ],
          "name": "stdout"
        },
        {
          "output_type": "stream",
          "text": [
            "100%|██████████| 117/117 [00:06<00:00, 17.59it/s]\n",
            "  2%|▏         | 2/117 [00:00<00:06, 16.54it/s]"
          ],
          "name": "stderr"
        },
        {
          "output_type": "stream",
          "text": [
            "--------------- Epoch # 36 ---------------\n"
          ],
          "name": "stdout"
        },
        {
          "output_type": "stream",
          "text": [
            "100%|██████████| 117/117 [00:06<00:00, 17.55it/s]\n",
            "  2%|▏         | 2/117 [00:00<00:06, 18.14it/s]"
          ],
          "name": "stderr"
        },
        {
          "output_type": "stream",
          "text": [
            "--------------- Epoch # 37 ---------------\n"
          ],
          "name": "stdout"
        },
        {
          "output_type": "stream",
          "text": [
            "100%|██████████| 117/117 [00:06<00:00, 17.65it/s]\n",
            "  2%|▏         | 2/117 [00:00<00:06, 18.02it/s]"
          ],
          "name": "stderr"
        },
        {
          "output_type": "stream",
          "text": [
            "--------------- Epoch # 38 ---------------\n"
          ],
          "name": "stdout"
        },
        {
          "output_type": "stream",
          "text": [
            "100%|██████████| 117/117 [00:06<00:00, 17.67it/s]\n",
            "  2%|▏         | 2/117 [00:00<00:06, 17.82it/s]"
          ],
          "name": "stderr"
        },
        {
          "output_type": "stream",
          "text": [
            "--------------- Epoch # 39 ---------------\n"
          ],
          "name": "stdout"
        },
        {
          "output_type": "stream",
          "text": [
            "100%|██████████| 117/117 [00:06<00:00, 17.74it/s]\n",
            "  2%|▏         | 2/117 [00:00<00:06, 18.00it/s]"
          ],
          "name": "stderr"
        },
        {
          "output_type": "stream",
          "text": [
            "--------------- Epoch # 40 ---------------\n"
          ],
          "name": "stdout"
        },
        {
          "output_type": "stream",
          "text": [
            "100%|██████████| 117/117 [00:06<00:00, 17.64it/s]\n"
          ],
          "name": "stderr"
        },
        {
          "output_type": "display_data",
          "data": {
            "image/png": "[encoded data removed]",
            "text/plain": [
              "<Figure size 216x216 with 9 Axes>"
            ]
          },
          "metadata": {
            "tags": []
          }
        },
        {
          "output_type": "display_data",
          "data": {
            "image/png": "[encoded data removed]",
            "text/plain": [
              "<Figure size 216x216 with 9 Axes>"
            ]
          },
          "metadata": {
            "tags": []
          }
        },
        {
          "output_type": "display_data",
          "data": {
            "image/png": "[encoded data removed]",
            "text/plain": [
              "<Figure size 216x216 with 9 Axes>"
            ]
          },
          "metadata": {
            "tags": []
          }
        },
        {
          "output_type": "display_data",
          "data": {
            "image/png": "[encoded data removed]",
            "text/plain": [
              "<Figure size 216x216 with 9 Axes>"
            ]
          },
          "metadata": {
            "tags": []
          }
        },
        {
          "output_type": "display_data",
          "data": {
            "image/png": "[encoded data removed]",
            "text/plain": [
              "<Figure size 216x216 with 9 Axes>"
            ]
          },
          "metadata": {
            "tags": []
          }
        },
        {
          "output_type": "display_data",
          "data": {
            "image/png": "[encoded data removed]",
            "text/plain": [
              "<Figure size 216x216 with 9 Axes>"
            ]
          },
          "metadata": {
            "tags": []
          }
        },
        {
          "output_type": "display_data",
          "data": {
            "image/png": "[encoded data removed]",
            "text/plain": [
              "<Figure size 216x216 with 9 Axes>"
            ]
          },
          "metadata": {
            "tags": []
          }
        },
        {
          "output_type": "display_data",
          "data": {
            "image/png": "[encoded data removed]",
            "text/plain": [
              "<Figure size 216x216 with 9 Axes>"
            ]
          },
          "metadata": {
            "tags": []
          }
        },
        {
          "output_type": "display_data",
          "data": {
            "image/png": "[encoded data removed]",
            "text/plain": [
              "<Figure size 216x216 with 9 Axes>"
            ]
          },
          "metadata": {
            "tags": []
          }
        }
      ]
    },
    {
      "cell_type": "code",
      "metadata": {
        "id": "dICe0xjUPV17",
        "colab_type": "code",
        "colab": {}
      },
      "source": [
        ""
      ],
      "execution_count": 0,
      "outputs": []
    }
  ]
}