{
  "nbformat": 4,
  "nbformat_minor": 0,
  "metadata": {
    "kernelspec": {
      "name": "python3",
      "display_name": "Python 3"
    },
    "colab": {
      "name": "LinearRegressionPytorch.ipynb",
      "version": "0.3.2",
      "provenance": [],
      "collapsed_sections": []
    },
    "accelerator": "GPU"
  },
  "cells": [
    {
      "cell_type": "markdown",
      "metadata": {
        "id": "HtBmL-s-ADgx",
        "colab_type": "text"
      },
      "source": [
        "## Creating Dataset"
      ]
    },
    {
      "cell_type": "code",
      "metadata": {
        "id": "eNYBhSFPYNlw",
        "colab_type": "code",
        "colab": {}
      },
      "source": [
        "x_values=[i for i in range(11)]"
      ],
      "execution_count": 0,
      "outputs": []
    },
    {
      "cell_type": "code",
      "metadata": {
        "id": "9udeseZ4YNmB",
        "colab_type": "code",
        "outputId": "d86725f4-a826-4887-a3ce-8e8aaf28d562",
        "colab": {
          "base_uri": "https://localhost:8080/",
          "height": 34
        }
      },
      "source": [
        "x_values"
      ],
      "execution_count": 2,
      "outputs": [
        {
          "output_type": "execute_result",
          "data": {
            "text/plain": [
              "[0, 1, 2, 3, 4, 5, 6, 7, 8, 9, 10]"
            ]
          },
          "metadata": {
            "tags": []
          },
          "execution_count": 2
        }
      ]
    },
    {
      "cell_type": "code",
      "metadata": {
        "id": "syynsvG8YNmY",
        "colab_type": "code",
        "colab": {}
      },
      "source": [
        "y_values=[2*i +1 for i in range(11) ] "
      ],
      "execution_count": 0,
      "outputs": []
    },
    {
      "cell_type": "code",
      "metadata": {
        "id": "vWVp-nixYNmj",
        "colab_type": "code",
        "outputId": "f7dcf698-593f-4649-e30f-e57c8549a225",
        "colab": {
          "base_uri": "https://localhost:8080/",
          "height": 34
        }
      },
      "source": [
        "y_values"
      ],
      "execution_count": 4,
      "outputs": [
        {
          "output_type": "execute_result",
          "data": {
            "text/plain": [
              "[1, 3, 5, 7, 9, 11, 13, 15, 17, 19, 21]"
            ]
          },
          "metadata": {
            "tags": []
          },
          "execution_count": 4
        }
      ]
    },
    {
      "cell_type": "code",
      "metadata": {
        "id": "w1JfvCbRYNnI",
        "colab_type": "code",
        "colab": {}
      },
      "source": [
        "import numpy as np"
      ],
      "execution_count": 0,
      "outputs": []
    },
    {
      "cell_type": "code",
      "metadata": {
        "id": "clS2gJ2NYNnT",
        "colab_type": "code",
        "outputId": "cb633d6e-dac2-49f2-e9bc-87b24acb3abf",
        "colab": {
          "base_uri": "https://localhost:8080/",
          "height": 34
        }
      },
      "source": [
        "x_train=np.array(x_values,dtype= np.float32)\n",
        "x_train.shape"
      ],
      "execution_count": 6,
      "outputs": [
        {
          "output_type": "execute_result",
          "data": {
            "text/plain": [
              "(11,)"
            ]
          },
          "metadata": {
            "tags": []
          },
          "execution_count": 6
        }
      ]
    },
    {
      "cell_type": "code",
      "metadata": {
        "id": "8FeYYc-5YNno",
        "colab_type": "code",
        "colab": {}
      },
      "source": [
        " x_train =x_train.reshape(-1,1)"
      ],
      "execution_count": 0,
      "outputs": []
    },
    {
      "cell_type": "code",
      "metadata": {
        "id": "GAlzAOOFYNny",
        "colab_type": "code",
        "outputId": "906e1eda-6b00-473e-cfa2-54cf7d1f4851",
        "colab": {
          "base_uri": "https://localhost:8080/",
          "height": 34
        }
      },
      "source": [
        "y_train=np.array(y_values,dtype=np.float32)\n",
        "y_train.shape"
      ],
      "execution_count": 8,
      "outputs": [
        {
          "output_type": "execute_result",
          "data": {
            "text/plain": [
              "(11,)"
            ]
          },
          "metadata": {
            "tags": []
          },
          "execution_count": 8
        }
      ]
    },
    {
      "cell_type": "code",
      "metadata": {
        "id": "9hxU19JrYNoT",
        "colab_type": "code",
        "outputId": "ed8e1087-c8ce-4018-8a09-3e07217601bb",
        "colab": {
          "base_uri": "https://localhost:8080/",
          "height": 34
        }
      },
      "source": [
        "y_train=y_train.reshape(-1,1)\n",
        "y_train.shape"
      ],
      "execution_count": 9,
      "outputs": [
        {
          "output_type": "execute_result",
          "data": {
            "text/plain": [
              "(11, 1)"
            ]
          },
          "metadata": {
            "tags": []
          },
          "execution_count": 9
        }
      ]
    },
    {
      "cell_type": "code",
      "metadata": {
        "id": "ggZIo7AIYNod",
        "colab_type": "code",
        "colab": {}
      },
      "source": [
        "import torch\n",
        "import torch.nn as nn\n",
        "from torch.autograd import Variable"
      ],
      "execution_count": 0,
      "outputs": []
    },
    {
      "cell_type": "code",
      "metadata": {
        "id": "TyhX2ZfUYNop",
        "colab_type": "code",
        "colab": {}
      },
      "source": [
        ""
      ],
      "execution_count": 0,
      "outputs": []
    },
    {
      "cell_type": "markdown",
      "metadata": {
        "id": "QHZWhMNAYNo0",
        "colab_type": "text"
      },
      "source": [
        "## Create Model"
      ]
    },
    {
      "cell_type": "code",
      "metadata": {
        "id": "qMs8yYeWstD1",
        "colab_type": "code",
        "colab": {}
      },
      "source": [
        "from torch import *"
      ],
      "execution_count": 0,
      "outputs": []
    },
    {
      "cell_type": "code",
      "metadata": {
        "id": "oqt9_XFfsqqj",
        "colab_type": "code",
        "colab": {}
      },
      "source": [
        "class LinearRM(nn.Module):\n",
        "  def __init__(self,in_dim,out_dim):\n",
        "    super(LinearRM,self).__init__()\n",
        "    self.linear=nn.Linear(in_dim,out_dim)\n",
        "    \n",
        "  def forward(self,x):\n",
        "    out=self.linear(x)\n",
        "    return out"
      ],
      "execution_count": 0,
      "outputs": []
    },
    {
      "cell_type": "code",
      "metadata": {
        "id": "2VSITp9nk0xH",
        "colab_type": "code",
        "colab": {}
      },
      "source": [
        "in_dim=1\n",
        "out_dim=1\n",
        "model = LinearRM(in_dim,out_dim)"
      ],
      "execution_count": 0,
      "outputs": []
    },
    {
      "cell_type": "code",
      "metadata": {
        "id": "avAD8-RNP17l",
        "colab_type": "code",
        "colab": {}
      },
      "source": [
        "criterion= nn.MSELoss()"
      ],
      "execution_count": 0,
      "outputs": []
    },
    {
      "cell_type": "code",
      "metadata": {
        "id": "KbiT-yj6P14f",
        "colab_type": "code",
        "colab": {}
      },
      "source": [
        "lr = 0.01\n",
        "epochs=100"
      ],
      "execution_count": 0,
      "outputs": []
    },
    {
      "cell_type": "code",
      "metadata": {
        "id": "i5ebCzZCP11l",
        "colab_type": "code",
        "colab": {}
      },
      "source": [
        "optmzr = torch.optim.SGD(model.parameters(),lr = lr)"
      ],
      "execution_count": 0,
      "outputs": []
    },
    {
      "cell_type": "code",
      "metadata": {
        "id": "mnIVTMB5P1wG",
        "colab_type": "code",
        "colab": {
          "base_uri": "https://localhost:8080/",
          "height": 1000
        },
        "outputId": "2bcc651d-6a22-47b7-ee20-843a3dcc992e"
      },
      "source": [
        "epochs = 200\n",
        "for epoch in range(epochs):\n",
        "  \n",
        "  x= torch.from_numpy(x_train) #############Variable API is DEPRECATED now,EVERYTHING'S BEEN INCORPORATED IN TENSORS######################\n",
        "  y= torch.from_numpy(y_train)\n",
        "  \n",
        "  optmzr.zero_grad()\n",
        "  \n",
        "  output=model(x)\n",
        "  \n",
        "  loss=criterion(output,y)\n",
        "  \n",
        "  loss.backward()\n",
        "  \n",
        "  optmzr.step()\n",
        "  \n",
        "  print('epoch# : {} ::--::--:: loss : {}'.format(epoch+1,loss))"
      ],
      "execution_count": 80,
      "outputs": [
        {
          "output_type": "stream",
          "text": [
            "epoch# : 1 ::--::--:: loss : 64.0210418701\n",
            "epoch# : 2 ::--::--:: loss : 5.26064586639\n",
            "epoch# : 3 ::--::--:: loss : 0.467313706875\n",
            "epoch# : 4 ::--::--:: loss : 0.0759112015367\n",
            "epoch# : 5 ::--::--:: loss : 0.0435634180903\n",
            "epoch# : 6 ::--::--:: loss : 0.0405075550079\n",
            "epoch# : 7 ::--::--:: loss : 0.03984567523\n",
            "epoch# : 8 ::--::--:: loss : 0.0393836311996\n",
            "epoch# : 9 ::--::--:: loss : 0.038942489773\n",
            "epoch# : 10 ::--::--:: loss : 0.0385074838996\n",
            "epoch# : 11 ::--::--:: loss : 0.0380774512887\n",
            "epoch# : 12 ::--::--:: loss : 0.0376522764564\n",
            "epoch# : 13 ::--::--:: loss : 0.037231747061\n",
            "epoch# : 14 ::--::--:: loss : 0.0368160381913\n",
            "epoch# : 15 ::--::--:: loss : 0.0364049375057\n",
            "epoch# : 16 ::--::--:: loss : 0.0359984710813\n",
            "epoch# : 17 ::--::--:: loss : 0.03559634462\n",
            "epoch# : 18 ::--::--:: loss : 0.0351989232004\n",
            "epoch# : 19 ::--::--:: loss : 0.0348058156669\n",
            "epoch# : 20 ::--::--:: loss : 0.0344171449542\n",
            "epoch# : 21 ::--::--:: loss : 0.034032844007\n",
            "epoch# : 22 ::--::--:: loss : 0.0336527824402\n",
            "epoch# : 23 ::--::--:: loss : 0.0332769416273\n",
            "epoch# : 24 ::--::--:: loss : 0.0329054221511\n",
            "epoch# : 25 ::--::--:: loss : 0.0325378663838\n",
            "epoch# : 26 ::--::--:: loss : 0.032174590975\n",
            "epoch# : 27 ::--::--:: loss : 0.0318153239787\n",
            "epoch# : 28 ::--::--:: loss : 0.0314599983394\n",
            "epoch# : 29 ::--::--:: loss : 0.0311087351292\n",
            "epoch# : 30 ::--::--:: loss : 0.030761346221\n",
            "epoch# : 31 ::--::--:: loss : 0.0304177850485\n",
            "epoch# : 32 ::--::--:: loss : 0.0300781633705\n",
            "epoch# : 33 ::--::--:: loss : 0.0297422260046\n",
            "epoch# : 34 ::--::--:: loss : 0.0294101312757\n",
            "epoch# : 35 ::--::--:: loss : 0.0290817115456\n",
            "epoch# : 36 ::--::--:: loss : 0.0287570506334\n",
            "epoch# : 37 ::--::--:: loss : 0.0284358561039\n",
            "epoch# : 38 ::--::--:: loss : 0.0281183551997\n",
            "epoch# : 39 ::--::--:: loss : 0.027804331854\n",
            "epoch# : 40 ::--::--:: loss : 0.02749379538\n",
            "epoch# : 41 ::--::--:: loss : 0.0271867718548\n",
            "epoch# : 42 ::--::--:: loss : 0.0268831811845\n",
            "epoch# : 43 ::--::--:: loss : 0.0265830028802\n",
            "epoch# : 44 ::--::--:: loss : 0.0262861438096\n",
            "epoch# : 45 ::--::--:: loss : 0.0259925555438\n",
            "epoch# : 46 ::--::--:: loss : 0.0257023721933\n",
            "epoch# : 47 ::--::--:: loss : 0.0254153702408\n",
            "epoch# : 48 ::--::--:: loss : 0.0251316092908\n",
            "epoch# : 49 ::--::--:: loss : 0.0248509068042\n",
            "epoch# : 50 ::--::--:: loss : 0.0245734155178\n",
            "epoch# : 51 ::--::--:: loss : 0.0242990590632\n",
            "epoch# : 52 ::--::--:: loss : 0.0240276996046\n",
            "epoch# : 53 ::--::--:: loss : 0.0237593669444\n",
            "epoch# : 54 ::--::--:: loss : 0.0234939772636\n",
            "epoch# : 55 ::--::--:: loss : 0.0232317112386\n",
            "epoch# : 56 ::--::--:: loss : 0.0229722447693\n",
            "epoch# : 57 ::--::--:: loss : 0.0227156858891\n",
            "epoch# : 58 ::--::--:: loss : 0.0224620625377\n",
            "epoch# : 59 ::--::--:: loss : 0.0222112350166\n",
            "epoch# : 60 ::--::--:: loss : 0.0219632703811\n",
            "epoch# : 61 ::--::--:: loss : 0.0217178929597\n",
            "epoch# : 62 ::--::--:: loss : 0.0214754771441\n",
            "epoch# : 63 ::--::--:: loss : 0.0212355460972\n",
            "epoch# : 64 ::--::--:: loss : 0.0209985263646\n",
            "epoch# : 65 ::--::--:: loss : 0.0207639187574\n",
            "epoch# : 66 ::--::--:: loss : 0.0205321572721\n",
            "epoch# : 67 ::--::--:: loss : 0.0203028842807\n",
            "epoch# : 68 ::--::--:: loss : 0.0200761258602\n",
            "epoch# : 69 ::--::--:: loss : 0.0198519304395\n",
            "epoch# : 70 ::--::--:: loss : 0.0196302700788\n",
            "epoch# : 71 ::--::--:: loss : 0.0194110274315\n",
            "epoch# : 72 ::--::--:: loss : 0.0191942565143\n",
            "epoch# : 73 ::--::--:: loss : 0.0189799256623\n",
            "epoch# : 74 ::--::--:: loss : 0.0187680274248\n",
            "epoch# : 75 ::--::--:: loss : 0.0185584016144\n",
            "epoch# : 76 ::--::--:: loss : 0.0183511525393\n",
            "epoch# : 77 ::--::--:: loss : 0.0181462205946\n",
            "epoch# : 78 ::--::--:: loss : 0.0179436150938\n",
            "epoch# : 79 ::--::--:: loss : 0.0177432224154\n",
            "epoch# : 80 ::--::--:: loss : 0.0175451077521\n",
            "epoch# : 81 ::--::--:: loss : 0.0173491686583\n",
            "epoch# : 82 ::--::--:: loss : 0.0171554554254\n",
            "epoch# : 83 ::--::--:: loss : 0.0169639214873\n",
            "epoch# : 84 ::--::--:: loss : 0.0167744550854\n",
            "epoch# : 85 ::--::--:: loss : 0.0165871046484\n",
            "epoch# : 86 ::--::--:: loss : 0.0164018478245\n",
            "epoch# : 87 ::--::--:: loss : 0.0162187665701\n",
            "epoch# : 88 ::--::--:: loss : 0.0160376317799\n",
            "epoch# : 89 ::--::--:: loss : 0.0158585701138\n",
            "epoch# : 90 ::--::--:: loss : 0.0156814716756\n",
            "epoch# : 91 ::--::--:: loss : 0.0155063839629\n",
            "epoch# : 92 ::--::--:: loss : 0.015333224088\n",
            "epoch# : 93 ::--::--:: loss : 0.0151620144024\n",
            "epoch# : 94 ::--::--:: loss : 0.0149926561862\n",
            "epoch# : 95 ::--::--:: loss : 0.0148251950741\n",
            "epoch# : 96 ::--::--:: loss : 0.0146596785635\n",
            "epoch# : 97 ::--::--:: loss : 0.0144959827885\n",
            "epoch# : 98 ::--::--:: loss : 0.0143341114745\n",
            "epoch# : 99 ::--::--:: loss : 0.0141739845276\n",
            "epoch# : 100 ::--::--:: loss : 0.0140157369897\n",
            "epoch# : 101 ::--::--:: loss : 0.0138592394069\n",
            "epoch# : 102 ::--::--:: loss : 0.0137044861913\n",
            "epoch# : 103 ::--::--:: loss : 0.0135514959693\n",
            "epoch# : 104 ::--::--:: loss : 0.0134001383558\n",
            "epoch# : 105 ::--::--:: loss : 0.0132504245266\n",
            "epoch# : 106 ::--::--:: loss : 0.013102537021\n",
            "epoch# : 107 ::--::--:: loss : 0.0129562048241\n",
            "epoch# : 108 ::--::--:: loss : 0.0128115303814\n",
            "epoch# : 109 ::--::--:: loss : 0.0126684512943\n",
            "epoch# : 110 ::--::--:: loss : 0.0125269787386\n",
            "epoch# : 111 ::--::--:: loss : 0.0123870931566\n",
            "epoch# : 112 ::--::--:: loss : 0.0122488038614\n",
            "epoch# : 113 ::--::--:: loss : 0.012111954391\n",
            "epoch# : 114 ::--::--:: loss : 0.0119767347351\n",
            "epoch# : 115 ::--::--:: loss : 0.011842998676\n",
            "epoch# : 116 ::--::--:: loss : 0.0117107052356\n",
            "epoch# : 117 ::--::--:: loss : 0.0115800211206\n",
            "epoch# : 118 ::--::--:: loss : 0.0114507218823\n",
            "epoch# : 119 ::--::--:: loss : 0.0113227823749\n",
            "epoch# : 120 ::--::--:: loss : 0.0111964009702\n",
            "epoch# : 121 ::--::--:: loss : 0.0110713690519\n",
            "epoch# : 122 ::--::--:: loss : 0.0109476568177\n",
            "epoch# : 123 ::--::--:: loss : 0.0108254570514\n",
            "epoch# : 124 ::--::--:: loss : 0.0107045089826\n",
            "epoch# : 125 ::--::--:: loss : 0.0105850622058\n",
            "epoch# : 126 ::--::--:: loss : 0.0104668606073\n",
            "epoch# : 127 ::--::--:: loss : 0.0103499209508\n",
            "epoch# : 128 ::--::--:: loss : 0.0102343661711\n",
            "epoch# : 129 ::--::--:: loss : 0.0101201087236\n",
            "epoch# : 130 ::--::--:: loss : 0.0100070703775\n",
            "epoch# : 131 ::--::--:: loss : 0.00989531353116\n",
            "epoch# : 132 ::--::--:: loss : 0.00978483445942\n",
            "epoch# : 133 ::--::--:: loss : 0.00967556517571\n",
            "epoch# : 134 ::--::--:: loss : 0.00956749543548\n",
            "epoch# : 135 ::--::--:: loss : 0.00946069508791\n",
            "epoch# : 136 ::--::--:: loss : 0.00935502815992\n",
            "epoch# : 137 ::--::--:: loss : 0.00925053842366\n",
            "epoch# : 138 ::--::--:: loss : 0.00914727337658\n",
            "epoch# : 139 ::--::--:: loss : 0.00904515851289\n",
            "epoch# : 140 ::--::--:: loss : 0.00894412212074\n",
            "epoch# : 141 ::--::--:: loss : 0.00884422939271\n",
            "epoch# : 142 ::--::--:: loss : 0.00874548312277\n",
            "epoch# : 143 ::--::--:: loss : 0.00864779576659\n",
            "epoch# : 144 ::--::--:: loss : 0.0085512585938\n",
            "epoch# : 145 ::--::--:: loss : 0.00845577660948\n",
            "epoch# : 146 ::--::--:: loss : 0.00836133398116\n",
            "epoch# : 147 ::--::--:: loss : 0.00826796330512\n",
            "epoch# : 148 ::--::--:: loss : 0.00817562639713\n",
            "epoch# : 149 ::--::--:: loss : 0.00808434747159\n",
            "epoch# : 150 ::--::--:: loss : 0.00799407903105\n",
            "epoch# : 151 ::--::--:: loss : 0.00790480431169\n",
            "epoch# : 152 ::--::--:: loss : 0.00781651586294\n",
            "epoch# : 153 ::--::--:: loss : 0.00772921927273\n",
            "epoch# : 154 ::--::--:: loss : 0.00764294341207\n",
            "epoch# : 155 ::--::--:: loss : 0.00755757279694\n",
            "epoch# : 156 ::--::--:: loss : 0.0074732224457\n",
            "epoch# : 157 ::--::--:: loss : 0.0073897303082\n",
            "epoch# : 158 ::--::--:: loss : 0.00730720162392\n",
            "epoch# : 159 ::--::--:: loss : 0.00722564058378\n",
            "epoch# : 160 ::--::--:: loss : 0.00714494660497\n",
            "epoch# : 161 ::--::--:: loss : 0.00706516578794\n",
            "epoch# : 162 ::--::--:: loss : 0.00698622036725\n",
            "epoch# : 163 ::--::--:: loss : 0.00690819509327\n",
            "epoch# : 164 ::--::--:: loss : 0.00683108903468\n",
            "epoch# : 165 ::--::--:: loss : 0.00675480999053\n",
            "epoch# : 166 ::--::--:: loss : 0.00667935190722\n",
            "epoch# : 167 ::--::--:: loss : 0.00660480232909\n",
            "epoch# : 168 ::--::--:: loss : 0.00653101922944\n",
            "epoch# : 169 ::--::--:: loss : 0.00645810971037\n",
            "epoch# : 170 ::--::--:: loss : 0.0063860011287\n",
            "epoch# : 171 ::--::--:: loss : 0.0063146664761\n",
            "epoch# : 172 ::--::--:: loss : 0.00624415185302\n",
            "epoch# : 173 ::--::--:: loss : 0.00617441209033\n",
            "epoch# : 174 ::--::--:: loss : 0.00610548723489\n",
            "epoch# : 175 ::--::--:: loss : 0.00603730930015\n",
            "epoch# : 176 ::--::--:: loss : 0.00596991833299\n",
            "epoch# : 177 ::--::--:: loss : 0.00590323004872\n",
            "epoch# : 178 ::--::--:: loss : 0.0058372952044\n",
            "epoch# : 179 ::--::--:: loss : 0.00577208772302\n",
            "epoch# : 180 ::--::--:: loss : 0.00570767000318\n",
            "epoch# : 181 ::--::--:: loss : 0.00564389536157\n",
            "epoch# : 182 ::--::--:: loss : 0.00558088999242\n",
            "epoch# : 183 ::--::--:: loss : 0.00551855843514\n",
            "epoch# : 184 ::--::--:: loss : 0.00545693654567\n",
            "epoch# : 185 ::--::--:: loss : 0.00539599824697\n",
            "epoch# : 186 ::--::--:: loss : 0.00533574447036\n",
            "epoch# : 187 ::--::--:: loss : 0.00527613935992\n",
            "epoch# : 188 ::--::--:: loss : 0.0052172569558\n",
            "epoch# : 189 ::--::--:: loss : 0.00515899900347\n",
            "epoch# : 190 ::--::--:: loss : 0.00510136783123\n",
            "epoch# : 191 ::--::--:: loss : 0.00504443701357\n",
            "epoch# : 192 ::--::--:: loss : 0.00498809618875\n",
            "epoch# : 193 ::--::--:: loss : 0.00493235699832\n",
            "epoch# : 194 ::--::--:: loss : 0.00487731117755\n",
            "epoch# : 195 ::--::--:: loss : 0.00482285534963\n",
            "epoch# : 196 ::--::--:: loss : 0.00476898439229\n",
            "epoch# : 197 ::--::--:: loss : 0.00471571274102\n",
            "epoch# : 198 ::--::--:: loss : 0.0046630599536\n",
            "epoch# : 199 ::--::--:: loss : 0.00461098738015\n",
            "epoch# : 200 ::--::--:: loss : 0.00455949129537\n"
          ],
          "name": "stdout"
        }
      ]
    },
    {
      "cell_type": "markdown",
      "metadata": {
        "id": "KSLI1b2qtXaR",
        "colab_type": "text"
      },
      "source": [
        "## **Inference**"
      ]
    },
    {
      "cell_type": "code",
      "metadata": {
        "id": "5RLKCt-1ttRn",
        "colab_type": "code",
        "colab": {}
      },
      "source": [
        "predictions= model(torch.from_numpy(x_train))"
      ],
      "execution_count": 0,
      "outputs": []
    },
    {
      "cell_type": "code",
      "metadata": {
        "id": "VaH87wctttNN",
        "colab_type": "code",
        "colab": {
          "base_uri": "https://localhost:8080/",
          "height": 208
        },
        "outputId": "98c9cdeb-7291-474d-99d2-172f00886e28"
      },
      "source": [
        "predictions=predictions.data.numpy()\n",
        "predictions"
      ],
      "execution_count": 95,
      "outputs": [
        {
          "output_type": "execute_result",
          "data": {
            "text/plain": [
              "array([[ 0.8743915],\n",
              "       [ 2.8924804],\n",
              "       [ 4.910569 ],\n",
              "       [ 6.928658 ],\n",
              "       [ 8.946747 ],\n",
              "       [10.964836 ],\n",
              "       [12.982924 ],\n",
              "       [15.001013 ],\n",
              "       [17.019102 ],\n",
              "       [19.037191 ],\n",
              "       [21.05528  ]], dtype=float32)"
            ]
          },
          "metadata": {
            "tags": []
          },
          "execution_count": 95
        }
      ]
    },
    {
      "cell_type": "code",
      "metadata": {
        "id": "VpWODYxGttHx",
        "colab_type": "code",
        "colab": {
          "base_uri": "https://localhost:8080/",
          "height": 208
        },
        "outputId": "fc233dba-6166-4b61-b683-ff5a12c7439d"
      },
      "source": [
        "y_train"
      ],
      "execution_count": 83,
      "outputs": [
        {
          "output_type": "execute_result",
          "data": {
            "text/plain": [
              "array([[ 1.],\n",
              "       [ 3.],\n",
              "       [ 5.],\n",
              "       [ 7.],\n",
              "       [ 9.],\n",
              "       [11.],\n",
              "       [13.],\n",
              "       [15.],\n",
              "       [17.],\n",
              "       [19.],\n",
              "       [21.]], dtype=float32)"
            ]
          },
          "metadata": {
            "tags": []
          },
          "execution_count": 83
        }
      ]
    },
    {
      "cell_type": "code",
      "metadata": {
        "id": "KjB58IFTttCO",
        "colab_type": "code",
        "colab": {}
      },
      "source": [
        "import matplotlib.pyplot as plt\n",
        "%matplotlib inline"
      ],
      "execution_count": 0,
      "outputs": []
    },
    {
      "cell_type": "code",
      "metadata": {
        "id": "kp6gIGxOuF6L",
        "colab_type": "code",
        "colab": {
          "base_uri": "https://localhost:8080/",
          "height": 269
        },
        "outputId": "cbb8a255-2708-4d61-f216-585a1bbef876"
      },
      "source": [
        "plt.clf()\n",
        "\n",
        "plt.plot(x_train,y_train,'--',label='True Data',alpha = 0.5)\n",
        "\n",
        "plt.plot(x_train,predictions,'ro',label='True Data',alpha = 0.5)\n",
        "\n",
        "plt.legend(loc='best')\n",
        "plt.show()"
      ],
      "execution_count": 113,
      "outputs": [
        {
          "output_type": "display_data",
          "data": {
            "image/png": "[encoded data removed]",
            "text/plain": [
              "<Figure size 432x288 with 1 Axes>"
            ]
          },
          "metadata": {
            "tags": []
          }
        }
      ]
    },
    {
      "cell_type": "code",
      "metadata": {
        "id": "1i8eu0DBuF3g",
        "colab_type": "code",
        "colab": {}
      },
      "source": [
        "torch.save(model.state_dict(),'linrm.pkl')"
      ],
      "execution_count": 0,
      "outputs": []
    }
  ]
}