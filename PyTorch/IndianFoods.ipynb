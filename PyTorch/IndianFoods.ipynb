{
  "nbformat": 4,
  "nbformat_minor": 0,
  "metadata": {
    "colab": {
      "name": "IndianFoods.ipynb",
      "provenance": [],
      "collapsed_sections": []
    },
    "kernelspec": {
      "name": "python3",
      "display_name": "Python 3"
    },
    "accelerator": "GPU"
  },
  "cells": [
    {
      "cell_type": "code",
      "metadata": {
        "id": "1WjwmbpINDmI",
        "colab_type": "code",
        "colab": {}
      },
      "source": [
        ""
      ],
      "execution_count": 0,
      "outputs": []
    },
    {
      "cell_type": "markdown",
      "metadata": {
        "id": "xJo-E6liD3-f",
        "colab_type": "text"
      },
      "source": [
        "## Blitz\n"
      ]
    },
    {
      "cell_type": "code",
      "metadata": {
        "id": "kJ75x-dBJRIM",
        "colab_type": "code",
        "colab": {}
      },
      "source": [
        ""
      ],
      "execution_count": 0,
      "outputs": []
    },
    {
      "cell_type": "code",
      "metadata": {
        "id": "Nr4HET8zJSHo",
        "colab_type": "code",
        "colab": {}
      },
      "source": [
        "from google.colab import drive\n",
        "drive.mount('/content/drive',force_remount = True)"
      ],
      "execution_count": 0,
      "outputs": []
    },
    {
      "cell_type": "code",
      "metadata": {
        "id": "-VUHu-pJKH27",
        "colab_type": "code",
        "colab": {}
      },
      "source": [
        "!ls"
      ],
      "execution_count": 0,
      "outputs": []
    },
    {
      "cell_type": "code",
      "metadata": {
        "id": "Nwh9O145D5Rv",
        "colab_type": "code",
        "colab": {}
      },
      "source": [
        "import time\n",
        "import copy\n",
        "import torch\n",
        "import torch.nn as nn\n",
        "import torch.optim as optim\n",
        "from torch.optim import lr_scheduler\n",
        "import os\n",
        "from torchvision import models,transforms,datasets\n",
        "import os"
      ],
      "execution_count": 0,
      "outputs": []
    },
    {
      "cell_type": "code",
      "metadata": {
        "id": "SANpfLNrI1rS",
        "colab_type": "code",
        "colab": {}
      },
      "source": [
        ""
      ],
      "execution_count": 0,
      "outputs": []
    },
    {
      "cell_type": "code",
      "metadata": {
        "id": "JFqFdv37KrPf",
        "colab_type": "code",
        "colab": {}
      },
      "source": [
        "data_transforms = {\n",
        "    'train': transforms.Compose([\n",
        "        transforms.RandomResizedCrop(224),\n",
        "        transforms.RandomHorizontalFlip(),\n",
        "        transforms. ToTensor(),\n",
        "    ]),\n",
        "    'test': transforms.Compose([\n",
        "        transforms.Resize(256),\n",
        "        transforms.CenterCrop(224),\n",
        "        transforms.ToTensor(),\n",
        "        ]),\n",
        "}\n",
        "\n",
        "data_dir = 'drive/My Drive/IndIan_Food_DatasetM'\n",
        "image_datasets = {x: datasets.ImageFolder(os.path.join(data_dir, x),\n",
        "                                          data_transforms[x])\n",
        "                  for x in ['train', 'test']}\n",
        "dataloaders = {x: torch.utils.data.DataLoader(image_datasets[x], batch_size=128,\n",
        "                                             shuffle=True, num_workers=4)\n",
        "              for x in ['train', 'test']}\n",
        "dataset_sizes = {x: len(image_datasets[x]) for x in ['train', 'test']}\n",
        "class_names = image_datasets['train'].classes\n",
        "\n",
        "device = torch.device(\"cuda:0\" if torch.cuda.is_available() else print(\"Enable GPU\"))\n"
      ],
      "execution_count": 0,
      "outputs": []
    },
    {
      "cell_type": "code",
      "metadata": {
        "id": "ON0Z-5O7A4Eh",
        "colab_type": "code",
        "colab": {}
      },
      "source": [
        "pretrained = models.vgg16_bn(pretrained=True)\n"
      ],
      "execution_count": 0,
      "outputs": []
    },
    {
      "cell_type": "code",
      "metadata": {
        "id": "3_dnPl-lBVQ3",
        "colab_type": "code",
        "colab": {}
      },
      "source": [
        "for param in pretrained.parameters():\n",
        "    pretrained.requires_grad_ = False"
      ],
      "execution_count": 0,
      "outputs": []
    },
    {
      "cell_type": "code",
      "metadata": {
        "id": "DZdPQruDcYgZ",
        "colab_type": "code",
        "colab": {}
      },
      "source": [
        ""
      ],
      "execution_count": 0,
      "outputs": []
    },
    {
      "cell_type": "markdown",
      "metadata": {
        "id": "QsR5__bGcZNT",
        "colab_type": "text"
      },
      "source": [
        "## Include in notes"
      ]
    },
    {
      "cell_type": "code",
      "metadata": {
        "id": "f9kwK3XAbzeY",
        "colab_type": "code",
        "outputId": "5f99c2e8-51e6-4a6e-f25b-51c9793100bb",
        "colab": {
          "base_uri": "https://localhost:8080/",
          "height": 69
        }
      },
      "source": [
        "for name, child in pretrained.named_children():\n",
        "    print(name)"
      ],
      "execution_count": 8,
      "outputs": [
        {
          "output_type": "stream",
          "text": [
            "features\n",
            "avgpool\n",
            "classifier\n"
          ],
          "name": "stdout"
        }
      ]
    },
    {
      "cell_type": "code",
      "metadata": {
        "id": "o3Ni0ajdI33V",
        "colab_type": "code",
        "outputId": "33dc94d0-9c5d-4f94-fc44-ab7fa09426c3",
        "colab": {
          "base_uri": "https://localhost:8080/",
          "height": 139
        }
      },
      "source": [
        "for n,c in pretrained.classifier.named_children():\n",
        "    print(n)"
      ],
      "execution_count": 9,
      "outputs": [
        {
          "output_type": "stream",
          "text": [
            "0\n",
            "1\n",
            "2\n",
            "3\n",
            "4\n",
            "5\n",
            "6\n"
          ],
          "name": "stdout"
        }
      ]
    },
    {
      "cell_type": "code",
      "metadata": {
        "id": "0Z87eTKvePoN",
        "colab_type": "code",
        "colab": {}
      },
      "source": [
        ""
      ],
      "execution_count": 0,
      "outputs": []
    },
    {
      "cell_type": "markdown",
      "metadata": {
        "id": "UnbgNIXHeQX4",
        "colab_type": "text"
      },
      "source": [
        "## Include"
      ]
    },
    {
      "cell_type": "code",
      "metadata": {
        "id": "iQyEzanpcW_U",
        "colab_type": "code",
        "outputId": "d6e7a144-4515-4cbc-c285-2d9c07f2f098",
        "colab": {
          "base_uri": "https://localhost:8080/",
          "height": 309
        }
      },
      "source": [
        "pretrained.fc.out_features #features means (hidden) units"
      ],
      "execution_count": 10,
      "outputs": [
        {
          "output_type": "error",
          "ename": "AttributeError",
          "evalue": "ignored",
          "traceback": [
            "\u001b[0;31m---------------------------------------------------------------------------\u001b[0m",
            "\u001b[0;31mAttributeError\u001b[0m                            Traceback (most recent call last)",
            "\u001b[0;32m<ipython-input-10-92c876eb3b05>\u001b[0m in \u001b[0;36m<module>\u001b[0;34m()\u001b[0m\n\u001b[0;32m----> 1\u001b[0;31m \u001b[0mpretrained\u001b[0m\u001b[0;34m.\u001b[0m\u001b[0mfc\u001b[0m\u001b[0;34m.\u001b[0m\u001b[0mout_features\u001b[0m \u001b[0;31m#features means (hidden) units\u001b[0m\u001b[0;34m\u001b[0m\u001b[0;34m\u001b[0m\u001b[0m\n\u001b[0m",
            "\u001b[0;32m/usr/local/lib/python3.6/dist-packages/torch/nn/modules/module.py\u001b[0m in \u001b[0;36m__getattr__\u001b[0;34m(self, name)\u001b[0m\n\u001b[1;32m    583\u001b[0m                 \u001b[0;32mreturn\u001b[0m \u001b[0mmodules\u001b[0m\u001b[0;34m[\u001b[0m\u001b[0mname\u001b[0m\u001b[0;34m]\u001b[0m\u001b[0;34m\u001b[0m\u001b[0;34m\u001b[0m\u001b[0m\n\u001b[1;32m    584\u001b[0m         raise AttributeError(\"'{}' object has no attribute '{}'\".format(\n\u001b[0;32m--> 585\u001b[0;31m             type(self).__name__, name))\n\u001b[0m\u001b[1;32m    586\u001b[0m \u001b[0;34m\u001b[0m\u001b[0m\n\u001b[1;32m    587\u001b[0m     \u001b[0;32mdef\u001b[0m \u001b[0m__setattr__\u001b[0m\u001b[0;34m(\u001b[0m\u001b[0mself\u001b[0m\u001b[0;34m,\u001b[0m \u001b[0mname\u001b[0m\u001b[0;34m,\u001b[0m \u001b[0mvalue\u001b[0m\u001b[0;34m)\u001b[0m\u001b[0;34m:\u001b[0m\u001b[0;34m\u001b[0m\u001b[0;34m\u001b[0m\u001b[0m\n",
            "\u001b[0;31mAttributeError\u001b[0m: 'VGG' object has no attribute 'fc'"
          ]
        }
      ]
    },
    {
      "cell_type": "code",
      "metadata": {
        "id": "MBBhg9YkNRKl",
        "colab_type": "code",
        "colab": {}
      },
      "source": [
        "class TransferLearn(nn.Module):\n",
        "    def __init__(self):\n",
        "        super(TransferLearn,self).__init__()\n",
        "        self.pretrained = models.resnet34(pretrained=True)\n",
        "        filters = self.pretrained.fc.in_features\n",
        "        for param in self.pretrained.parameters():\n",
        "          self.pretrained.requires_grad_ = False    #=INCLUDE=#Testing if we could send the parameters from forward() Hence not setting up the \"in/out_features\"#\n",
        "        self.pretrained.fc = nn.Linear(filters,128)                             ###ANSWER IS NO WE CAN'T!##########################\n",
        "        self.maxpool = nn.MaxPool2d(2)##as per keras' GLobal pooling layer\n",
        "        self.dropout = nn.Dropout(0.2)\n",
        "        self.out = nn.Linear(128,6)\n",
        "    def forward(self,imb):\n",
        "        x = self.pretrained(imb)\n",
        "        #x = self.maxpool(x)\n",
        "        x = self.dropout(x)\n",
        "        preds = self.out(x)\n",
        "        return preds"
      ],
      "execution_count": 0,
      "outputs": []
    },
    {
      "cell_type": "code",
      "metadata": {
        "id": "Z30Y2gjRWCWq",
        "colab_type": "code",
        "colab": {}
      },
      "source": [
        "device = torch.device(\"cuda:0\" if torch.cuda.is_available() else print(\"Enable GPU\"))\n"
      ],
      "execution_count": 0,
      "outputs": []
    },
    {
      "cell_type": "code",
      "metadata": {
        "id": "duJ7fD6-t3Ve",
        "colab_type": "code",
        "colab": {}
      },
      "source": [
        ""
      ],
      "execution_count": 0,
      "outputs": []
    },
    {
      "cell_type": "code",
      "metadata": {
        "id": "GTwQLXUzbxNR",
        "colab_type": "code",
        "colab": {}
      },
      "source": [
        "model = TransferLearn()\n",
        "model = model.to(device)"
      ],
      "execution_count": 0,
      "outputs": []
    },
    {
      "cell_type": "code",
      "metadata": {
        "id": "Y3GJnRU98Vbg",
        "colab_type": "code",
        "colab": {}
      },
      "source": [
        "if torch.cuda.is_available():\n",
        "    model.cuda()"
      ],
      "execution_count": 0,
      "outputs": []
    },
    {
      "cell_type": "code",
      "metadata": {
        "id": "TREn74RK4WGW",
        "colab_type": "code",
        "colab": {}
      },
      "source": [
        "criterion = nn.CrossEntropyLoss()\n"
      ],
      "execution_count": 0,
      "outputs": []
    },
    {
      "cell_type": "code",
      "metadata": {
        "id": "zqhtu1lj4WES",
        "colab_type": "code",
        "colab": {}
      },
      "source": [
        "optimizer = optim.SGD(model.parameters(),lr = 0.001,momentum = 0.9)\n",
        "exp_lr_scheduler = lr_scheduler.StepLR(optimizer,step_size = 7, gamma = 0.1)\n"
      ],
      "execution_count": 0,
      "outputs": []
    },
    {
      "cell_type": "code",
      "metadata": {
        "id": "wQWEMMUtt4no",
        "colab_type": "code",
        "colab": {}
      },
      "source": [
        ""
      ],
      "execution_count": 0,
      "outputs": []
    },
    {
      "cell_type": "code",
      "metadata": {
        "id": "lJifad3w8Pmw",
        "colab_type": "code",
        "colab": {}
      },
      "source": [
        "def train(model,optimizer,criterion,epochs = 25):\n",
        "    since = time.time()\n",
        "    \n",
        "    best_model_wts = copy.deepcopy(model.state_dict())\n",
        "    best_acc = 0.0\n",
        "    \n",
        "    for epoch in range(epochs):\n",
        "        print(\"Epoch {}/{}\".format(epoch+1,epochs))\n",
        "        print('-'*10)\n",
        "        \n",
        "        for phase in ['train','test']:\n",
        "            if phase == 'train':\n",
        "                exp_lr_scheduler.step()\n",
        "                model.train()\n",
        "            else:\n",
        "                model.eval()\n",
        "            current_loss = 0.0\n",
        "            current_corrects = 0\n",
        "            \n",
        "            print('Iterating through {} data...'.format(phase))\n",
        "            \n",
        "            for images,labels in dataloaders[phase]:\n",
        "#                 print(type(images))\n",
        "#                 print(len(images))\n",
        "                images = images.to(device)\n",
        "                labels = labels.to(device)\n",
        "                \n",
        "                optimizer.zero_grad()\n",
        "                \n",
        "                with torch.set_grad_enabled(phase == 'train'):\n",
        "                    outputs = model(images)\n",
        "                    _,preds = torch.max(outputs,1)\n",
        "                    loss = criterion(outputs,labels)\n",
        "                    \n",
        "                    if phase == 'train':\n",
        "                        loss.backward()\n",
        "                        optimizer.step()\n",
        "                \n",
        "                \n",
        "                current_loss += loss.item()*images.size(0)\n",
        "                current_corrects += torch.sum(preds == labels.data)\n",
        "            \n",
        "            epoch_loss = current_loss / dataset_sizes[phase]\n",
        "            epoch_acc = current_corrects.double() /dataset_sizes[phase]\n",
        "            \n",
        "            print('{} Loss: {:.4f} Acc: {:.4f}'.format(phase,epoch_loss,epoch_acc))\n",
        "            \n",
        "            if phase == 'test' and epoch_acc > best_acc:\n",
        "                best_acc = epoch_acc\n",
        "                best_model_wts = copy.deepcopy(model.state_dict())\n",
        "                \n",
        "            print()\n",
        "            \n",
        "    time_since = time.time() - since\n",
        "    print('Training complete in {:.0f}m {:.0f}s'.format(\n",
        "        time_since // 60, time_since % 60))\n",
        "    print('Best val Acc: {:4f}'.format(best_acc))\n",
        "\n",
        "    # Now we'll load in the best model weights and return it\n",
        "    model.load_state_dict(best_model_wts)\n",
        "    return model        \n",
        "                "
      ],
      "execution_count": 0,
      "outputs": []
    },
    {
      "cell_type": "code",
      "metadata": {
        "id": "x-E6ffO_4WBy",
        "colab_type": "code",
        "outputId": "4d488271-eb7c-4811-a21a-df16a4f89350",
        "colab": {
          "base_uri": "https://localhost:8080/",
          "height": 1000
        }
      },
      "source": [
        "trained_model = train(model,optimizer,criterion)"
      ],
      "execution_count": 12,
      "outputs": [
        {
          "output_type": "stream",
          "text": [
            "Epoch 1/25\n",
            "----------\n",
            "Iterating through train data...\n"
          ],
          "name": "stdout"
        },
        {
          "output_type": "stream",
          "text": [
            "/usr/local/lib/python3.6/dist-packages/torch/optim/lr_scheduler.py:100: UserWarning: Detected call of `lr_scheduler.step()` before `optimizer.step()`. In PyTorch 1.1.0 and later, you should call them in the opposite order: `optimizer.step()` before `lr_scheduler.step()`.  Failure to do this will result in PyTorch skipping the first value of the learning rate schedule.See more details at https://pytorch.org/docs/stable/optim.html#how-to-adjust-learning-rate\n",
            "  \"https://pytorch.org/docs/stable/optim.html#how-to-adjust-learning-rate\", UserWarning)\n"
          ],
          "name": "stderr"
        },
        {
          "output_type": "stream",
          "text": [
            "train Loss: 1.6927 Acc: 0.3109\n",
            "\n",
            "Iterating through test data...\n",
            "test Loss: 1.2637 Acc: 0.7145\n",
            "\n",
            "Epoch 2/25\n",
            "----------\n",
            "Iterating through train data...\n",
            "train Loss: 1.1332 Acc: 0.6956\n",
            "\n",
            "Iterating through test data...\n",
            "test Loss: 0.5671 Acc: 0.9276\n",
            "\n",
            "Epoch 3/25\n",
            "----------\n",
            "Iterating through train data...\n",
            "train Loss: 0.7414 Acc: 0.8088\n",
            "\n",
            "Iterating through test data...\n",
            "test Loss: 0.2837 Acc: 0.9631\n",
            "\n",
            "Epoch 4/25\n",
            "----------\n",
            "Iterating through train data...\n",
            "train Loss: 0.5369 Acc: 0.8489\n",
            "\n",
            "Iterating through test data...\n",
            "test Loss: 0.1873 Acc: 0.9713\n",
            "\n",
            "Epoch 5/25\n",
            "----------\n",
            "Iterating through train data...\n",
            "train Loss: 0.4361 Acc: 0.8732\n",
            "\n",
            "Iterating through test data...\n",
            "test Loss: 0.1244 Acc: 0.9809\n",
            "\n",
            "Epoch 6/25\n",
            "----------\n",
            "Iterating through train data...\n",
            "train Loss: 0.3758 Acc: 0.8874\n",
            "\n",
            "Iterating through test data...\n",
            "test Loss: 0.1201 Acc: 0.9781\n",
            "\n",
            "Epoch 7/25\n",
            "----------\n",
            "Iterating through train data...\n",
            "train Loss: 0.3559 Acc: 0.8886\n",
            "\n",
            "Iterating through test data...\n",
            "test Loss: 0.0933 Acc: 0.9822\n",
            "\n",
            "Epoch 8/25\n",
            "----------\n",
            "Iterating through train data...\n",
            "train Loss: 0.3497 Acc: 0.8948\n",
            "\n",
            "Iterating through test data...\n",
            "test Loss: 0.0902 Acc: 0.9836\n",
            "\n",
            "Epoch 9/25\n",
            "----------\n",
            "Iterating through train data...\n",
            "train Loss: 0.3473 Acc: 0.8942\n",
            "\n",
            "Iterating through test data...\n",
            "test Loss: 0.0866 Acc: 0.9822\n",
            "\n",
            "Epoch 10/25\n",
            "----------\n",
            "Iterating through train data...\n",
            "train Loss: 0.3502 Acc: 0.8840\n",
            "\n",
            "Iterating through test data...\n",
            "test Loss: 0.0875 Acc: 0.9809\n",
            "\n",
            "Epoch 11/25\n",
            "----------\n",
            "Iterating through train data...\n",
            "train Loss: 0.3324 Acc: 0.8991\n",
            "\n",
            "Iterating through test data...\n",
            "test Loss: 0.0854 Acc: 0.9822\n",
            "\n",
            "Epoch 12/25\n",
            "----------\n",
            "Iterating through train data...\n",
            "train Loss: 0.3303 Acc: 0.8942\n",
            "\n",
            "Iterating through test data...\n",
            "test Loss: 0.0843 Acc: 0.9836\n",
            "\n",
            "Epoch 13/25\n",
            "----------\n",
            "Iterating through train data...\n",
            "train Loss: 0.3440 Acc: 0.8982\n",
            "\n",
            "Iterating through test data...\n",
            "test Loss: 0.0836 Acc: 0.9822\n",
            "\n",
            "Epoch 14/25\n",
            "----------\n",
            "Iterating through train data...\n",
            "train Loss: 0.3309 Acc: 0.8961\n",
            "\n",
            "Iterating through test data...\n",
            "test Loss: 0.0817 Acc: 0.9809\n",
            "\n",
            "Epoch 15/25\n",
            "----------\n",
            "Iterating through train data...\n",
            "train Loss: 0.3310 Acc: 0.8994\n",
            "\n",
            "Iterating through test data...\n",
            "test Loss: 0.0810 Acc: 0.9836\n",
            "\n",
            "Epoch 16/25\n",
            "----------\n",
            "Iterating through train data...\n",
            "train Loss: 0.3319 Acc: 0.8939\n",
            "\n",
            "Iterating through test data...\n",
            "test Loss: 0.0818 Acc: 0.9836\n",
            "\n",
            "Epoch 17/25\n",
            "----------\n",
            "Iterating through train data...\n",
            "train Loss: 0.3388 Acc: 0.8967\n",
            "\n",
            "Iterating through test data...\n",
            "test Loss: 0.0802 Acc: 0.9809\n",
            "\n",
            "Epoch 18/25\n",
            "----------\n",
            "Iterating through train data...\n",
            "train Loss: 0.3400 Acc: 0.8930\n",
            "\n",
            "Iterating through test data...\n",
            "test Loss: 0.0809 Acc: 0.9836\n",
            "\n",
            "Epoch 19/25\n",
            "----------\n",
            "Iterating through train data...\n",
            "train Loss: 0.3305 Acc: 0.8973\n",
            "\n",
            "Iterating through test data...\n",
            "test Loss: 0.0801 Acc: 0.9850\n",
            "\n",
            "Epoch 20/25\n",
            "----------\n",
            "Iterating through train data...\n",
            "train Loss: 0.3256 Acc: 0.9025\n",
            "\n",
            "Iterating through test data...\n",
            "test Loss: 0.0814 Acc: 0.9822\n",
            "\n",
            "Epoch 21/25\n",
            "----------\n",
            "Iterating through train data...\n",
            "train Loss: 0.3315 Acc: 0.8991\n",
            "\n",
            "Iterating through test data...\n",
            "test Loss: 0.0800 Acc: 0.9822\n",
            "\n",
            "Epoch 22/25\n",
            "----------\n",
            "Iterating through train data...\n",
            "train Loss: 0.3209 Acc: 0.9001\n",
            "\n",
            "Iterating through test data...\n",
            "test Loss: 0.0809 Acc: 0.9822\n",
            "\n",
            "Epoch 23/25\n",
            "----------\n",
            "Iterating through train data...\n",
            "train Loss: 0.3300 Acc: 0.8957\n",
            "\n",
            "Iterating through test data...\n",
            "test Loss: 0.0807 Acc: 0.9836\n",
            "\n",
            "Epoch 24/25\n",
            "----------\n",
            "Iterating through train data...\n",
            "train Loss: 0.3386 Acc: 0.8908\n",
            "\n",
            "Iterating through test data...\n",
            "test Loss: 0.0799 Acc: 0.9822\n",
            "\n",
            "Epoch 25/25\n",
            "----------\n",
            "Iterating through train data...\n",
            "train Loss: 0.3310 Acc: 0.8982\n",
            "\n",
            "Iterating through test data...\n",
            "test Loss: 0.0802 Acc: 0.9836\n",
            "\n",
            "Training complete in 5m 44s\n",
            "Best val Acc: 0.984973\n"
          ],
          "name": "stdout"
        }
      ]
    },
    {
      "cell_type": "code",
      "metadata": {
        "id": "2z08Cw-Lb0aj",
        "colab_type": "code",
        "colab": {}
      },
      "source": [
        ""
      ],
      "execution_count": 0,
      "outputs": []
    },
    {
      "cell_type": "code",
      "metadata": {
        "id": "I5KzwENtb0WQ",
        "colab_type": "code",
        "colab": {}
      },
      "source": [
        ""
      ],
      "execution_count": 0,
      "outputs": []
    },
    {
      "cell_type": "code",
      "metadata": {
        "id": "wre-TU0fb0TX",
        "colab_type": "code",
        "colab": {}
      },
      "source": [
        ""
      ],
      "execution_count": 0,
      "outputs": []
    },
    {
      "cell_type": "code",
      "metadata": {
        "id": "9vE1vO2Pb0O1",
        "colab_type": "code",
        "colab": {}
      },
      "source": [
        ""
      ],
      "execution_count": 0,
      "outputs": []
    },
    {
      "cell_type": "code",
      "metadata": {
        "id": "n3pNHhlHb0JI",
        "colab_type": "code",
        "colab": {}
      },
      "source": [
        ""
      ],
      "execution_count": 0,
      "outputs": []
    },
    {
      "cell_type": "code",
      "metadata": {
        "id": "g2giTENOY2Eb",
        "colab_type": "code",
        "colab": {
          "base_uri": "https://localhost:8080/",
          "height": 330
        },
        "outputId": "c79f4673-0479-4680-bd5e-89f83f71d693"
      },
      "source": [
        "trained_model = train(model,optimizer,criterion)"
      ],
      "execution_count": 23,
      "outputs": [
        {
          "output_type": "stream",
          "text": [
            "Epoch 1/2\n",
            "----------\n",
            "Iterating through train data...\n",
            "train Loss: 1.9508 Acc: 0.1798\n",
            "\n",
            "Iterating through test data...\n",
            "test Loss: 1.9468 Acc: 0.2281\n",
            "\n",
            "Epoch 2/2\n",
            "----------\n",
            "Iterating through train data...\n",
            "train Loss: 1.9421 Acc: 0.1869\n",
            "\n",
            "Iterating through test data...\n",
            "test Loss: 1.9504 Acc: 0.2022\n",
            "\n",
            "Training complete in 0m 27s\n",
            "Best val Acc: 0.228142\n"
          ],
          "name": "stdout"
        }
      ]
    },
    {
      "cell_type": "code",
      "metadata": {
        "id": "zAiUsZpH4V_O",
        "colab_type": "code",
        "colab": {
          "base_uri": "https://localhost:8080/",
          "height": 330
        },
        "outputId": "939067a0-d6e0-41d0-a5ca-0e1ba023c7cb"
      },
      "source": [
        "trained_model = train(model,optimizer,criterion)"
      ],
      "execution_count": 22,
      "outputs": [
        {
          "output_type": "stream",
          "text": [
            "Epoch 1/2\n",
            "----------\n",
            "Iterating through train data...\n",
            "train Loss: 1.9316 Acc: 0.1934\n",
            "\n",
            "Iterating through test data...\n",
            "test Loss: 1.9487 Acc: 0.2322\n",
            "\n",
            "Epoch 2/2\n",
            "----------\n",
            "Iterating through train data...\n",
            "train Loss: 1.9436 Acc: 0.1866\n",
            "\n",
            "Iterating through test data...\n",
            "test Loss: 1.9490 Acc: 0.1981\n",
            "\n",
            "Training complete in 0m 27s\n",
            "Best val Acc: 0.232240\n"
          ],
          "name": "stdout"
        }
      ]
    },
    {
      "cell_type": "code",
      "metadata": {
        "id": "PsLdRdvu4V7K",
        "colab_type": "code",
        "colab": {
          "base_uri": "https://localhost:8080/",
          "height": 332
        },
        "outputId": "3442c062-d418-4dc9-d684-3e63294980d1"
      },
      "source": [
        "!nvidia-smi"
      ],
      "execution_count": 1,
      "outputs": [
        {
          "output_type": "stream",
          "text": [
            "Sun Dec 29 11:17:08 2019       \n",
            "+-----------------------------------------------------------------------------+\n",
            "| NVIDIA-SMI 440.44       Driver Version: 418.67       CUDA Version: 10.1     |\n",
            "|-------------------------------+----------------------+----------------------+\n",
            "| GPU  Name        Persistence-M| Bus-Id        Disp.A | Volatile Uncorr. ECC |\n",
            "| Fan  Temp  Perf  Pwr:Usage/Cap|         Memory-Usage | GPU-Util  Compute M. |\n",
            "|===============================+======================+======================|\n",
            "|   0  Tesla P100-PCIE...  Off  | 00000000:00:04.0 Off |                    0 |\n",
            "| N/A   43C    P0    27W / 250W |      0MiB / 16280MiB |      0%      Default |\n",
            "+-------------------------------+----------------------+----------------------+\n",
            "                                                                               \n",
            "+-----------------------------------------------------------------------------+\n",
            "| Processes:                                                       GPU Memory |\n",
            "|  GPU       PID   Type   Process name                             Usage      |\n",
            "|=============================================================================|\n",
            "|  No running processes found                                                 |\n",
            "+-----------------------------------------------------------------------------+\n"
          ],
          "name": "stdout"
        }
      ]
    },
    {
      "cell_type": "code",
      "metadata": {
        "id": "P1xiZRPzZAch",
        "colab_type": "code",
        "colab": {
          "base_uri": "https://localhost:8080/",
          "height": 330
        },
        "outputId": "c5ef3f19-303b-4b5a-8ab7-1ae3a8286190"
      },
      "source": [
        "trained_model = train(model,optimizer,criterion)"
      ],
      "execution_count": 24,
      "outputs": [
        {
          "output_type": "stream",
          "text": [
            "Epoch 1/2\n",
            "----------\n",
            "Iterating through train data...\n",
            "train Loss: 1.9423 Acc: 0.1845\n",
            "\n",
            "Iterating through test data...\n",
            "test Loss: 1.9410 Acc: 0.2336\n",
            "\n",
            "Epoch 2/2\n",
            "----------\n",
            "Iterating through train data...\n",
            "train Loss: 1.9400 Acc: 0.1786\n",
            "\n",
            "Iterating through test data...\n",
            "test Loss: 1.9516 Acc: 0.1995\n",
            "\n",
            "Training complete in 0m 27s\n",
            "Best val Acc: 0.233607\n"
          ],
          "name": "stdout"
        }
      ]
    },
    {
      "cell_type": "code",
      "metadata": {
        "id": "1lnKu_6uZAZ0",
        "colab_type": "code",
        "colab": {
          "base_uri": "https://localhost:8080/",
          "height": 330
        },
        "outputId": "bce36795-50e2-4834-c193-87b0244c382d"
      },
      "source": [
        "trained_model = train(model,optimizer,criterion)"
      ],
      "execution_count": 25,
      "outputs": [
        {
          "output_type": "stream",
          "text": [
            "Epoch 1/2\n",
            "----------\n",
            "Iterating through train data...\n",
            "train Loss: 1.9482 Acc: 0.1909\n",
            "\n",
            "Iterating through test data...\n",
            "test Loss: 1.9450 Acc: 0.2309\n",
            "\n",
            "Epoch 2/2\n",
            "----------\n",
            "Iterating through train data...\n",
            "train Loss: 1.9418 Acc: 0.1965\n",
            "\n",
            "Iterating through test data...\n",
            "test Loss: 1.9512 Acc: 0.1995\n",
            "\n",
            "Training complete in 0m 27s\n",
            "Best val Acc: 0.230874\n"
          ],
          "name": "stdout"
        }
      ]
    },
    {
      "cell_type": "code",
      "metadata": {
        "id": "AY4afeb1ZAWr",
        "colab_type": "code",
        "colab": {
          "base_uri": "https://localhost:8080/",
          "height": 330
        },
        "outputId": "27f88ec0-8ac3-4caf-e35c-32087e79d594"
      },
      "source": [
        "trained_model = train(model,optimizer,criterion)"
      ],
      "execution_count": 26,
      "outputs": [
        {
          "output_type": "stream",
          "text": [
            "Epoch 1/2\n",
            "----------\n",
            "Iterating through train data...\n",
            "train Loss: 1.9513 Acc: 0.1854\n",
            "\n",
            "Iterating through test data...\n",
            "test Loss: 1.9470 Acc: 0.2281\n",
            "\n",
            "Epoch 2/2\n",
            "----------\n",
            "Iterating through train data...\n",
            "train Loss: 1.9426 Acc: 0.1851\n",
            "\n",
            "Iterating through test data...\n",
            "test Loss: 1.9539 Acc: 0.1967\n",
            "\n",
            "Training complete in 0m 27s\n",
            "Best val Acc: 0.228142\n"
          ],
          "name": "stdout"
        }
      ]
    },
    {
      "cell_type": "code",
      "metadata": {
        "id": "YH4EqtAqZAUf",
        "colab_type": "code",
        "colab": {
          "base_uri": "https://localhost:8080/",
          "height": 330
        },
        "outputId": "a8070d6e-bf09-4a45-800d-efe7023da44c"
      },
      "source": [
        "trained_model = train(model,optimizer,criterion)"
      ],
      "execution_count": 29,
      "outputs": [
        {
          "output_type": "stream",
          "text": [
            "Epoch 1/2\n",
            "----------\n",
            "Iterating through train data...\n",
            "train Loss: 1.9408 Acc: 0.1872\n",
            "\n",
            "Iterating through test data...\n",
            "test Loss: 1.9463 Acc: 0.2309\n",
            "\n",
            "Epoch 2/2\n",
            "----------\n",
            "Iterating through train data...\n",
            "train Loss: 1.9445 Acc: 0.1903\n",
            "\n",
            "Iterating through test data...\n",
            "test Loss: 1.9519 Acc: 0.2022\n",
            "\n",
            "Training complete in 0m 28s\n",
            "Best val Acc: 0.230874\n"
          ],
          "name": "stdout"
        }
      ]
    },
    {
      "cell_type": "code",
      "metadata": {
        "id": "ciZApl2bZASA",
        "colab_type": "code",
        "colab": {
          "base_uri": "https://localhost:8080/",
          "height": 330
        },
        "outputId": "8354fcd4-7b49-42a9-e840-f37601ed9a14"
      },
      "source": [
        "trained_model = train(model,optimizer,criterion)"
      ],
      "execution_count": 30,
      "outputs": [
        {
          "output_type": "stream",
          "text": [
            "Epoch 1/2\n",
            "----------\n",
            "Iterating through train data...\n",
            "train Loss: 1.9390 Acc: 0.1851\n",
            "\n",
            "Iterating through test data...\n",
            "test Loss: 1.9471 Acc: 0.2322\n",
            "\n",
            "Epoch 2/2\n",
            "----------\n",
            "Iterating through train data...\n",
            "train Loss: 1.9416 Acc: 0.1956\n",
            "\n",
            "Iterating through test data...\n",
            "test Loss: 1.9523 Acc: 0.2008\n",
            "\n",
            "Training complete in 0m 28s\n",
            "Best val Acc: 0.232240\n"
          ],
          "name": "stdout"
        }
      ]
    },
    {
      "cell_type": "code",
      "metadata": {
        "id": "qjQ4iDWSZAPS",
        "colab_type": "code",
        "colab": {
          "base_uri": "https://localhost:8080/",
          "height": 330
        },
        "outputId": "a6e3e638-7bf9-4b65-b1fc-7946594d5995"
      },
      "source": [
        "trained_model = train(model,optimizer,criterion)"
      ],
      "execution_count": 31,
      "outputs": [
        {
          "output_type": "stream",
          "text": [
            "Epoch 1/2\n",
            "----------\n",
            "Iterating through train data...\n",
            "train Loss: 1.9489 Acc: 0.1764\n",
            "\n",
            "Iterating through test data...\n",
            "test Loss: 1.9476 Acc: 0.2336\n",
            "\n",
            "Epoch 2/2\n",
            "----------\n",
            "Iterating through train data...\n",
            "train Loss: 1.9391 Acc: 0.1872\n",
            "\n",
            "Iterating through test data...\n",
            "test Loss: 1.9520 Acc: 0.2036\n",
            "\n",
            "Training complete in 0m 27s\n",
            "Best val Acc: 0.233607\n"
          ],
          "name": "stdout"
        }
      ]
    },
    {
      "cell_type": "code",
      "metadata": {
        "id": "IhpAiOafZALR",
        "colab_type": "code",
        "colab": {
          "base_uri": "https://localhost:8080/",
          "height": 330
        },
        "outputId": "738c7156-3ac6-421a-ae6a-6674c9a3b8ba"
      },
      "source": [
        "trained_model = train(model,optimizer,criterion)"
      ],
      "execution_count": 32,
      "outputs": [
        {
          "output_type": "stream",
          "text": [
            "Epoch 1/2\n",
            "----------\n",
            "Iterating through train data...\n",
            "train Loss: 1.9578 Acc: 0.1764\n",
            "\n",
            "Iterating through test data...\n",
            "test Loss: 1.9472 Acc: 0.2309\n",
            "\n",
            "Epoch 2/2\n",
            "----------\n",
            "Iterating through train data...\n",
            "train Loss: 1.9472 Acc: 0.1832\n",
            "\n",
            "Iterating through test data...\n",
            "test Loss: 1.9472 Acc: 0.2008\n",
            "\n",
            "Training complete in 0m 28s\n",
            "Best val Acc: 0.230874\n"
          ],
          "name": "stdout"
        }
      ]
    },
    {
      "cell_type": "code",
      "metadata": {
        "id": "XYU62V6HZAHI",
        "colab_type": "code",
        "colab": {
          "base_uri": "https://localhost:8080/",
          "height": 1000
        },
        "outputId": "73266b6f-4a8b-4c3e-905e-f78270be24a0"
      },
      "source": [
        "trained_model = train(model,optimizer,criterion,10)"
      ],
      "execution_count": 33,
      "outputs": [
        {
          "output_type": "stream",
          "text": [
            "Epoch 1/10\n",
            "----------\n",
            "Iterating through train data...\n",
            "train Loss: 1.9465 Acc: 0.1835\n",
            "\n",
            "Iterating through test data...\n",
            "test Loss: 1.9481 Acc: 0.2309\n",
            "\n",
            "Epoch 2/10\n",
            "----------\n",
            "Iterating through train data...\n",
            "train Loss: 1.9445 Acc: 0.1854\n",
            "\n",
            "Iterating through test data...\n",
            "test Loss: 1.9496 Acc: 0.1995\n",
            "\n",
            "Epoch 3/10\n",
            "----------\n",
            "Iterating through train data...\n",
            "train Loss: 1.9531 Acc: 0.1820\n",
            "\n",
            "Iterating through test data...\n",
            "test Loss: 1.9531 Acc: 0.1995\n",
            "\n",
            "Epoch 4/10\n",
            "----------\n",
            "Iterating through train data...\n",
            "train Loss: 1.9434 Acc: 0.1919\n",
            "\n",
            "Iterating through test data...\n",
            "test Loss: 1.9552 Acc: 0.1967\n",
            "\n",
            "Epoch 5/10\n",
            "----------\n",
            "Iterating through train data...\n",
            "train Loss: 1.9438 Acc: 0.1888\n",
            "\n",
            "Iterating through test data...\n",
            "test Loss: 1.9556 Acc: 0.1940\n",
            "\n",
            "Epoch 6/10\n",
            "----------\n",
            "Iterating through train data...\n",
            "train Loss: 1.9415 Acc: 0.1811\n",
            "\n",
            "Iterating through test data...\n",
            "test Loss: 1.9533 Acc: 0.1954\n",
            "\n",
            "Epoch 7/10\n",
            "----------\n",
            "Iterating through train data...\n",
            "train Loss: 1.9543 Acc: 0.1835\n",
            "\n",
            "Iterating through test data...\n",
            "test Loss: 1.9546 Acc: 0.1981\n",
            "\n",
            "Epoch 8/10\n",
            "----------\n",
            "Iterating through train data...\n",
            "train Loss: 1.9439 Acc: 0.1897\n",
            "\n",
            "Iterating through test data...\n",
            "test Loss: 1.9527 Acc: 0.1981\n",
            "\n",
            "Epoch 9/10\n",
            "----------\n",
            "Iterating through train data...\n",
            "train Loss: 1.9389 Acc: 0.1882\n",
            "\n",
            "Iterating through test data...\n",
            "test Loss: 1.9543 Acc: 0.1967\n",
            "\n",
            "Epoch 10/10\n",
            "----------\n",
            "Iterating through train data...\n",
            "train Loss: 1.9412 Acc: 0.1952\n",
            "\n",
            "Iterating through test data...\n",
            "test Loss: 1.9551 Acc: 0.1967\n",
            "\n",
            "Training complete in 2m 16s\n",
            "Best val Acc: 0.230874\n"
          ],
          "name": "stdout"
        }
      ]
    },
    {
      "cell_type": "code",
      "metadata": {
        "id": "npeejnfCZAD8",
        "colab_type": "code",
        "colab": {}
      },
      "source": [
        ""
      ],
      "execution_count": 0,
      "outputs": []
    },
    {
      "cell_type": "code",
      "metadata": {
        "id": "iTf-Iu0G4V35",
        "colab_type": "code",
        "colab": {}
      },
      "source": [
        ""
      ],
      "execution_count": 0,
      "outputs": []
    },
    {
      "cell_type": "code",
      "metadata": {
        "id": "FbJAXL3LNu_-",
        "colab_type": "code",
        "colab": {}
      },
      "source": [
        ""
      ],
      "execution_count": 0,
      "outputs": []
    },
    {
      "cell_type": "code",
      "metadata": {
        "id": "nJeIexnuNwAk",
        "colab_type": "code",
        "colab": {}
      },
      "source": [
        "import matplotlib.pyplot as plt\n",
        "%matplotlib inline"
      ],
      "execution_count": 0,
      "outputs": []
    },
    {
      "cell_type": "code",
      "metadata": {
        "id": "kmlHNNf2KrKW",
        "colab_type": "code",
        "colab": {}
      },
      "source": [
        "plt.imshow(img_datasets[342][0])"
      ],
      "execution_count": 0,
      "outputs": []
    },
    {
      "cell_type": "code",
      "metadata": {
        "id": "uNrzz3_JNWw7",
        "colab_type": "code",
        "colab": {}
      },
      "source": [
        "img_datasets = datasets.ImageFolder(os.path.join(data_dir, 'train'))"
      ],
      "execution_count": 0,
      "outputs": []
    },
    {
      "cell_type": "code",
      "metadata": {
        "id": "1gEC0-F7OxYJ",
        "colab_type": "code",
        "colab": {}
      },
      "source": [
        "?datasets.ImageFolder()"
      ],
      "execution_count": 0,
      "outputs": []
    },
    {
      "cell_type": "code",
      "metadata": {
        "id": "aIqiMI8WO6Nz",
        "colab_type": "code",
        "colab": {}
      },
      "source": [
        "!cat ../usr/local/lib/python3.6/dist-packages/torchvision/datasets/folder.py"
      ],
      "execution_count": 0,
      "outputs": []
    },
    {
      "cell_type": "code",
      "metadata": {
        "id": "1JGS03zaHbu9",
        "colab_type": "code",
        "colab": {}
      },
      "source": [
        ""
      ],
      "execution_count": 0,
      "outputs": []
    }
  ]
}